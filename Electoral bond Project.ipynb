{
 "cells": [
  {
   "cell_type": "markdown",
   "id": "dca955fd",
   "metadata": {},
   "source": [
    "## Electroral Bond Project:\n",
    "\n",
    "* This is an analysis of the data released by the ECI dated 14 March and contains record from 12 April 2019 to 24 Jan 2024"
   ]
  },
  {
   "cell_type": "markdown",
   "id": "374a71fd",
   "metadata": {},
   "source": [
    "#### Formating the data from CSV to Pandas"
   ]
  },
  {
   "cell_type": "code",
   "execution_count": 1,
   "id": "e12a9c11",
   "metadata": {},
   "outputs": [],
   "source": [
    "import pandas as pd"
   ]
  },
  {
   "cell_type": "code",
   "execution_count": 2,
   "id": "0fd7d609",
   "metadata": {},
   "outputs": [],
   "source": [
    "donor_data = pd.read_csv(\"donor.csv\").dropna()"
   ]
  },
  {
   "cell_type": "code",
   "execution_count": 3,
   "id": "f4bcf287",
   "metadata": {},
   "outputs": [],
   "source": [
    "party_data = pd.read_csv(\"party.csv\").dropna()"
   ]
  },
  {
   "cell_type": "code",
   "execution_count": 4,
   "id": "c92710f3",
   "metadata": {},
   "outputs": [
    {
     "data": {
      "text/html": [
       "<div>\n",
       "<style scoped>\n",
       "    .dataframe tbody tr th:only-of-type {\n",
       "        vertical-align: middle;\n",
       "    }\n",
       "\n",
       "    .dataframe tbody tr th {\n",
       "        vertical-align: top;\n",
       "    }\n",
       "\n",
       "    .dataframe thead th {\n",
       "        text-align: right;\n",
       "    }\n",
       "</style>\n",
       "<table border=\"1\" class=\"dataframe\">\n",
       "  <thead>\n",
       "    <tr style=\"text-align: right;\">\n",
       "      <th></th>\n",
       "      <th>Date of\\nEncashment</th>\n",
       "      <th>Name of the Political Party</th>\n",
       "      <th>Denomination</th>\n",
       "    </tr>\n",
       "  </thead>\n",
       "  <tbody>\n",
       "    <tr>\n",
       "      <th>0</th>\n",
       "      <td>12/Apr/2019</td>\n",
       "      <td>ALL INDIA ANNA DRAVIDA MUNNETRA KAZHAGAM</td>\n",
       "      <td>1000000.0</td>\n",
       "    </tr>\n",
       "    <tr>\n",
       "      <th>1</th>\n",
       "      <td>12/Apr/2019</td>\n",
       "      <td>ALL INDIA ANNA DRAVIDA MUNNETRA KAZHAGAM</td>\n",
       "      <td>1000000.0</td>\n",
       "    </tr>\n",
       "    <tr>\n",
       "      <th>2</th>\n",
       "      <td>12/Apr/2019</td>\n",
       "      <td>ALL INDIA ANNA DRAVIDA MUNNETRA KAZHAGAM</td>\n",
       "      <td>10000000.0</td>\n",
       "    </tr>\n",
       "    <tr>\n",
       "      <th>3</th>\n",
       "      <td>12/Apr/2019</td>\n",
       "      <td>ALL INDIA ANNA DRAVIDA MUNNETRA KAZHAGAM</td>\n",
       "      <td>1000000.0</td>\n",
       "    </tr>\n",
       "    <tr>\n",
       "      <th>4</th>\n",
       "      <td>12/Apr/2019</td>\n",
       "      <td>ALL INDIA ANNA DRAVIDA MUNNETRA KAZHAGAM</td>\n",
       "      <td>1000000.0</td>\n",
       "    </tr>\n",
       "    <tr>\n",
       "      <th>...</th>\n",
       "      <td>...</td>\n",
       "      <td>...</td>\n",
       "      <td>...</td>\n",
       "    </tr>\n",
       "    <tr>\n",
       "      <th>20841</th>\n",
       "      <td>24/Jan/2024</td>\n",
       "      <td>JANASENA PARTY</td>\n",
       "      <td>1000000.0</td>\n",
       "    </tr>\n",
       "    <tr>\n",
       "      <th>20842</th>\n",
       "      <td>24/Jan/2024</td>\n",
       "      <td>JANASENA PARTY</td>\n",
       "      <td>1000000.0</td>\n",
       "    </tr>\n",
       "    <tr>\n",
       "      <th>20843</th>\n",
       "      <td>24/Jan/2024</td>\n",
       "      <td>JANASENA PARTY</td>\n",
       "      <td>1000000.0</td>\n",
       "    </tr>\n",
       "    <tr>\n",
       "      <th>20844</th>\n",
       "      <td>24/Jan/2024</td>\n",
       "      <td>JANASENA PARTY</td>\n",
       "      <td>1000000.0</td>\n",
       "    </tr>\n",
       "    <tr>\n",
       "      <th>20845</th>\n",
       "      <td>24/Jan/2024</td>\n",
       "      <td>JANASENA PARTY</td>\n",
       "      <td>1000000.0</td>\n",
       "    </tr>\n",
       "  </tbody>\n",
       "</table>\n",
       "<p>20421 rows × 3 columns</p>\n",
       "</div>"
      ],
      "text/plain": [
       "      Date of\\nEncashment               Name of the Political Party  \\\n",
       "0             12/Apr/2019  ALL INDIA ANNA DRAVIDA MUNNETRA KAZHAGAM   \n",
       "1             12/Apr/2019  ALL INDIA ANNA DRAVIDA MUNNETRA KAZHAGAM   \n",
       "2             12/Apr/2019  ALL INDIA ANNA DRAVIDA MUNNETRA KAZHAGAM   \n",
       "3             12/Apr/2019  ALL INDIA ANNA DRAVIDA MUNNETRA KAZHAGAM   \n",
       "4             12/Apr/2019  ALL INDIA ANNA DRAVIDA MUNNETRA KAZHAGAM   \n",
       "...                   ...                                       ...   \n",
       "20841         24/Jan/2024                            JANASENA PARTY   \n",
       "20842         24/Jan/2024                            JANASENA PARTY   \n",
       "20843         24/Jan/2024                            JANASENA PARTY   \n",
       "20844         24/Jan/2024                            JANASENA PARTY   \n",
       "20845         24/Jan/2024                            JANASENA PARTY   \n",
       "\n",
       "       Denomination  \n",
       "0         1000000.0  \n",
       "1         1000000.0  \n",
       "2        10000000.0  \n",
       "3         1000000.0  \n",
       "4         1000000.0  \n",
       "...             ...  \n",
       "20841     1000000.0  \n",
       "20842     1000000.0  \n",
       "20843     1000000.0  \n",
       "20844     1000000.0  \n",
       "20845     1000000.0  \n",
       "\n",
       "[20421 rows x 3 columns]"
      ]
     },
     "execution_count": 4,
     "metadata": {},
     "output_type": "execute_result"
    }
   ],
   "source": [
    "party_data"
   ]
  },
  {
   "cell_type": "code",
   "execution_count": 5,
   "id": "8547ff2c",
   "metadata": {},
   "outputs": [
    {
     "data": {
      "text/html": [
       "<div>\n",
       "<style scoped>\n",
       "    .dataframe tbody tr th:only-of-type {\n",
       "        vertical-align: middle;\n",
       "    }\n",
       "\n",
       "    .dataframe tbody tr th {\n",
       "        vertical-align: top;\n",
       "    }\n",
       "\n",
       "    .dataframe thead th {\n",
       "        text-align: right;\n",
       "    }\n",
       "</style>\n",
       "<table border=\"1\" class=\"dataframe\">\n",
       "  <thead>\n",
       "    <tr style=\"text-align: right;\">\n",
       "      <th></th>\n",
       "      <th>Date of Purchase</th>\n",
       "      <th>Purchaser Name</th>\n",
       "      <th>Denomination</th>\n",
       "    </tr>\n",
       "  </thead>\n",
       "  <tbody>\n",
       "    <tr>\n",
       "      <th>0</th>\n",
       "      <td>12/Apr/2019</td>\n",
       "      <td>A B C INDIA LIMITED</td>\n",
       "      <td>100000.0</td>\n",
       "    </tr>\n",
       "    <tr>\n",
       "      <th>1</th>\n",
       "      <td>12/Apr/2019</td>\n",
       "      <td>A B C INDIA LIMITED</td>\n",
       "      <td>100000.0</td>\n",
       "    </tr>\n",
       "    <tr>\n",
       "      <th>2</th>\n",
       "      <td>12/Apr/2019</td>\n",
       "      <td>A B C INDIA LIMITED</td>\n",
       "      <td>1000000.0</td>\n",
       "    </tr>\n",
       "    <tr>\n",
       "      <th>3</th>\n",
       "      <td>12/Apr/2019</td>\n",
       "      <td>A B C INDIA LIMITED</td>\n",
       "      <td>1000000.0</td>\n",
       "    </tr>\n",
       "    <tr>\n",
       "      <th>4</th>\n",
       "      <td>12/Apr/2019</td>\n",
       "      <td>A B C INDIA LIMITED</td>\n",
       "      <td>100000.0</td>\n",
       "    </tr>\n",
       "    <tr>\n",
       "      <th>...</th>\n",
       "      <td>...</td>\n",
       "      <td>...</td>\n",
       "      <td>...</td>\n",
       "    </tr>\n",
       "    <tr>\n",
       "      <th>19202</th>\n",
       "      <td>11/Jan/2024</td>\n",
       "      <td>WESTWELL GASES PRIVATE LIMITED</td>\n",
       "      <td>10000000.0</td>\n",
       "    </tr>\n",
       "    <tr>\n",
       "      <th>19203</th>\n",
       "      <td>11/Jan/2024</td>\n",
       "      <td>WESTWELL GASES PRIVATE LIMITED</td>\n",
       "      <td>10000000.0</td>\n",
       "    </tr>\n",
       "    <tr>\n",
       "      <th>19204</th>\n",
       "      <td>11/Jan/2024</td>\n",
       "      <td>WESTWELL GASES PRIVATE LIMITED</td>\n",
       "      <td>10000000.0</td>\n",
       "    </tr>\n",
       "    <tr>\n",
       "      <th>19205</th>\n",
       "      <td>11/Jan/2024</td>\n",
       "      <td>WESTWELL GASES PRIVATE LIMITED</td>\n",
       "      <td>10000000.0</td>\n",
       "    </tr>\n",
       "    <tr>\n",
       "      <th>19206</th>\n",
       "      <td>11/Jan/2024</td>\n",
       "      <td>WESTWELL GASES PRIVATE LIMITED</td>\n",
       "      <td>10000000.0</td>\n",
       "    </tr>\n",
       "  </tbody>\n",
       "</table>\n",
       "<p>18871 rows × 3 columns</p>\n",
       "</div>"
      ],
      "text/plain": [
       "      Date of Purchase                  Purchaser Name  Denomination\n",
       "0          12/Apr/2019             A B C INDIA LIMITED      100000.0\n",
       "1          12/Apr/2019             A B C INDIA LIMITED      100000.0\n",
       "2          12/Apr/2019             A B C INDIA LIMITED     1000000.0\n",
       "3          12/Apr/2019             A B C INDIA LIMITED     1000000.0\n",
       "4          12/Apr/2019             A B C INDIA LIMITED      100000.0\n",
       "...                ...                             ...           ...\n",
       "19202      11/Jan/2024  WESTWELL GASES PRIVATE LIMITED    10000000.0\n",
       "19203      11/Jan/2024  WESTWELL GASES PRIVATE LIMITED    10000000.0\n",
       "19204      11/Jan/2024  WESTWELL GASES PRIVATE LIMITED    10000000.0\n",
       "19205      11/Jan/2024  WESTWELL GASES PRIVATE LIMITED    10000000.0\n",
       "19206      11/Jan/2024  WESTWELL GASES PRIVATE LIMITED    10000000.0\n",
       "\n",
       "[18871 rows x 3 columns]"
      ]
     },
     "execution_count": 5,
     "metadata": {},
     "output_type": "execute_result"
    }
   ],
   "source": [
    "donor_data"
   ]
  },
  {
   "cell_type": "markdown",
   "id": "23b7ce5d",
   "metadata": {},
   "source": [
    "* Here we can look at the raw data that we have read from the CSV file \n"
   ]
  },
  {
   "cell_type": "markdown",
   "id": "5826e365",
   "metadata": {},
   "source": [
    "#### Data Cleaning (entries added up)\n",
    "\n",
    "* This part reduces the original data to a compressed format with adjacent rows merged"
   ]
  },
  {
   "cell_type": "code",
   "execution_count": 8,
   "id": "e606d9f4",
   "metadata": {},
   "outputs": [
    {
     "data": {
      "text/plain": [
       "(20421, 18871)"
      ]
     },
     "execution_count": 8,
     "metadata": {},
     "output_type": "execute_result"
    }
   ],
   "source": [
    "len(party_data[\"Date of\\nEncashment\"].keys()),len(donor_data[\"Date of Purchase\"].keys())"
   ]
  },
  {
   "cell_type": "code",
   "execution_count": 9,
   "id": "8f02377c",
   "metadata": {},
   "outputs": [],
   "source": [
    "bad_chars = ['(',')']"
   ]
  },
  {
   "cell_type": "markdown",
   "id": "6cb96dec",
   "metadata": {},
   "source": [
    "## Party Data "
   ]
  },
  {
   "cell_type": "code",
   "execution_count": 10,
   "id": "89f35c30",
   "metadata": {},
   "outputs": [],
   "source": [
    "l=[]\n",
    "prev = None\n",
    "count = 0\n",
    "s = 0\n",
    "idx = 0\n",
    "for j in range(len(party_data[\"Date of\\nEncashment\"].keys())):\n",
    "    i= party_data[\"Date of\\nEncashment\"].keys()[j]\n",
    "#     print(donor_data[\"Date of Purchase\"][i])\n",
    "    key = party_data[\"Date of\\nEncashment\"][i][:7] + party_data[\"Date of\\nEncashment\"][i][9:] +\" \" +party_data[\"Name of the Political Party\"][i]\n",
    "    if(prev == None):\n",
    "        prev = key\n",
    "        count = 1\n",
    "        s = int(party_data[\"Denomination\"][i])\n",
    "    elif(prev == key):\n",
    "        count+=1\n",
    "        s = s + int(party_data[\"Denomination\"][i])\n",
    "    else:\n",
    "        name = ''.join((filter(lambda i: i not in bad_chars, prev[9:])))\n",
    "        l.append([idx,prev[:9],name,count,s])\n",
    "        idx+=1\n",
    "        prev = key\n",
    "        count = 1\n",
    "        s = int(party_data[\"Denomination\"][i])\n",
    "    \n",
    "name = ''.join((filter(lambda i: i not in bad_chars, prev[9:])))\n",
    "l.append([idx,prev[:9],name,count,s])\n",
    "        \n",
    "        \n",
    "        "
   ]
  },
  {
   "cell_type": "code",
   "execution_count": 11,
   "id": "095b7fb4",
   "metadata": {},
   "outputs": [],
   "source": [
    "df_party = pd.DataFrame(l, columns=['index','Date', 'party',\"count\",\"denomination\"])"
   ]
  },
  {
   "cell_type": "code",
   "execution_count": 12,
   "id": "a112621d",
   "metadata": {},
   "outputs": [],
   "source": [
    "l=[]\n",
    "prev = None\n",
    "count = 0\n",
    "s = 0\n",
    "idx = 0\n",
    "for j in range(len(donor_data[\"Date of Purchase\"].keys())):\n",
    "    i= donor_data[\"Date of Purchase\"].keys()[j]\n",
    "#     print(donor_data[\"Date of Purchase\"][i])\n",
    "    key = donor_data[\"Date of Purchase\"][i][:7] + donor_data[\"Date of Purchase\"][i][9:] +\" \" +donor_data[\"Purchaser Name\"][i]\n",
    "    if(prev == None):\n",
    "        prev = key\n",
    "        count = 1\n",
    "        s = int(donor_data[\"Denomination\"][i])\n",
    "    elif(prev == key):\n",
    "        count+=1\n",
    "        s = s + int(donor_data[\"Denomination\"][i])\n",
    "    else:\n",
    "        name = ''.join((filter(lambda i: i not in bad_chars, prev[9:])))\n",
    "        l.append([idx,prev[:9],name,count,s])\n",
    "        idx+=1\n",
    "        prev = key\n",
    "        count = 1\n",
    "        s = int(donor_data[\"Denomination\"][i])\n",
    "    \n",
    "name = ''.join((filter(lambda i: i not in bad_chars, prev[9:])))\n",
    "l.append([idx,prev[:9],name,count,s])\n",
    "        \n",
    "        \n"
   ]
  },
  {
   "cell_type": "code",
   "execution_count": 13,
   "id": "158ae761",
   "metadata": {},
   "outputs": [],
   "source": [
    "df_donor = pd.DataFrame(l, columns=['index','Date', 'donor',\"count\",\"denomination\"])"
   ]
  },
  {
   "cell_type": "code",
   "execution_count": 14,
   "id": "594558dc",
   "metadata": {
    "scrolled": false
   },
   "outputs": [],
   "source": [
    "df_party['date'] = pd.to_datetime(df_party['Date']).dt.normalize()\n",
    "df_donor['date'] = pd.to_datetime(df_donor['Date']).dt.normalize()\n",
    "df_party['funds'] = df_party['denomination']/10000000\n",
    "df_donor['donation'] = df_donor['denomination']/10000000"
   ]
  },
  {
   "cell_type": "markdown",
   "id": "fd7f2576",
   "metadata": {},
   "source": [
    "#### After Formating\n",
    "\n",
    "* After formating we can see we are left with "
   ]
  },
  {
   "cell_type": "code",
   "execution_count": 16,
   "id": "7fc86fed",
   "metadata": {},
   "outputs": [
    {
     "name": "stdout",
     "output_type": "stream",
     "text": [
      "unique donation 1980  unique encashment 513\n"
     ]
    }
   ],
   "source": [
    "print(\"unique donation\",len(df_donor),\" unique encashment\",len(df_party))"
   ]
  },
  {
   "cell_type": "code",
   "execution_count": 17,
   "id": "2e213dfd",
   "metadata": {},
   "outputs": [
    {
     "data": {
      "text/html": [
       "<div>\n",
       "<style scoped>\n",
       "    .dataframe tbody tr th:only-of-type {\n",
       "        vertical-align: middle;\n",
       "    }\n",
       "\n",
       "    .dataframe tbody tr th {\n",
       "        vertical-align: top;\n",
       "    }\n",
       "\n",
       "    .dataframe thead th {\n",
       "        text-align: right;\n",
       "    }\n",
       "</style>\n",
       "<table border=\"1\" class=\"dataframe\">\n",
       "  <thead>\n",
       "    <tr style=\"text-align: right;\">\n",
       "      <th></th>\n",
       "      <th>index</th>\n",
       "      <th>Date</th>\n",
       "      <th>party</th>\n",
       "      <th>count</th>\n",
       "      <th>denomination</th>\n",
       "      <th>date</th>\n",
       "      <th>funds</th>\n",
       "    </tr>\n",
       "  </thead>\n",
       "  <tbody>\n",
       "    <tr>\n",
       "      <th>0</th>\n",
       "      <td>0</td>\n",
       "      <td>12/Apr/19</td>\n",
       "      <td>ALL INDIA ANNA DRAVIDA MUNNETRA KAZHAGAM</td>\n",
       "      <td>33</td>\n",
       "      <td>60000000</td>\n",
       "      <td>2019-04-12</td>\n",
       "      <td>6.0</td>\n",
       "    </tr>\n",
       "    <tr>\n",
       "      <th>1</th>\n",
       "      <td>1</td>\n",
       "      <td>12/Apr/19</td>\n",
       "      <td>BHARAT RASHTRA SAMITHI</td>\n",
       "      <td>27</td>\n",
       "      <td>225000000</td>\n",
       "      <td>2019-04-12</td>\n",
       "      <td>22.5</td>\n",
       "    </tr>\n",
       "    <tr>\n",
       "      <th>2</th>\n",
       "      <td>2</td>\n",
       "      <td>12/Apr/19</td>\n",
       "      <td>BHARTIYA JANTA PARTY</td>\n",
       "      <td>402</td>\n",
       "      <td>2463000000</td>\n",
       "      <td>2019-04-12</td>\n",
       "      <td>246.3</td>\n",
       "    </tr>\n",
       "    <tr>\n",
       "      <th>3</th>\n",
       "      <td>3</td>\n",
       "      <td>12/Apr/19</td>\n",
       "      <td>PRESIDENT, ALL INDIA CONGRESS COMMITTEE</td>\n",
       "      <td>20</td>\n",
       "      <td>101000000</td>\n",
       "      <td>2019-04-12</td>\n",
       "      <td>10.1</td>\n",
       "    </tr>\n",
       "    <tr>\n",
       "      <th>4</th>\n",
       "      <td>4</td>\n",
       "      <td>12/Apr/19</td>\n",
       "      <td>SHIVSENA POLITICAL PARTY</td>\n",
       "      <td>19</td>\n",
       "      <td>37000000</td>\n",
       "      <td>2019-04-12</td>\n",
       "      <td>3.7</td>\n",
       "    </tr>\n",
       "    <tr>\n",
       "      <th>...</th>\n",
       "      <td>...</td>\n",
       "      <td>...</td>\n",
       "      <td>...</td>\n",
       "      <td>...</td>\n",
       "      <td>...</td>\n",
       "      <td>...</td>\n",
       "      <td>...</td>\n",
       "    </tr>\n",
       "    <tr>\n",
       "      <th>508</th>\n",
       "      <td>508</td>\n",
       "      <td>22/Jan/24</td>\n",
       "      <td>PRESIDENT, ALL INDIA CONGRESS COMMITTEE</td>\n",
       "      <td>10</td>\n",
       "      <td>10000000</td>\n",
       "      <td>2024-01-22</td>\n",
       "      <td>1.0</td>\n",
       "    </tr>\n",
       "    <tr>\n",
       "      <th>509</th>\n",
       "      <td>509</td>\n",
       "      <td>22/Jan/24</td>\n",
       "      <td>TELUGU DESAM PARTY</td>\n",
       "      <td>3</td>\n",
       "      <td>30000000</td>\n",
       "      <td>2024-01-22</td>\n",
       "      <td>3.0</td>\n",
       "    </tr>\n",
       "    <tr>\n",
       "      <th>510</th>\n",
       "      <td>510</td>\n",
       "      <td>23/Jan/24</td>\n",
       "      <td>DMK PARTY IN PARLIAMENT</td>\n",
       "      <td>20</td>\n",
       "      <td>200000000</td>\n",
       "      <td>2024-01-23</td>\n",
       "      <td>20.0</td>\n",
       "    </tr>\n",
       "    <tr>\n",
       "      <th>511</th>\n",
       "      <td>511</td>\n",
       "      <td>24/Jan/24</td>\n",
       "      <td>BHARTIYA JANTA PARTY</td>\n",
       "      <td>7</td>\n",
       "      <td>70000000</td>\n",
       "      <td>2024-01-24</td>\n",
       "      <td>7.0</td>\n",
       "    </tr>\n",
       "    <tr>\n",
       "      <th>512</th>\n",
       "      <td>512</td>\n",
       "      <td>24/Jan/24</td>\n",
       "      <td>JANASENA PARTY</td>\n",
       "      <td>10</td>\n",
       "      <td>10000000</td>\n",
       "      <td>2024-01-24</td>\n",
       "      <td>1.0</td>\n",
       "    </tr>\n",
       "  </tbody>\n",
       "</table>\n",
       "<p>513 rows × 7 columns</p>\n",
       "</div>"
      ],
      "text/plain": [
       "     index       Date                                      party  count  \\\n",
       "0        0  12/Apr/19   ALL INDIA ANNA DRAVIDA MUNNETRA KAZHAGAM     33   \n",
       "1        1  12/Apr/19                     BHARAT RASHTRA SAMITHI     27   \n",
       "2        2  12/Apr/19                       BHARTIYA JANTA PARTY    402   \n",
       "3        3  12/Apr/19    PRESIDENT, ALL INDIA CONGRESS COMMITTEE     20   \n",
       "4        4  12/Apr/19                   SHIVSENA POLITICAL PARTY     19   \n",
       "..     ...        ...                                        ...    ...   \n",
       "508    508  22/Jan/24    PRESIDENT, ALL INDIA CONGRESS COMMITTEE     10   \n",
       "509    509  22/Jan/24                         TELUGU DESAM PARTY      3   \n",
       "510    510  23/Jan/24                    DMK PARTY IN PARLIAMENT     20   \n",
       "511    511  24/Jan/24                       BHARTIYA JANTA PARTY      7   \n",
       "512    512  24/Jan/24                             JANASENA PARTY     10   \n",
       "\n",
       "     denomination       date  funds  \n",
       "0        60000000 2019-04-12    6.0  \n",
       "1       225000000 2019-04-12   22.5  \n",
       "2      2463000000 2019-04-12  246.3  \n",
       "3       101000000 2019-04-12   10.1  \n",
       "4        37000000 2019-04-12    3.7  \n",
       "..            ...        ...    ...  \n",
       "508      10000000 2024-01-22    1.0  \n",
       "509      30000000 2024-01-22    3.0  \n",
       "510     200000000 2024-01-23   20.0  \n",
       "511      70000000 2024-01-24    7.0  \n",
       "512      10000000 2024-01-24    1.0  \n",
       "\n",
       "[513 rows x 7 columns]"
      ]
     },
     "execution_count": 17,
     "metadata": {},
     "output_type": "execute_result"
    }
   ],
   "source": [
    "df_party"
   ]
  },
  {
   "cell_type": "code",
   "execution_count": 18,
   "id": "0e6ab179",
   "metadata": {},
   "outputs": [
    {
     "data": {
      "text/html": [
       "<div>\n",
       "<style scoped>\n",
       "    .dataframe tbody tr th:only-of-type {\n",
       "        vertical-align: middle;\n",
       "    }\n",
       "\n",
       "    .dataframe tbody tr th {\n",
       "        vertical-align: top;\n",
       "    }\n",
       "\n",
       "    .dataframe thead th {\n",
       "        text-align: right;\n",
       "    }\n",
       "</style>\n",
       "<table border=\"1\" class=\"dataframe\">\n",
       "  <thead>\n",
       "    <tr style=\"text-align: right;\">\n",
       "      <th></th>\n",
       "      <th>index</th>\n",
       "      <th>Date</th>\n",
       "      <th>donor</th>\n",
       "      <th>count</th>\n",
       "      <th>denomination</th>\n",
       "      <th>date</th>\n",
       "      <th>donation</th>\n",
       "    </tr>\n",
       "  </thead>\n",
       "  <tbody>\n",
       "    <tr>\n",
       "      <th>0</th>\n",
       "      <td>0</td>\n",
       "      <td>12/Apr/19</td>\n",
       "      <td>A B C INDIA LIMITED</td>\n",
       "      <td>13</td>\n",
       "      <td>4000000</td>\n",
       "      <td>2019-04-12</td>\n",
       "      <td>0.40</td>\n",
       "    </tr>\n",
       "    <tr>\n",
       "      <th>1</th>\n",
       "      <td>1</td>\n",
       "      <td>12/Apr/19</td>\n",
       "      <td>ACROPOLIS MAINTENANCE SERVICES PRIVATE LIMITED</td>\n",
       "      <td>7</td>\n",
       "      <td>2500000</td>\n",
       "      <td>2019-04-12</td>\n",
       "      <td>0.25</td>\n",
       "    </tr>\n",
       "    <tr>\n",
       "      <th>2</th>\n",
       "      <td>2</td>\n",
       "      <td>12/Apr/19</td>\n",
       "      <td>ARIHANT ENTERPRISES</td>\n",
       "      <td>4</td>\n",
       "      <td>4000000</td>\n",
       "      <td>2019-04-12</td>\n",
       "      <td>0.40</td>\n",
       "    </tr>\n",
       "    <tr>\n",
       "      <th>3</th>\n",
       "      <td>3</td>\n",
       "      <td>12/Apr/19</td>\n",
       "      <td>CHOUDHARY GARMENTS</td>\n",
       "      <td>2</td>\n",
       "      <td>2000000</td>\n",
       "      <td>2019-04-12</td>\n",
       "      <td>0.20</td>\n",
       "    </tr>\n",
       "    <tr>\n",
       "      <th>4</th>\n",
       "      <td>4</td>\n",
       "      <td>12/Apr/19</td>\n",
       "      <td>ESSEL MINING AND INDS LTD</td>\n",
       "      <td>59</td>\n",
       "      <td>500000000</td>\n",
       "      <td>2019-04-12</td>\n",
       "      <td>50.00</td>\n",
       "    </tr>\n",
       "    <tr>\n",
       "      <th>...</th>\n",
       "      <td>...</td>\n",
       "      <td>...</td>\n",
       "      <td>...</td>\n",
       "      <td>...</td>\n",
       "      <td>...</td>\n",
       "      <td>...</td>\n",
       "      <td>...</td>\n",
       "    </tr>\n",
       "    <tr>\n",
       "      <th>1975</th>\n",
       "      <td>1975</td>\n",
       "      <td>11/Jan/24</td>\n",
       "      <td>VEDIKA VANIJYA PVT LTD-SELF A/C</td>\n",
       "      <td>5</td>\n",
       "      <td>50000000</td>\n",
       "      <td>2024-01-11</td>\n",
       "      <td>5.00</td>\n",
       "    </tr>\n",
       "    <tr>\n",
       "      <th>1976</th>\n",
       "      <td>1976</td>\n",
       "      <td>11/Jan/24</td>\n",
       "      <td>VIDUR GUPTA</td>\n",
       "      <td>5</td>\n",
       "      <td>5000000</td>\n",
       "      <td>2024-01-11</td>\n",
       "      <td>0.50</td>\n",
       "    </tr>\n",
       "    <tr>\n",
       "      <th>1977</th>\n",
       "      <td>1977</td>\n",
       "      <td>11/Jan/24</td>\n",
       "      <td>VIHAAN AUTO VENTURES PRIVATE LIMITED</td>\n",
       "      <td>2</td>\n",
       "      <td>20000000</td>\n",
       "      <td>2024-01-11</td>\n",
       "      <td>2.00</td>\n",
       "    </tr>\n",
       "    <tr>\n",
       "      <th>1978</th>\n",
       "      <td>1978</td>\n",
       "      <td>11/Jan/24</td>\n",
       "      <td>WESTERN UP POWER TRANSMISSION COMPANY LI MITED</td>\n",
       "      <td>30</td>\n",
       "      <td>300000000</td>\n",
       "      <td>2024-01-11</td>\n",
       "      <td>30.00</td>\n",
       "    </tr>\n",
       "    <tr>\n",
       "      <th>1979</th>\n",
       "      <td>1979</td>\n",
       "      <td>11/Jan/24</td>\n",
       "      <td>WESTWELL GASES PRIVATE LIMITED</td>\n",
       "      <td>8</td>\n",
       "      <td>80000000</td>\n",
       "      <td>2024-01-11</td>\n",
       "      <td>8.00</td>\n",
       "    </tr>\n",
       "  </tbody>\n",
       "</table>\n",
       "<p>1980 rows × 7 columns</p>\n",
       "</div>"
      ],
      "text/plain": [
       "      index       Date                                            donor  \\\n",
       "0         0  12/Apr/19                              A B C INDIA LIMITED   \n",
       "1         1  12/Apr/19   ACROPOLIS MAINTENANCE SERVICES PRIVATE LIMITED   \n",
       "2         2  12/Apr/19                              ARIHANT ENTERPRISES   \n",
       "3         3  12/Apr/19                               CHOUDHARY GARMENTS   \n",
       "4         4  12/Apr/19                        ESSEL MINING AND INDS LTD   \n",
       "...     ...        ...                                              ...   \n",
       "1975   1975  11/Jan/24                  VEDIKA VANIJYA PVT LTD-SELF A/C   \n",
       "1976   1976  11/Jan/24                                      VIDUR GUPTA   \n",
       "1977   1977  11/Jan/24             VIHAAN AUTO VENTURES PRIVATE LIMITED   \n",
       "1978   1978  11/Jan/24   WESTERN UP POWER TRANSMISSION COMPANY LI MITED   \n",
       "1979   1979  11/Jan/24                   WESTWELL GASES PRIVATE LIMITED   \n",
       "\n",
       "      count  denomination       date  donation  \n",
       "0        13       4000000 2019-04-12      0.40  \n",
       "1         7       2500000 2019-04-12      0.25  \n",
       "2         4       4000000 2019-04-12      0.40  \n",
       "3         2       2000000 2019-04-12      0.20  \n",
       "4        59     500000000 2019-04-12     50.00  \n",
       "...     ...           ...        ...       ...  \n",
       "1975      5      50000000 2024-01-11      5.00  \n",
       "1976      5       5000000 2024-01-11      0.50  \n",
       "1977      2      20000000 2024-01-11      2.00  \n",
       "1978     30     300000000 2024-01-11     30.00  \n",
       "1979      8      80000000 2024-01-11      8.00  \n",
       "\n",
       "[1980 rows x 7 columns]"
      ]
     },
     "execution_count": 18,
     "metadata": {},
     "output_type": "execute_result"
    }
   ],
   "source": [
    "df_donor"
   ]
  },
  {
   "cell_type": "markdown",
   "id": "765ba71c",
   "metadata": {},
   "source": [
    "* Now we can easily search for text query on donor column\n",
    "* As well as fund amount query"
   ]
  },
  {
   "cell_type": "code",
   "execution_count": 21,
   "id": "c8c7fae7",
   "metadata": {},
   "outputs": [
    {
     "data": {
      "text/html": [
       "<div>\n",
       "<style scoped>\n",
       "    .dataframe tbody tr th:only-of-type {\n",
       "        vertical-align: middle;\n",
       "    }\n",
       "\n",
       "    .dataframe tbody tr th {\n",
       "        vertical-align: top;\n",
       "    }\n",
       "\n",
       "    .dataframe thead th {\n",
       "        text-align: right;\n",
       "    }\n",
       "</style>\n",
       "<table border=\"1\" class=\"dataframe\">\n",
       "  <thead>\n",
       "    <tr style=\"text-align: right;\">\n",
       "      <th></th>\n",
       "      <th>index</th>\n",
       "      <th>Date</th>\n",
       "      <th>donor</th>\n",
       "      <th>count</th>\n",
       "      <th>denomination</th>\n",
       "      <th>date</th>\n",
       "      <th>donation</th>\n",
       "    </tr>\n",
       "  </thead>\n",
       "  <tbody>\n",
       "    <tr>\n",
       "      <th>180</th>\n",
       "      <td>180</td>\n",
       "      <td>07/May/19</td>\n",
       "      <td>TORRENT POWER LIMITED</td>\n",
       "      <td>12</td>\n",
       "      <td>75000000</td>\n",
       "      <td>2019-05-07</td>\n",
       "      <td>7.5</td>\n",
       "    </tr>\n",
       "    <tr>\n",
       "      <th>181</th>\n",
       "      <td>181</td>\n",
       "      <td>07/May/19</td>\n",
       "      <td>TORRENT PHARMACEUTICALS LIMITED</td>\n",
       "      <td>7</td>\n",
       "      <td>25000000</td>\n",
       "      <td>2019-05-07</td>\n",
       "      <td>2.5</td>\n",
       "    </tr>\n",
       "    <tr>\n",
       "      <th>245</th>\n",
       "      <td>245</td>\n",
       "      <td>10/May/19</td>\n",
       "      <td>TORRENT PHARMACEUTICALS LIMITED</td>\n",
       "      <td>5</td>\n",
       "      <td>50000000</td>\n",
       "      <td>2019-05-10</td>\n",
       "      <td>5.0</td>\n",
       "    </tr>\n",
       "    <tr>\n",
       "      <th>273</th>\n",
       "      <td>273</td>\n",
       "      <td>01/Oct/19</td>\n",
       "      <td>TORRENT POWER LIMITED</td>\n",
       "      <td>7</td>\n",
       "      <td>70000000</td>\n",
       "      <td>2019-10-01</td>\n",
       "      <td>7.0</td>\n",
       "    </tr>\n",
       "    <tr>\n",
       "      <th>274</th>\n",
       "      <td>274</td>\n",
       "      <td>01/Oct/19</td>\n",
       "      <td>TORRENT PHARMACEUTICALS LIMITED</td>\n",
       "      <td>5</td>\n",
       "      <td>50000000</td>\n",
       "      <td>2019-10-01</td>\n",
       "      <td>5.0</td>\n",
       "    </tr>\n",
       "    <tr>\n",
       "      <th>280</th>\n",
       "      <td>280</td>\n",
       "      <td>03/Oct/19</td>\n",
       "      <td>TORRENT POWER LIMITED</td>\n",
       "      <td>3</td>\n",
       "      <td>30000000</td>\n",
       "      <td>2019-10-03</td>\n",
       "      <td>3.0</td>\n",
       "    </tr>\n",
       "    <tr>\n",
       "      <th>473</th>\n",
       "      <td>473</td>\n",
       "      <td>07/Apr/21</td>\n",
       "      <td>TORRENT POWER LIMITED</td>\n",
       "      <td>12</td>\n",
       "      <td>75000000</td>\n",
       "      <td>2021-04-07</td>\n",
       "      <td>7.5</td>\n",
       "    </tr>\n",
       "    <tr>\n",
       "      <th>474</th>\n",
       "      <td>474</td>\n",
       "      <td>07/Apr/21</td>\n",
       "      <td>TORRENT PHARMACEUTICALS LIMITED</td>\n",
       "      <td>12</td>\n",
       "      <td>75000000</td>\n",
       "      <td>2021-04-07</td>\n",
       "      <td>7.5</td>\n",
       "    </tr>\n",
       "    <tr>\n",
       "      <th>729</th>\n",
       "      <td>729</td>\n",
       "      <td>03/Jan/22</td>\n",
       "      <td>TORRENT POWER LTD</td>\n",
       "      <td>3</td>\n",
       "      <td>30000000</td>\n",
       "      <td>2022-01-03</td>\n",
       "      <td>3.0</td>\n",
       "    </tr>\n",
       "    <tr>\n",
       "      <th>803</th>\n",
       "      <td>803</td>\n",
       "      <td>07/Jan/22</td>\n",
       "      <td>TORRENT PHARMACEUTICALS LTD</td>\n",
       "      <td>10</td>\n",
       "      <td>100000000</td>\n",
       "      <td>2022-01-07</td>\n",
       "      <td>10.0</td>\n",
       "    </tr>\n",
       "    <tr>\n",
       "      <th>804</th>\n",
       "      <td>804</td>\n",
       "      <td>07/Jan/22</td>\n",
       "      <td>TORRENT POWER LTD</td>\n",
       "      <td>107</td>\n",
       "      <td>170000000</td>\n",
       "      <td>2022-01-07</td>\n",
       "      <td>17.0</td>\n",
       "    </tr>\n",
       "    <tr>\n",
       "      <th>1069</th>\n",
       "      <td>1069</td>\n",
       "      <td>10/Oct/22</td>\n",
       "      <td>TORRENT POWER LIMITED</td>\n",
       "      <td>23</td>\n",
       "      <td>230000000</td>\n",
       "      <td>2022-10-10</td>\n",
       "      <td>23.0</td>\n",
       "    </tr>\n",
       "    <tr>\n",
       "      <th>1070</th>\n",
       "      <td>1070</td>\n",
       "      <td>10/Oct/22</td>\n",
       "      <td>TORRENT PHARMACEUTICALS LIMITED</td>\n",
       "      <td>15</td>\n",
       "      <td>150000000</td>\n",
       "      <td>2022-10-10</td>\n",
       "      <td>15.0</td>\n",
       "    </tr>\n",
       "    <tr>\n",
       "      <th>1363</th>\n",
       "      <td>1363</td>\n",
       "      <td>11/Apr/23</td>\n",
       "      <td>TORRENT POWER LIMITED</td>\n",
       "      <td>6</td>\n",
       "      <td>15000000</td>\n",
       "      <td>2023-04-11</td>\n",
       "      <td>1.5</td>\n",
       "    </tr>\n",
       "    <tr>\n",
       "      <th>1649</th>\n",
       "      <td>1649</td>\n",
       "      <td>09/Oct/23</td>\n",
       "      <td>TORRENT POWER LIMITED</td>\n",
       "      <td>12</td>\n",
       "      <td>120000000</td>\n",
       "      <td>2023-10-09</td>\n",
       "      <td>12.0</td>\n",
       "    </tr>\n",
       "    <tr>\n",
       "      <th>1650</th>\n",
       "      <td>1650</td>\n",
       "      <td>09/Oct/23</td>\n",
       "      <td>TORRENT PHARMACEUTICALS LTD</td>\n",
       "      <td>7</td>\n",
       "      <td>70000000</td>\n",
       "      <td>2023-10-09</td>\n",
       "      <td>7.0</td>\n",
       "    </tr>\n",
       "    <tr>\n",
       "      <th>1897</th>\n",
       "      <td>1897</td>\n",
       "      <td>05/Jan/24</td>\n",
       "      <td>TORRENT PHARMACEUTICALS LTD</td>\n",
       "      <td>5</td>\n",
       "      <td>5000000</td>\n",
       "      <td>2024-01-05</td>\n",
       "      <td>0.5</td>\n",
       "    </tr>\n",
       "    <tr>\n",
       "      <th>1936</th>\n",
       "      <td>1936</td>\n",
       "      <td>09/Jan/24</td>\n",
       "      <td>TORRENT POWER LIMITED</td>\n",
       "      <td>15</td>\n",
       "      <td>150000000</td>\n",
       "      <td>2024-01-09</td>\n",
       "      <td>15.0</td>\n",
       "    </tr>\n",
       "    <tr>\n",
       "      <th>1937</th>\n",
       "      <td>1937</td>\n",
       "      <td>09/Jan/24</td>\n",
       "      <td>TORRENT PHARMACEUTICALS LTD</td>\n",
       "      <td>15</td>\n",
       "      <td>150000000</td>\n",
       "      <td>2024-01-09</td>\n",
       "      <td>15.0</td>\n",
       "    </tr>\n",
       "    <tr>\n",
       "      <th>1952</th>\n",
       "      <td>1952</td>\n",
       "      <td>10/Jan/24</td>\n",
       "      <td>TORRENT POWER LIMITED</td>\n",
       "      <td>10</td>\n",
       "      <td>100000000</td>\n",
       "      <td>2024-01-10</td>\n",
       "      <td>10.0</td>\n",
       "    </tr>\n",
       "    <tr>\n",
       "      <th>1953</th>\n",
       "      <td>1953</td>\n",
       "      <td>10/Jan/24</td>\n",
       "      <td>TORRENT PHARMACEUTICALS LTD</td>\n",
       "      <td>10</td>\n",
       "      <td>100000000</td>\n",
       "      <td>2024-01-10</td>\n",
       "      <td>10.0</td>\n",
       "    </tr>\n",
       "  </tbody>\n",
       "</table>\n",
       "</div>"
      ],
      "text/plain": [
       "      index       Date                             donor  count  denomination  \\\n",
       "180     180  07/May/19             TORRENT POWER LIMITED     12      75000000   \n",
       "181     181  07/May/19   TORRENT PHARMACEUTICALS LIMITED      7      25000000   \n",
       "245     245  10/May/19   TORRENT PHARMACEUTICALS LIMITED      5      50000000   \n",
       "273     273  01/Oct/19             TORRENT POWER LIMITED      7      70000000   \n",
       "274     274  01/Oct/19   TORRENT PHARMACEUTICALS LIMITED      5      50000000   \n",
       "280     280  03/Oct/19             TORRENT POWER LIMITED      3      30000000   \n",
       "473     473  07/Apr/21             TORRENT POWER LIMITED     12      75000000   \n",
       "474     474  07/Apr/21   TORRENT PHARMACEUTICALS LIMITED     12      75000000   \n",
       "729     729  03/Jan/22                 TORRENT POWER LTD      3      30000000   \n",
       "803     803  07/Jan/22       TORRENT PHARMACEUTICALS LTD     10     100000000   \n",
       "804     804  07/Jan/22                 TORRENT POWER LTD    107     170000000   \n",
       "1069   1069  10/Oct/22             TORRENT POWER LIMITED     23     230000000   \n",
       "1070   1070  10/Oct/22   TORRENT PHARMACEUTICALS LIMITED     15     150000000   \n",
       "1363   1363  11/Apr/23             TORRENT POWER LIMITED      6      15000000   \n",
       "1649   1649  09/Oct/23             TORRENT POWER LIMITED     12     120000000   \n",
       "1650   1650  09/Oct/23       TORRENT PHARMACEUTICALS LTD      7      70000000   \n",
       "1897   1897  05/Jan/24       TORRENT PHARMACEUTICALS LTD      5       5000000   \n",
       "1936   1936  09/Jan/24             TORRENT POWER LIMITED     15     150000000   \n",
       "1937   1937  09/Jan/24       TORRENT PHARMACEUTICALS LTD     15     150000000   \n",
       "1952   1952  10/Jan/24             TORRENT POWER LIMITED     10     100000000   \n",
       "1953   1953  10/Jan/24       TORRENT PHARMACEUTICALS LTD     10     100000000   \n",
       "\n",
       "           date  donation  \n",
       "180  2019-05-07       7.5  \n",
       "181  2019-05-07       2.5  \n",
       "245  2019-05-10       5.0  \n",
       "273  2019-10-01       7.0  \n",
       "274  2019-10-01       5.0  \n",
       "280  2019-10-03       3.0  \n",
       "473  2021-04-07       7.5  \n",
       "474  2021-04-07       7.5  \n",
       "729  2022-01-03       3.0  \n",
       "803  2022-01-07      10.0  \n",
       "804  2022-01-07      17.0  \n",
       "1069 2022-10-10      23.0  \n",
       "1070 2022-10-10      15.0  \n",
       "1363 2023-04-11       1.5  \n",
       "1649 2023-10-09      12.0  \n",
       "1650 2023-10-09       7.0  \n",
       "1897 2024-01-05       0.5  \n",
       "1936 2024-01-09      15.0  \n",
       "1937 2024-01-09      15.0  \n",
       "1952 2024-01-10      10.0  \n",
       "1953 2024-01-10      10.0  "
      ]
     },
     "execution_count": 21,
     "metadata": {},
     "output_type": "execute_result"
    }
   ],
   "source": [
    "df_donor[df_donor['donor'].str.contains(\"TORRENT\")]"
   ]
  },
  {
   "cell_type": "code",
   "execution_count": 20,
   "id": "11c1d959",
   "metadata": {},
   "outputs": [
    {
     "data": {
      "text/plain": [
       "184.0"
      ]
     },
     "execution_count": 20,
     "metadata": {},
     "output_type": "execute_result"
    }
   ],
   "source": [
    "sum(df_donor[df_donor['donor'].str.contains(\"TORRENT\")]['donation'])"
   ]
  },
  {
   "cell_type": "markdown",
   "id": "d625c77d",
   "metadata": {},
   "source": [
    "## Search Begins\n",
    "\n",
    "* In this part we have defined a cell to isolate the cleaned data from plotting data so just put in your pandas dataframe query and let the plotting code run "
   ]
  },
  {
   "cell_type": "code",
   "execution_count": 22,
   "id": "6fa19424",
   "metadata": {},
   "outputs": [],
   "source": [
    "import plotly.express as px"
   ]
  },
  {
   "cell_type": "code",
   "execution_count": 24,
   "id": "d1d23ac6",
   "metadata": {},
   "outputs": [],
   "source": [
    "plt_data_party = df_party[df_party['party'].str.contains(\"RASHTRA\")]\n",
    "plt_data_donor = df_donor[df_donor['donor'].str.contains(\"FUTURE\")]"
   ]
  },
  {
   "cell_type": "code",
   "execution_count": 25,
   "id": "f7b8d10b",
   "metadata": {},
   "outputs": [],
   "source": [
    "# df_party['Date'].str.contains(\"Jan/22\") & "
   ]
  },
  {
   "cell_type": "code",
   "execution_count": 44,
   "id": "4a363832",
   "metadata": {},
   "outputs": [
    {
     "data": {
      "text/html": [
       "<div>\n",
       "<style scoped>\n",
       "    .dataframe tbody tr th:only-of-type {\n",
       "        vertical-align: middle;\n",
       "    }\n",
       "\n",
       "    .dataframe tbody tr th {\n",
       "        vertical-align: top;\n",
       "    }\n",
       "\n",
       "    .dataframe thead th {\n",
       "        text-align: right;\n",
       "    }\n",
       "</style>\n",
       "<table border=\"1\" class=\"dataframe\">\n",
       "  <thead>\n",
       "    <tr style=\"text-align: right;\">\n",
       "      <th></th>\n",
       "      <th>index</th>\n",
       "      <th>Date</th>\n",
       "      <th>party</th>\n",
       "      <th>count</th>\n",
       "      <th>denomination</th>\n",
       "      <th>date</th>\n",
       "      <th>funds</th>\n",
       "    </tr>\n",
       "  </thead>\n",
       "  <tbody>\n",
       "    <tr>\n",
       "      <th>2</th>\n",
       "      <td>2</td>\n",
       "      <td>12/Apr/19</td>\n",
       "      <td>BHARTIYA JANTA PARTY</td>\n",
       "      <td>402</td>\n",
       "      <td>2463000000</td>\n",
       "      <td>2019-04-12</td>\n",
       "      <td>246.30</td>\n",
       "    </tr>\n",
       "    <tr>\n",
       "      <th>23</th>\n",
       "      <td>23</td>\n",
       "      <td>18/Apr/19</td>\n",
       "      <td>BHARTIYA JANTA PARTY</td>\n",
       "      <td>402</td>\n",
       "      <td>2275800000</td>\n",
       "      <td>2019-04-18</td>\n",
       "      <td>227.58</td>\n",
       "    </tr>\n",
       "    <tr>\n",
       "      <th>29</th>\n",
       "      <td>29</td>\n",
       "      <td>20/Apr/19</td>\n",
       "      <td>BHARTIYA JANTA PARTY</td>\n",
       "      <td>420</td>\n",
       "      <td>2107500000</td>\n",
       "      <td>2019-04-20</td>\n",
       "      <td>210.75</td>\n",
       "    </tr>\n",
       "    <tr>\n",
       "      <th>63</th>\n",
       "      <td>63</td>\n",
       "      <td>10/May/19</td>\n",
       "      <td>BHARTIYA JANTA PARTY</td>\n",
       "      <td>492</td>\n",
       "      <td>3961500000</td>\n",
       "      <td>2019-05-10</td>\n",
       "      <td>396.15</td>\n",
       "    </tr>\n",
       "    <tr>\n",
       "      <th>69</th>\n",
       "      <td>69</td>\n",
       "      <td>14/May/19</td>\n",
       "      <td>BHARTIYA JANTA PARTY</td>\n",
       "      <td>257</td>\n",
       "      <td>2412500000</td>\n",
       "      <td>2019-05-14</td>\n",
       "      <td>241.25</td>\n",
       "    </tr>\n",
       "    <tr>\n",
       "      <th>192</th>\n",
       "      <td>192</td>\n",
       "      <td>10/Jan/22</td>\n",
       "      <td>BHARTIYA JANTA PARTY</td>\n",
       "      <td>267</td>\n",
       "      <td>2512500000</td>\n",
       "      <td>2022-01-10</td>\n",
       "      <td>251.25</td>\n",
       "    </tr>\n",
       "    <tr>\n",
       "      <th>232</th>\n",
       "      <td>232</td>\n",
       "      <td>12/Apr/22</td>\n",
       "      <td>BHARAT RASHTRA SAMITHI</td>\n",
       "      <td>268</td>\n",
       "      <td>2680000000</td>\n",
       "      <td>2022-04-12</td>\n",
       "      <td>268.00</td>\n",
       "    </tr>\n",
       "    <tr>\n",
       "      <th>290</th>\n",
       "      <td>290</td>\n",
       "      <td>16/Nov/22</td>\n",
       "      <td>BHARTIYA JANTA PARTY</td>\n",
       "      <td>213</td>\n",
       "      <td>2017500000</td>\n",
       "      <td>2022-11-16</td>\n",
       "      <td>201.75</td>\n",
       "    </tr>\n",
       "    <tr>\n",
       "      <th>380</th>\n",
       "      <td>380</td>\n",
       "      <td>13/Jul/23</td>\n",
       "      <td>BHARAT RASHTRA SAMITHI</td>\n",
       "      <td>332</td>\n",
       "      <td>2240000000</td>\n",
       "      <td>2023-07-13</td>\n",
       "      <td>224.00</td>\n",
       "    </tr>\n",
       "  </tbody>\n",
       "</table>\n",
       "</div>"
      ],
      "text/plain": [
       "     index       Date                    party  count  denomination  \\\n",
       "2        2  12/Apr/19     BHARTIYA JANTA PARTY    402    2463000000   \n",
       "23      23  18/Apr/19     BHARTIYA JANTA PARTY    402    2275800000   \n",
       "29      29  20/Apr/19     BHARTIYA JANTA PARTY    420    2107500000   \n",
       "63      63  10/May/19     BHARTIYA JANTA PARTY    492    3961500000   \n",
       "69      69  14/May/19     BHARTIYA JANTA PARTY    257    2412500000   \n",
       "192    192  10/Jan/22     BHARTIYA JANTA PARTY    267    2512500000   \n",
       "232    232  12/Apr/22   BHARAT RASHTRA SAMITHI    268    2680000000   \n",
       "290    290  16/Nov/22     BHARTIYA JANTA PARTY    213    2017500000   \n",
       "380    380  13/Jul/23   BHARAT RASHTRA SAMITHI    332    2240000000   \n",
       "\n",
       "          date   funds  \n",
       "2   2019-04-12  246.30  \n",
       "23  2019-04-18  227.58  \n",
       "29  2019-04-20  210.75  \n",
       "63  2019-05-10  396.15  \n",
       "69  2019-05-14  241.25  \n",
       "192 2022-01-10  251.25  \n",
       "232 2022-04-12  268.00  \n",
       "290 2022-11-16  201.75  \n",
       "380 2023-07-13  224.00  "
      ]
     },
     "execution_count": 44,
     "metadata": {},
     "output_type": "execute_result"
    }
   ],
   "source": [
    "df_party[df_party['funds']>200]"
   ]
  },
  {
   "cell_type": "code",
   "execution_count": 47,
   "id": "364b6c44",
   "metadata": {},
   "outputs": [
    {
     "data": {
      "text/html": [
       "<div>\n",
       "<style scoped>\n",
       "    .dataframe tbody tr th:only-of-type {\n",
       "        vertical-align: middle;\n",
       "    }\n",
       "\n",
       "    .dataframe tbody tr th {\n",
       "        vertical-align: top;\n",
       "    }\n",
       "\n",
       "    .dataframe thead th {\n",
       "        text-align: right;\n",
       "    }\n",
       "</style>\n",
       "<table border=\"1\" class=\"dataframe\">\n",
       "  <thead>\n",
       "    <tr style=\"text-align: right;\">\n",
       "      <th></th>\n",
       "      <th>index</th>\n",
       "      <th>Date</th>\n",
       "      <th>donor</th>\n",
       "      <th>count</th>\n",
       "      <th>denomination</th>\n",
       "      <th>date</th>\n",
       "      <th>donation</th>\n",
       "    </tr>\n",
       "  </thead>\n",
       "  <tbody>\n",
       "    <tr>\n",
       "      <th>56</th>\n",
       "      <td>56</td>\n",
       "      <td>16/Apr/19</td>\n",
       "      <td>KEVENTER FOODPARK INFRA LIMITED</td>\n",
       "      <td>55</td>\n",
       "      <td>550000000</td>\n",
       "      <td>2019-04-16</td>\n",
       "      <td>55.0</td>\n",
       "    </tr>\n",
       "    <tr>\n",
       "      <th>175</th>\n",
       "      <td>175</td>\n",
       "      <td>07/May/19</td>\n",
       "      <td>KEVENTER FOODPARK INFRA LIMITED</td>\n",
       "      <td>84</td>\n",
       "      <td>750000000</td>\n",
       "      <td>2019-05-07</td>\n",
       "      <td>75.0</td>\n",
       "    </tr>\n",
       "    <tr>\n",
       "      <th>193</th>\n",
       "      <td>193</td>\n",
       "      <td>08/May/19</td>\n",
       "      <td>KEVENTER FOODPARK INFRA LIMITED</td>\n",
       "      <td>65</td>\n",
       "      <td>650000000</td>\n",
       "      <td>2019-05-08</td>\n",
       "      <td>65.0</td>\n",
       "    </tr>\n",
       "    <tr>\n",
       "      <th>196</th>\n",
       "      <td>196</td>\n",
       "      <td>08/May/19</td>\n",
       "      <td>MADANLAL LTD.</td>\n",
       "      <td>110</td>\n",
       "      <td>1100000000</td>\n",
       "      <td>2019-05-08</td>\n",
       "      <td>110.0</td>\n",
       "    </tr>\n",
       "    <tr>\n",
       "      <th>232</th>\n",
       "      <td>232</td>\n",
       "      <td>10/May/19</td>\n",
       "      <td>MADANLAL LTD.</td>\n",
       "      <td>89</td>\n",
       "      <td>755000000</td>\n",
       "      <td>2019-05-10</td>\n",
       "      <td>75.5</td>\n",
       "    </tr>\n",
       "    <tr>\n",
       "      <th>395</th>\n",
       "      <td>395</td>\n",
       "      <td>21/Oct/20</td>\n",
       "      <td>FUTURE GAMING AND HOTEL SERVICES PR</td>\n",
       "      <td>60</td>\n",
       "      <td>600000000</td>\n",
       "      <td>2020-10-21</td>\n",
       "      <td>60.0</td>\n",
       "    </tr>\n",
       "    <tr>\n",
       "      <th>405</th>\n",
       "      <td>405</td>\n",
       "      <td>27/Oct/20</td>\n",
       "      <td>FUTURE GAMING AND HOTEL SERVICES PR</td>\n",
       "      <td>90</td>\n",
       "      <td>900000000</td>\n",
       "      <td>2020-10-27</td>\n",
       "      <td>90.0</td>\n",
       "    </tr>\n",
       "    <tr>\n",
       "      <th>446</th>\n",
       "      <td>446</td>\n",
       "      <td>05/Apr/21</td>\n",
       "      <td>ESSEL MINING AND INDS LTD</td>\n",
       "      <td>59</td>\n",
       "      <td>545000000</td>\n",
       "      <td>2021-04-05</td>\n",
       "      <td>54.5</td>\n",
       "    </tr>\n",
       "    <tr>\n",
       "      <th>505</th>\n",
       "      <td>505</td>\n",
       "      <td>09/Apr/21</td>\n",
       "      <td>FUTURE GAMING AND HOTEL SERVICES PR</td>\n",
       "      <td>60</td>\n",
       "      <td>600000000</td>\n",
       "      <td>2021-04-09</td>\n",
       "      <td>60.0</td>\n",
       "    </tr>\n",
       "    <tr>\n",
       "      <th>606</th>\n",
       "      <td>606</td>\n",
       "      <td>05/Oct/21</td>\n",
       "      <td>FUTURE GAMING AND HOTEL SERVICES PR</td>\n",
       "      <td>195</td>\n",
       "      <td>1950000000</td>\n",
       "      <td>2021-10-05</td>\n",
       "      <td>195.0</td>\n",
       "    </tr>\n",
       "    <tr>\n",
       "      <th>738</th>\n",
       "      <td>738</td>\n",
       "      <td>05/Jan/22</td>\n",
       "      <td>FUTURE GAMING AND HOTEL SERVICES PR</td>\n",
       "      <td>100</td>\n",
       "      <td>1000000000</td>\n",
       "      <td>2022-01-05</td>\n",
       "      <td>100.0</td>\n",
       "    </tr>\n",
       "    <tr>\n",
       "      <th>747</th>\n",
       "      <td>747</td>\n",
       "      <td>05/Jan/22</td>\n",
       "      <td>QWIKSUPPLYCHAINPRIVATELIMITED</td>\n",
       "      <td>225</td>\n",
       "      <td>2250000000</td>\n",
       "      <td>2022-01-05</td>\n",
       "      <td>225.0</td>\n",
       "    </tr>\n",
       "    <tr>\n",
       "      <th>755</th>\n",
       "      <td>755</td>\n",
       "      <td>06/Jan/22</td>\n",
       "      <td>FUTURE GAMING AND HOTEL SERVICES PRIVATE LIMITED</td>\n",
       "      <td>95</td>\n",
       "      <td>950000000</td>\n",
       "      <td>2022-01-06</td>\n",
       "      <td>95.0</td>\n",
       "    </tr>\n",
       "    <tr>\n",
       "      <th>786</th>\n",
       "      <td>786</td>\n",
       "      <td>07/Jan/22</td>\n",
       "      <td>MEGHA ENGINEERING AND INFRASTRUCTURES LTD</td>\n",
       "      <td>70</td>\n",
       "      <td>700000000</td>\n",
       "      <td>2022-01-07</td>\n",
       "      <td>70.0</td>\n",
       "    </tr>\n",
       "    <tr>\n",
       "      <th>865</th>\n",
       "      <td>865</td>\n",
       "      <td>10/Jan/22</td>\n",
       "      <td>VEDANTA LIMITED</td>\n",
       "      <td>73</td>\n",
       "      <td>730000000</td>\n",
       "      <td>2022-01-10</td>\n",
       "      <td>73.0</td>\n",
       "    </tr>\n",
       "    <tr>\n",
       "      <th>884</th>\n",
       "      <td>884</td>\n",
       "      <td>07/Apr/22</td>\n",
       "      <td>FUTURE GAMING AND HOTEL SERVICES PR</td>\n",
       "      <td>100</td>\n",
       "      <td>1000000000</td>\n",
       "      <td>2022-04-07</td>\n",
       "      <td>100.0</td>\n",
       "    </tr>\n",
       "    <tr>\n",
       "      <th>966</th>\n",
       "      <td>966</td>\n",
       "      <td>06/Jul/22</td>\n",
       "      <td>FUTURE GAMING AND HOTEL SERVICES PR</td>\n",
       "      <td>75</td>\n",
       "      <td>750000000</td>\n",
       "      <td>2022-07-06</td>\n",
       "      <td>75.0</td>\n",
       "    </tr>\n",
       "    <tr>\n",
       "      <th>1000</th>\n",
       "      <td>1000</td>\n",
       "      <td>06/Oct/22</td>\n",
       "      <td>FUTURE GAMING AND HOTEL SERVICES PR</td>\n",
       "      <td>105</td>\n",
       "      <td>1050000000</td>\n",
       "      <td>2022-10-06</td>\n",
       "      <td>105.0</td>\n",
       "    </tr>\n",
       "    <tr>\n",
       "      <th>1094</th>\n",
       "      <td>1094</td>\n",
       "      <td>11/Nov/22</td>\n",
       "      <td>QWIKSUPPLYCHAINPRIVATELIMITED</td>\n",
       "      <td>125</td>\n",
       "      <td>1250000000</td>\n",
       "      <td>2022-11-11</td>\n",
       "      <td>125.0</td>\n",
       "    </tr>\n",
       "    <tr>\n",
       "      <th>1117</th>\n",
       "      <td>1117</td>\n",
       "      <td>14/Nov/22</td>\n",
       "      <td>VEDANTA LIMITED</td>\n",
       "      <td>110</td>\n",
       "      <td>1100000000</td>\n",
       "      <td>2022-11-14</td>\n",
       "      <td>110.0</td>\n",
       "    </tr>\n",
       "    <tr>\n",
       "      <th>1172</th>\n",
       "      <td>1172</td>\n",
       "      <td>12/Dec/22</td>\n",
       "      <td>BIRLACARBONINDIAPRIVATELIMITED</td>\n",
       "      <td>55</td>\n",
       "      <td>550000000</td>\n",
       "      <td>2022-12-12</td>\n",
       "      <td>55.0</td>\n",
       "    </tr>\n",
       "    <tr>\n",
       "      <th>1175</th>\n",
       "      <td>1175</td>\n",
       "      <td>12/Dec/22</td>\n",
       "      <td>MEGHA ENGINEERING AND INFRASTRUCTURES LI MITED</td>\n",
       "      <td>56</td>\n",
       "      <td>560000000</td>\n",
       "      <td>2022-12-12</td>\n",
       "      <td>56.0</td>\n",
       "    </tr>\n",
       "    <tr>\n",
       "      <th>1234</th>\n",
       "      <td>1234</td>\n",
       "      <td>05/Apr/23</td>\n",
       "      <td>FUTURE GAMING AND HOTEL SERVICES PR</td>\n",
       "      <td>90</td>\n",
       "      <td>900000000</td>\n",
       "      <td>2023-04-05</td>\n",
       "      <td>90.0</td>\n",
       "    </tr>\n",
       "    <tr>\n",
       "      <th>1335</th>\n",
       "      <td>1335</td>\n",
       "      <td>11/Apr/23</td>\n",
       "      <td>FUTURE GAMING AND HOTEL SERVICES PR</td>\n",
       "      <td>60</td>\n",
       "      <td>600000000</td>\n",
       "      <td>2023-04-11</td>\n",
       "      <td>60.0</td>\n",
       "    </tr>\n",
       "    <tr>\n",
       "      <th>1344</th>\n",
       "      <td>1344</td>\n",
       "      <td>11/Apr/23</td>\n",
       "      <td>MEGHA ENGINEERING AND INFRASTRUCTURES LI MITED</td>\n",
       "      <td>140</td>\n",
       "      <td>1400000000</td>\n",
       "      <td>2023-04-11</td>\n",
       "      <td>140.0</td>\n",
       "    </tr>\n",
       "    <tr>\n",
       "      <th>1430</th>\n",
       "      <td>1430</td>\n",
       "      <td>06/Jul/23</td>\n",
       "      <td>FUTURE GAMING AND HOTEL SERVICES PR</td>\n",
       "      <td>63</td>\n",
       "      <td>630000000</td>\n",
       "      <td>2023-07-06</td>\n",
       "      <td>63.0</td>\n",
       "    </tr>\n",
       "    <tr>\n",
       "      <th>1548</th>\n",
       "      <td>1548</td>\n",
       "      <td>12/Jul/23</td>\n",
       "      <td>MEGHA ENGINEERING AND INFRASTRUCTURES LI MITED</td>\n",
       "      <td>75</td>\n",
       "      <td>750000000</td>\n",
       "      <td>2023-07-12</td>\n",
       "      <td>75.0</td>\n",
       "    </tr>\n",
       "    <tr>\n",
       "      <th>1594</th>\n",
       "      <td>1594</td>\n",
       "      <td>05/Oct/23</td>\n",
       "      <td>FUTURE GAMING AND HOTEL SERVICES PVT LTD</td>\n",
       "      <td>65</td>\n",
       "      <td>650000000</td>\n",
       "      <td>2023-10-05</td>\n",
       "      <td>65.0</td>\n",
       "    </tr>\n",
       "    <tr>\n",
       "      <th>1730</th>\n",
       "      <td>1730</td>\n",
       "      <td>12/Oct/23</td>\n",
       "      <td>MEGHA ENGINEERING AND INFRASTRUCTURES LI MITED</td>\n",
       "      <td>110</td>\n",
       "      <td>1100000000</td>\n",
       "      <td>2023-10-12</td>\n",
       "      <td>110.0</td>\n",
       "    </tr>\n",
       "    <tr>\n",
       "      <th>1795</th>\n",
       "      <td>1795</td>\n",
       "      <td>09/Nov/23</td>\n",
       "      <td>BHARTI AIRTEL LIMITED</td>\n",
       "      <td>93</td>\n",
       "      <td>930000000</td>\n",
       "      <td>2023-11-09</td>\n",
       "      <td>93.0</td>\n",
       "    </tr>\n",
       "    <tr>\n",
       "      <th>1812</th>\n",
       "      <td>1812</td>\n",
       "      <td>13/Nov/23</td>\n",
       "      <td>WESTERN UP POWER TRANSMISSION COMPANY LI MITED</td>\n",
       "      <td>60</td>\n",
       "      <td>600000000</td>\n",
       "      <td>2023-11-13</td>\n",
       "      <td>60.0</td>\n",
       "    </tr>\n",
       "    <tr>\n",
       "      <th>1919</th>\n",
       "      <td>1919</td>\n",
       "      <td>09/Jan/24</td>\n",
       "      <td>FUTURE GAMING AND HOTEL SERVICES PR</td>\n",
       "      <td>63</td>\n",
       "      <td>630000000</td>\n",
       "      <td>2024-01-09</td>\n",
       "      <td>63.0</td>\n",
       "    </tr>\n",
       "  </tbody>\n",
       "</table>\n",
       "</div>"
      ],
      "text/plain": [
       "      index       Date                                              donor  \\\n",
       "56       56  16/Apr/19                    KEVENTER FOODPARK INFRA LIMITED   \n",
       "175     175  07/May/19                    KEVENTER FOODPARK INFRA LIMITED   \n",
       "193     193  08/May/19                    KEVENTER FOODPARK INFRA LIMITED   \n",
       "196     196  08/May/19                                      MADANLAL LTD.   \n",
       "232     232  10/May/19                                      MADANLAL LTD.   \n",
       "395     395  21/Oct/20                FUTURE GAMING AND HOTEL SERVICES PR   \n",
       "405     405  27/Oct/20                FUTURE GAMING AND HOTEL SERVICES PR   \n",
       "446     446  05/Apr/21                          ESSEL MINING AND INDS LTD   \n",
       "505     505  09/Apr/21                FUTURE GAMING AND HOTEL SERVICES PR   \n",
       "606     606  05/Oct/21                FUTURE GAMING AND HOTEL SERVICES PR   \n",
       "738     738  05/Jan/22                FUTURE GAMING AND HOTEL SERVICES PR   \n",
       "747     747  05/Jan/22                      QWIKSUPPLYCHAINPRIVATELIMITED   \n",
       "755     755  06/Jan/22   FUTURE GAMING AND HOTEL SERVICES PRIVATE LIMITED   \n",
       "786     786  07/Jan/22          MEGHA ENGINEERING AND INFRASTRUCTURES LTD   \n",
       "865     865  10/Jan/22                                    VEDANTA LIMITED   \n",
       "884     884  07/Apr/22                FUTURE GAMING AND HOTEL SERVICES PR   \n",
       "966     966  06/Jul/22                FUTURE GAMING AND HOTEL SERVICES PR   \n",
       "1000   1000  06/Oct/22                FUTURE GAMING AND HOTEL SERVICES PR   \n",
       "1094   1094  11/Nov/22                      QWIKSUPPLYCHAINPRIVATELIMITED   \n",
       "1117   1117  14/Nov/22                                    VEDANTA LIMITED   \n",
       "1172   1172  12/Dec/22                     BIRLACARBONINDIAPRIVATELIMITED   \n",
       "1175   1175  12/Dec/22     MEGHA ENGINEERING AND INFRASTRUCTURES LI MITED   \n",
       "1234   1234  05/Apr/23                FUTURE GAMING AND HOTEL SERVICES PR   \n",
       "1335   1335  11/Apr/23                FUTURE GAMING AND HOTEL SERVICES PR   \n",
       "1344   1344  11/Apr/23     MEGHA ENGINEERING AND INFRASTRUCTURES LI MITED   \n",
       "1430   1430  06/Jul/23                FUTURE GAMING AND HOTEL SERVICES PR   \n",
       "1548   1548  12/Jul/23     MEGHA ENGINEERING AND INFRASTRUCTURES LI MITED   \n",
       "1594   1594  05/Oct/23           FUTURE GAMING AND HOTEL SERVICES PVT LTD   \n",
       "1730   1730  12/Oct/23     MEGHA ENGINEERING AND INFRASTRUCTURES LI MITED   \n",
       "1795   1795  09/Nov/23                              BHARTI AIRTEL LIMITED   \n",
       "1812   1812  13/Nov/23     WESTERN UP POWER TRANSMISSION COMPANY LI MITED   \n",
       "1919   1919  09/Jan/24                FUTURE GAMING AND HOTEL SERVICES PR   \n",
       "\n",
       "      count  denomination       date  donation  \n",
       "56       55     550000000 2019-04-16      55.0  \n",
       "175      84     750000000 2019-05-07      75.0  \n",
       "193      65     650000000 2019-05-08      65.0  \n",
       "196     110    1100000000 2019-05-08     110.0  \n",
       "232      89     755000000 2019-05-10      75.5  \n",
       "395      60     600000000 2020-10-21      60.0  \n",
       "405      90     900000000 2020-10-27      90.0  \n",
       "446      59     545000000 2021-04-05      54.5  \n",
       "505      60     600000000 2021-04-09      60.0  \n",
       "606     195    1950000000 2021-10-05     195.0  \n",
       "738     100    1000000000 2022-01-05     100.0  \n",
       "747     225    2250000000 2022-01-05     225.0  \n",
       "755      95     950000000 2022-01-06      95.0  \n",
       "786      70     700000000 2022-01-07      70.0  \n",
       "865      73     730000000 2022-01-10      73.0  \n",
       "884     100    1000000000 2022-04-07     100.0  \n",
       "966      75     750000000 2022-07-06      75.0  \n",
       "1000    105    1050000000 2022-10-06     105.0  \n",
       "1094    125    1250000000 2022-11-11     125.0  \n",
       "1117    110    1100000000 2022-11-14     110.0  \n",
       "1172     55     550000000 2022-12-12      55.0  \n",
       "1175     56     560000000 2022-12-12      56.0  \n",
       "1234     90     900000000 2023-04-05      90.0  \n",
       "1335     60     600000000 2023-04-11      60.0  \n",
       "1344    140    1400000000 2023-04-11     140.0  \n",
       "1430     63     630000000 2023-07-06      63.0  \n",
       "1548     75     750000000 2023-07-12      75.0  \n",
       "1594     65     650000000 2023-10-05      65.0  \n",
       "1730    110    1100000000 2023-10-12     110.0  \n",
       "1795     93     930000000 2023-11-09      93.0  \n",
       "1812     60     600000000 2023-11-13      60.0  \n",
       "1919     63     630000000 2024-01-09      63.0  "
      ]
     },
     "execution_count": 47,
     "metadata": {},
     "output_type": "execute_result"
    }
   ],
   "source": [
    "df_donor[df_donor['donation']>50]"
   ]
  },
  {
   "cell_type": "code",
   "execution_count": 50,
   "id": "60bbb251",
   "metadata": {},
   "outputs": [
    {
     "data": {
      "text/plain": [
       "812.8002000000001"
      ]
     },
     "execution_count": 50,
     "metadata": {},
     "output_type": "execute_result"
    }
   ],
   "source": [
    "sum(df_donor[df_donor['Date'].str.contains(\"Jul/23\")]['donation'])"
   ]
  },
  {
   "cell_type": "code",
   "execution_count": 51,
   "id": "bf1d738a",
   "metadata": {},
   "outputs": [
    {
     "data": {
      "text/plain": [
       "812.7501000000001"
      ]
     },
     "execution_count": 51,
     "metadata": {},
     "output_type": "execute_result"
    }
   ],
   "source": [
    "sum(df_party[df_party['Date'].str.contains(\"Jul/23\")]['funds'])"
   ]
  },
  {
   "cell_type": "code",
   "execution_count": 55,
   "id": "b7bf075c",
   "metadata": {},
   "outputs": [
    {
     "data": {
      "text/plain": [
       "86.9301"
      ]
     },
     "execution_count": 55,
     "metadata": {},
     "output_type": "execute_result"
    }
   ],
   "source": [
    "sum(df_party[df_party['party'].str.contains(\"BHARTIYA\") & df_party['Date'].str.contains(\"Jul/23\")]['funds'])"
   ]
  },
  {
   "cell_type": "code",
   "execution_count": 52,
   "id": "674f385a",
   "metadata": {},
   "outputs": [],
   "source": [
    "plt_data_party = df_party[df_party['Date'].str.contains(\"Jul/23\")]\n",
    "plt_data_donor = df_donor[df_donor['Date'].str.contains(\"Jul/23\")]"
   ]
  },
  {
   "cell_type": "code",
   "execution_count": 53,
   "id": "9857c7d7",
   "metadata": {},
   "outputs": [
    {
     "data": {
      "application/vnd.plotly.v1+json": {
       "config": {
        "plotlyServerURL": "https://plot.ly"
       },
       "data": [
        {
         "alignmentgroup": "True",
         "hovertemplate": "Party= BIJU JANATA DAL<br>Date=%{x}<br>Funds=%{y}<extra></extra>",
         "legendgroup": " BIJU JANATA DAL",
         "marker": {
          "color": "#636efa",
          "pattern": {
           "shape": ""
          }
         },
         "name": " BIJU JANATA DAL",
         "offsetgroup": " BIJU JANATA DAL",
         "orientation": "v",
         "showlegend": true,
         "textposition": "auto",
         "type": "bar",
         "x": [
          "2023-07-07T00:00:00",
          "2023-07-11T00:00:00",
          "2023-07-13T00:00:00",
          "2023-07-15T00:00:00"
         ],
         "xaxis": "x",
         "y": [
          50,
          7.5,
          84,
          14
         ],
         "yaxis": "y"
        },
        {
         "alignmentgroup": "True",
         "hovertemplate": "Party= BHARTIYA JANTA PARTY<br>Date=%{x}<br>Funds=%{y}<extra></extra>",
         "legendgroup": " BHARTIYA JANTA PARTY",
         "marker": {
          "color": "#EF553B",
          "pattern": {
           "shape": ""
          }
         },
         "name": " BHARTIYA JANTA PARTY",
         "offsetgroup": " BHARTIYA JANTA PARTY",
         "orientation": "v",
         "showlegend": true,
         "textposition": "auto",
         "type": "bar",
         "x": [
          "2023-07-10T00:00:00",
          "2023-07-12T00:00:00",
          "2023-07-15T00:00:00",
          "2023-07-20T00:00:00",
          "2023-07-24T00:00:00"
         ],
         "xaxis": "x",
         "y": [
          10,
          39.5,
          26.99,
          10.44,
          0.0001
         ],
         "yaxis": "y"
        },
        {
         "alignmentgroup": "True",
         "hovertemplate": "Party= PRESIDENT, ALL INDIA CONGRESS COMMITTEE<br>Date=%{x}<br>Funds=%{y}<extra></extra>",
         "legendgroup": " PRESIDENT, ALL INDIA CONGRESS COMMITTEE",
         "marker": {
          "color": "#00cc96",
          "pattern": {
           "shape": ""
          }
         },
         "name": " PRESIDENT, ALL INDIA CONGRESS COMMITTEE",
         "offsetgroup": " PRESIDENT, ALL INDIA CONGRESS COMMITTEE",
         "orientation": "v",
         "showlegend": true,
         "textposition": "auto",
         "type": "bar",
         "x": [
          "2023-07-10T00:00:00",
          "2023-07-13T00:00:00",
          "2023-07-14T00:00:00"
         ],
         "xaxis": "x",
         "y": [
          0.5,
          10,
          10
         ],
         "yaxis": "y"
        },
        {
         "alignmentgroup": "True",
         "hovertemplate": "Party= TELUGU DESAM PARTY<br>Date=%{x}<br>Funds=%{y}<extra></extra>",
         "legendgroup": " TELUGU DESAM PARTY",
         "marker": {
          "color": "#ab63fa",
          "pattern": {
           "shape": ""
          }
         },
         "name": " TELUGU DESAM PARTY",
         "offsetgroup": " TELUGU DESAM PARTY",
         "orientation": "v",
         "showlegend": true,
         "textposition": "auto",
         "type": "bar",
         "x": [
          "2023-07-10T00:00:00",
          "2023-07-13T00:00:00",
          "2023-07-14T00:00:00"
         ],
         "xaxis": "x",
         "y": [
          0.5,
          2,
          0.25
         ],
         "yaxis": "y"
        },
        {
         "alignmentgroup": "True",
         "hovertemplate": "Party= AAM AADMI PARTY<br>Date=%{x}<br>Funds=%{y}<extra></extra>",
         "legendgroup": " AAM AADMI PARTY",
         "marker": {
          "color": "#FFA15A",
          "pattern": {
           "shape": ""
          }
         },
         "name": " AAM AADMI PARTY",
         "offsetgroup": " AAM AADMI PARTY",
         "orientation": "v",
         "showlegend": true,
         "textposition": "auto",
         "type": "bar",
         "x": [
          "2023-07-11T00:00:00",
          "2023-07-15T00:00:00",
          "2023-07-26T00:00:00"
         ],
         "xaxis": "x",
         "y": [
          5,
          5,
          0.15
         ],
         "yaxis": "y"
        },
        {
         "alignmentgroup": "True",
         "hovertemplate": "Party= ALL INDIA TRINAMOOL CONGRESS<br>Date=%{x}<br>Funds=%{y}<extra></extra>",
         "legendgroup": " ALL INDIA TRINAMOOL CONGRESS",
         "marker": {
          "color": "#19d3f3",
          "pattern": {
           "shape": ""
          }
         },
         "name": " ALL INDIA TRINAMOOL CONGRESS",
         "offsetgroup": " ALL INDIA TRINAMOOL CONGRESS",
         "orientation": "v",
         "showlegend": true,
         "textposition": "auto",
         "type": "bar",
         "x": [
          "2023-07-11T00:00:00",
          "2023-07-12T00:00:00",
          "2023-07-13T00:00:00",
          "2023-07-14T00:00:00",
          "2023-07-19T00:00:00"
         ],
         "xaxis": "x",
         "y": [
          45,
          20,
          42,
          8,
          2
         ],
         "yaxis": "y"
        },
        {
         "alignmentgroup": "True",
         "hovertemplate": "Party= YSR CONGRESS PARTY YUVAJANA SRAMIKA R<br>Date=%{x}<br>Funds=%{y}<extra></extra>",
         "legendgroup": " YSR CONGRESS PARTY YUVAJANA SRAMIKA R",
         "marker": {
          "color": "#FF6692",
          "pattern": {
           "shape": ""
          }
         },
         "name": " YSR CONGRESS PARTY YUVAJANA SRAMIKA R",
         "offsetgroup": " YSR CONGRESS PARTY YUVAJANA SRAMIKA R",
         "orientation": "v",
         "showlegend": true,
         "textposition": "auto",
         "type": "bar",
         "x": [
          "2023-07-12T00:00:00",
          "2023-07-17T00:00:00"
         ],
         "xaxis": "x",
         "y": [
          0.5,
          25
         ],
         "yaxis": "y"
        },
        {
         "alignmentgroup": "True",
         "hovertemplate": "Party= BHARAT RASHTRA SAMITHI<br>Date=%{x}<br>Funds=%{y}<extra></extra>",
         "legendgroup": " BHARAT RASHTRA SAMITHI",
         "marker": {
          "color": "#B6E880",
          "pattern": {
           "shape": ""
          }
         },
         "name": " BHARAT RASHTRA SAMITHI",
         "offsetgroup": " BHARAT RASHTRA SAMITHI",
         "orientation": "v",
         "showlegend": true,
         "textposition": "auto",
         "type": "bar",
         "x": [
          "2023-07-13T00:00:00",
          "2023-07-14T00:00:00",
          "2023-07-15T00:00:00",
          "2023-07-17T00:00:00",
          "2023-07-18T00:00:00",
          "2023-07-24T00:00:00",
          "2023-07-25T00:00:00"
         ],
         "xaxis": "x",
         "y": [
          224,
          24.72,
          21,
          18.7,
          25,
          1,
          4
         ],
         "yaxis": "y"
        },
        {
         "alignmentgroup": "True",
         "hovertemplate": "Party= RASHTRIYA JANTA DAL<br>Date=%{x}<br>Funds=%{y}<extra></extra>",
         "legendgroup": " RASHTRIYA JANTA DAL",
         "marker": {
          "color": "#FF97FF",
          "pattern": {
           "shape": ""
          }
         },
         "name": " RASHTRIYA JANTA DAL",
         "offsetgroup": " RASHTRIYA JANTA DAL",
         "orientation": "v",
         "showlegend": true,
         "textposition": "auto",
         "type": "bar",
         "x": [
          "2023-07-18T00:00:00"
         ],
         "xaxis": "x",
         "y": [
          1
         ],
         "yaxis": "y"
        },
        {
         "alignmentgroup": "True",
         "hovertemplate": "Party= RASTRIYA JANTA DAL<br>Date=%{x}<br>Funds=%{y}<extra></extra>",
         "legendgroup": " RASTRIYA JANTA DAL",
         "marker": {
          "color": "#FECB52",
          "pattern": {
           "shape": ""
          }
         },
         "name": " RASTRIYA JANTA DAL",
         "offsetgroup": " RASTRIYA JANTA DAL",
         "orientation": "v",
         "showlegend": true,
         "textposition": "auto",
         "type": "bar",
         "x": [
          "2023-07-18T00:00:00",
          "2023-07-19T00:00:00"
         ],
         "xaxis": "x",
         "y": [
          19.7,
          9.3
         ],
         "yaxis": "y"
        },
        {
         "alignmentgroup": "True",
         "hovertemplate": "Party= SIKKIM KRANTIKARI MORCHA<br>Date=%{x}<br>Funds=%{y}<extra></extra>",
         "legendgroup": " SIKKIM KRANTIKARI MORCHA",
         "marker": {
          "color": "#636efa",
          "pattern": {
           "shape": ""
          }
         },
         "name": " SIKKIM KRANTIKARI MORCHA",
         "offsetgroup": " SIKKIM KRANTIKARI MORCHA",
         "orientation": "v",
         "showlegend": true,
         "textposition": "auto",
         "type": "bar",
         "x": [
          "2023-07-20T00:00:00"
         ],
         "xaxis": "x",
         "y": [
          8
         ],
         "yaxis": "y"
        },
        {
         "alignmentgroup": "True",
         "hovertemplate": "Party= JHARKHAND MUKTI MORCHA<br>Date=%{x}<br>Funds=%{y}<extra></extra>",
         "legendgroup": " JHARKHAND MUKTI MORCHA",
         "marker": {
          "color": "#EF553B",
          "pattern": {
           "shape": ""
          }
         },
         "name": " JHARKHAND MUKTI MORCHA",
         "offsetgroup": " JHARKHAND MUKTI MORCHA",
         "orientation": "v",
         "showlegend": true,
         "textposition": "auto",
         "type": "bar",
         "x": [
          "2023-07-24T00:00:00"
         ],
         "xaxis": "x",
         "y": [
          5
         ],
         "yaxis": "y"
        },
        {
         "alignmentgroup": "True",
         "hovertemplate": "Party= SHIVSENA POLITICAL PARTY<br>Date=%{x}<br>Funds=%{y}<extra></extra>",
         "legendgroup": " SHIVSENA POLITICAL PARTY",
         "marker": {
          "color": "#00cc96",
          "pattern": {
           "shape": ""
          }
         },
         "name": " SHIVSENA POLITICAL PARTY",
         "offsetgroup": " SHIVSENA POLITICAL PARTY",
         "orientation": "v",
         "showlegend": true,
         "textposition": "auto",
         "type": "bar",
         "x": [
          "2023-07-25T00:00:00"
         ],
         "xaxis": "x",
         "y": [
          33
         ],
         "yaxis": "y"
        },
        {
         "hovertemplate": "Donor= MODERN ROAD MAKERS PVT LTD<br>Date=%{x}<br>Donation=%{y}<extra></extra>",
         "legendgroup": " MODERN ROAD MAKERS PVT LTD",
         "marker": {
          "color": "#636efa",
          "symbol": "circle"
         },
         "mode": "markers",
         "name": " MODERN ROAD MAKERS PVT LTD",
         "orientation": "v",
         "showlegend": true,
         "type": "scatter",
         "x": [
          "2023-07-03T00:00:00"
         ],
         "xaxis": "x",
         "y": [
          5
         ],
         "yaxis": "y"
        },
        {
         "hovertemplate": "Donor= SUPER CYBERTECH PARK PRIVATE LIMITE<br>Date=%{x}<br>Donation=%{y}<extra></extra>",
         "legendgroup": " SUPER CYBERTECH PARK PRIVATE LIMITE",
         "marker": {
          "color": "#EF553B",
          "symbol": "circle"
         },
         "mode": "markers",
         "name": " SUPER CYBERTECH PARK PRIVATE LIMITE",
         "orientation": "v",
         "showlegend": true,
         "type": "scatter",
         "x": [
          "2023-07-03T00:00:00"
         ],
         "xaxis": "x",
         "y": [
          10
         ],
         "yaxis": "y"
        },
        {
         "hovertemplate": "Donor= IRB MP EXPRESSWAY PRIVATE LIMITED<br>Date=%{x}<br>Donation=%{y}<extra></extra>",
         "legendgroup": " IRB MP EXPRESSWAY PRIVATE LIMITED",
         "marker": {
          "color": "#00cc96",
          "symbol": "circle"
         },
         "mode": "markers",
         "name": " IRB MP EXPRESSWAY PRIVATE LIMITED",
         "orientation": "v",
         "showlegend": true,
         "type": "scatter",
         "x": [
          "2023-07-04T00:00:00"
         ],
         "xaxis": "x",
         "y": [
          25
         ],
         "yaxis": "y"
        },
        {
         "hovertemplate": "Donor= JINDAL STEEL AND POWER LIMITED<br>Date=%{x}<br>Donation=%{y}<extra></extra>",
         "legendgroup": " JINDAL STEEL AND POWER LIMITED",
         "marker": {
          "color": "#ab63fa",
          "symbol": "circle"
         },
         "mode": "markers",
         "name": " JINDAL STEEL AND POWER LIMITED",
         "orientation": "v",
         "showlegend": true,
         "type": "scatter",
         "x": [
          "2023-07-04T00:00:00"
         ],
         "xaxis": "x",
         "y": [
          50
         ],
         "yaxis": "y"
        },
        {
         "hovertemplate": "Donor= SAROJIT KUMAR DEY<br>Date=%{x}<br>Donation=%{y}<extra></extra>",
         "legendgroup": " SAROJIT KUMAR DEY",
         "marker": {
          "color": "#FFA15A",
          "symbol": "circle"
         },
         "mode": "markers",
         "name": " SAROJIT KUMAR DEY",
         "orientation": "v",
         "showlegend": true,
         "type": "scatter",
         "x": [
          "2023-07-04T00:00:00"
         ],
         "xaxis": "x",
         "y": [
          0.75
         ],
         "yaxis": "y"
        },
        {
         "hovertemplate": "Donor= TRANSWAYS EXIM PRIVATE LIMITED<br>Date=%{x}<br>Donation=%{y}<extra></extra>",
         "legendgroup": " TRANSWAYS EXIM PRIVATE LIMITED",
         "marker": {
          "color": "#19d3f3",
          "symbol": "circle"
         },
         "mode": "markers",
         "name": " TRANSWAYS EXIM PRIVATE LIMITED",
         "orientation": "v",
         "showlegend": true,
         "type": "scatter",
         "x": [
          "2023-07-04T00:00:00"
         ],
         "xaxis": "x",
         "y": [
          4
         ],
         "yaxis": "y"
        },
        {
         "hovertemplate": "Donor= VENKAT PRANEETH DEVELOPRS P LTD<br>Date=%{x}<br>Donation=%{y}<extra></extra>",
         "legendgroup": " VENKAT PRANEETH DEVELOPRS P LTD",
         "marker": {
          "color": "#FF6692",
          "symbol": "circle"
         },
         "mode": "markers",
         "name": " VENKAT PRANEETH DEVELOPRS P LTD",
         "orientation": "v",
         "showlegend": true,
         "type": "scatter",
         "x": [
          "2023-07-04T00:00:00"
         ],
         "xaxis": "x",
         "y": [
          1
         ],
         "yaxis": "y"
        },
        {
         "hovertemplate": "Donor= ALEMBICPHARMACEUTICALSLINCLRTGS<br>Date=%{x}<br>Donation=%{y}<extra></extra>",
         "legendgroup": " ALEMBICPHARMACEUTICALSLINCLRTGS",
         "marker": {
          "color": "#B6E880",
          "symbol": "circle"
         },
         "mode": "markers",
         "name": " ALEMBICPHARMACEUTICALSLINCLRTGS",
         "orientation": "v",
         "showlegend": true,
         "type": "scatter",
         "x": [
          "2023-07-05T00:00:00"
         ],
         "xaxis": "x",
         "y": [
          0.5
         ],
         "yaxis": "y"
        },
        {
         "hovertemplate": "Donor= DIVI S LABORATORIES LIMITED<br>Date=%{x}<br>Donation=%{y}<extra></extra>",
         "legendgroup": " DIVI S LABORATORIES LIMITED",
         "marker": {
          "color": "#FF97FF",
          "symbol": "circle"
         },
         "mode": "markers",
         "name": " DIVI S LABORATORIES LIMITED",
         "orientation": "v",
         "showlegend": true,
         "type": "scatter",
         "x": [
          "2023-07-05T00:00:00"
         ],
         "xaxis": "x",
         "y": [
          20
         ],
         "yaxis": "y"
        },
        {
         "hovertemplate": "Donor= KALPATARU PROJECTS INTERNATIONAL LIMITED<br>Date=%{x}<br>Donation=%{y}<extra></extra>",
         "legendgroup": " KALPATARU PROJECTS INTERNATIONAL LIMITED",
         "marker": {
          "color": "#FECB52",
          "symbol": "circle"
         },
         "mode": "markers",
         "name": " KALPATARU PROJECTS INTERNATIONAL LIMITED",
         "orientation": "v",
         "showlegend": true,
         "type": "scatter",
         "x": [
          "2023-07-05T00:00:00"
         ],
         "xaxis": "x",
         "y": [
          10
         ],
         "yaxis": "y"
        },
        {
         "hovertemplate": "Donor= KITEX CHILDRENSWEAR LTD<br>Date=%{x}<br>Donation=%{y}<extra></extra>",
         "legendgroup": " KITEX CHILDRENSWEAR LTD",
         "marker": {
          "color": "#636efa",
          "symbol": "circle"
         },
         "mode": "markers",
         "name": " KITEX CHILDRENSWEAR LTD",
         "orientation": "v",
         "showlegend": true,
         "type": "scatter",
         "x": [
          "2023-07-05T00:00:00"
         ],
         "xaxis": "x",
         "y": [
          5
         ],
         "yaxis": "y"
        },
        {
         "hovertemplate": "Donor= KITEX GARMENTS LIMITED<br>Date=%{x}<br>Donation=%{y}<extra></extra>",
         "legendgroup": " KITEX GARMENTS LIMITED",
         "marker": {
          "color": "#EF553B",
          "symbol": "circle"
         },
         "mode": "markers",
         "name": " KITEX GARMENTS LIMITED",
         "orientation": "v",
         "showlegend": true,
         "type": "scatter",
         "x": [
          "2023-07-05T00:00:00"
         ],
         "xaxis": "x",
         "y": [
          10
         ],
         "yaxis": "y"
        },
        {
         "hovertemplate": "Donor= MANOTOSH DAS<br>Date=%{x}<br>Donation=%{y}<extra></extra>",
         "legendgroup": " MANOTOSH DAS",
         "marker": {
          "color": "#00cc96",
          "symbol": "circle"
         },
         "mode": "markers",
         "name": " MANOTOSH DAS",
         "orientation": "v",
         "showlegend": true,
         "type": "scatter",
         "x": [
          "2023-07-05T00:00:00"
         ],
         "xaxis": "x",
         "y": [
          1.2
         ],
         "yaxis": "y"
        },
        {
         "hovertemplate": "Donor= RAMESH AGARWAL C S BOTTLING PL<br>Date=%{x}<br>Donation=%{y}<extra></extra>",
         "legendgroup": " RAMESH AGARWAL C S BOTTLING PL",
         "marker": {
          "color": "#ab63fa",
          "symbol": "circle"
         },
         "mode": "markers",
         "name": " RAMESH AGARWAL C S BOTTLING PL",
         "orientation": "v",
         "showlegend": true,
         "type": "scatter",
         "x": [
          "2023-07-05T00:00:00"
         ],
         "xaxis": "x",
         "y": [
          1.5
         ],
         "yaxis": "y"
        },
        {
         "hovertemplate": "Donor= SENGUPTA AND SENGUPTA PRIVATE LIMIT<br>Date=%{x}<br>Donation=%{y}<extra></extra>",
         "legendgroup": " SENGUPTA AND SENGUPTA PRIVATE LIMIT",
         "marker": {
          "color": "#FFA15A",
          "symbol": "circle"
         },
         "mode": "markers",
         "name": " SENGUPTA AND SENGUPTA PRIVATE LIMIT",
         "orientation": "v",
         "showlegend": true,
         "type": "scatter",
         "x": [
          "2023-07-05T00:00:00"
         ],
         "xaxis": "x",
         "y": [
          2
         ],
         "yaxis": "y"
        },
        {
         "hovertemplate": "Donor= WPIL LIMITED<br>Date=%{x}<br>Donation=%{y}<extra></extra>",
         "legendgroup": " WPIL LIMITED",
         "marker": {
          "color": "#19d3f3",
          "symbol": "circle"
         },
         "mode": "markers",
         "name": " WPIL LIMITED",
         "orientation": "v",
         "showlegend": true,
         "type": "scatter",
         "x": [
          "2023-07-05T00:00:00"
         ],
         "xaxis": "x",
         "y": [
          7
         ],
         "yaxis": "y"
        },
        {
         "hovertemplate": "Donor= AALAYA CONSTRUCTIONS<br>Date=%{x}<br>Donation=%{y}<extra></extra>",
         "legendgroup": " AALAYA CONSTRUCTIONS",
         "marker": {
          "color": "#FF6692",
          "symbol": "circle"
         },
         "mode": "markers",
         "name": " AALAYA CONSTRUCTIONS",
         "orientation": "v",
         "showlegend": true,
         "type": "scatter",
         "x": [
          "2023-07-06T00:00:00"
         ],
         "xaxis": "x",
         "y": [
          1
         ],
         "yaxis": "y"
        },
        {
         "hovertemplate": "Donor= BHASWINI DEVELOPERS<br>Date=%{x}<br>Donation=%{y}<extra></extra>",
         "legendgroup": " BHASWINI DEVELOPERS",
         "marker": {
          "color": "#B6E880",
          "symbol": "circle"
         },
         "mode": "markers",
         "name": " BHASWINI DEVELOPERS",
         "orientation": "v",
         "showlegend": true,
         "type": "scatter",
         "x": [
          "2023-07-06T00:00:00"
         ],
         "xaxis": "x",
         "y": [
          1
         ],
         "yaxis": "y"
        },
        {
         "hovertemplate": "Donor= CASTLE LIQUORS PRIVATE LIMITED<br>Date=%{x}<br>Donation=%{y}<extra></extra>",
         "legendgroup": " CASTLE LIQUORS PRIVATE LIMITED",
         "marker": {
          "color": "#FF97FF",
          "symbol": "circle"
         },
         "mode": "markers",
         "name": " CASTLE LIQUORS PRIVATE LIMITED",
         "orientation": "v",
         "showlegend": true,
         "type": "scatter",
         "x": [
          "2023-07-06T00:00:00"
         ],
         "xaxis": "x",
         "y": [
          2
         ],
         "yaxis": "y"
        },
        {
         "hovertemplate": "Donor= DIVIT SECURITY<br>Date=%{x}<br>Donation=%{y}<extra></extra>",
         "legendgroup": " DIVIT SECURITY",
         "marker": {
          "color": "#FECB52",
          "symbol": "circle"
         },
         "mode": "markers",
         "name": " DIVIT SECURITY",
         "orientation": "v",
         "showlegend": true,
         "type": "scatter",
         "x": [
          "2023-07-06T00:00:00"
         ],
         "xaxis": "x",
         "y": [
          0.7
         ],
         "yaxis": "y"
        },
        {
         "hovertemplate": "Donor= FUTURE GAMING AND HOTEL SERVICES PR<br>Date=%{x}<br>Donation=%{y}<extra></extra>",
         "legendgroup": " FUTURE GAMING AND HOTEL SERVICES PR",
         "marker": {
          "color": "#636efa",
          "symbol": "circle"
         },
         "mode": "markers",
         "name": " FUTURE GAMING AND HOTEL SERVICES PR",
         "orientation": "v",
         "showlegend": true,
         "type": "scatter",
         "x": [
          "2023-07-06T00:00:00"
         ],
         "xaxis": "x",
         "y": [
          63
         ],
         "yaxis": "y"
        },
        {
         "hovertemplate": "Donor= IFB AGRO INDUSTRIES LIMITED<br>Date=%{x}<br>Donation=%{y}<extra></extra>",
         "legendgroup": " IFB AGRO INDUSTRIES LIMITED",
         "marker": {
          "color": "#EF553B",
          "symbol": "circle"
         },
         "mode": "markers",
         "name": " IFB AGRO INDUSTRIES LIMITED",
         "orientation": "v",
         "showlegend": true,
         "type": "scatter",
         "x": [
          "2023-07-06T00:00:00"
         ],
         "xaxis": "x",
         "y": [
          15
         ],
         "yaxis": "y"
        },
        {
         "hovertemplate": "Donor= JINDAL STAINLESS LTD<br>Date=%{x}<br>Donation=%{y}<extra></extra>",
         "legendgroup": " JINDAL STAINLESS LTD",
         "marker": {
          "color": "#00cc96",
          "symbol": "circle"
         },
         "mode": "markers",
         "name": " JINDAL STAINLESS LTD",
         "orientation": "v",
         "showlegend": true,
         "type": "scatter",
         "x": [
          "2023-07-06T00:00:00"
         ],
         "xaxis": "x",
         "y": [
          10
         ],
         "yaxis": "y"
        },
        {
         "hovertemplate": "Donor= M S VARAS INTERNATIONAL PVT LTD<br>Date=%{x}<br>Donation=%{y}<extra></extra>",
         "legendgroup": " M S VARAS INTERNATIONAL PVT LTD",
         "marker": {
          "color": "#ab63fa",
          "symbol": "circle"
         },
         "mode": "markers",
         "name": " M S VARAS INTERNATIONAL PVT LTD",
         "orientation": "v",
         "showlegend": true,
         "type": "scatter",
         "x": [
          "2023-07-06T00:00:00"
         ],
         "xaxis": "x",
         "y": [
          0.8
         ],
         "yaxis": "y"
        },
        {
         "hovertemplate": "Donor= MKJ ENTERPRISES LIMITED<br>Date=%{x}<br>Donation=%{y}<extra></extra>",
         "legendgroup": " MKJ ENTERPRISES LIMITED",
         "marker": {
          "color": "#FFA15A",
          "symbol": "circle"
         },
         "mode": "markers",
         "name": " MKJ ENTERPRISES LIMITED",
         "orientation": "v",
         "showlegend": true,
         "type": "scatter",
         "x": [
          "2023-07-06T00:00:00",
          "2023-07-12T00:00:00"
         ],
         "xaxis": "x",
         "y": [
          2,
          5
         ],
         "yaxis": "y"
        },
        {
         "hovertemplate": "Donor= MY HOME INFRASTRUCTURES PRIVATE LI<br>Date=%{x}<br>Donation=%{y}<extra></extra>",
         "legendgroup": " MY HOME INFRASTRUCTURES PRIVATE LI",
         "marker": {
          "color": "#19d3f3",
          "symbol": "circle"
         },
         "mode": "markers",
         "name": " MY HOME INFRASTRUCTURES PRIVATE LI",
         "orientation": "v",
         "showlegend": true,
         "type": "scatter",
         "x": [
          "2023-07-06T00:00:00"
         ],
         "xaxis": "x",
         "y": [
          15
         ],
         "yaxis": "y"
        },
        {
         "hovertemplate": "Donor= SRI DEVELOPERS<br>Date=%{x}<br>Donation=%{y}<extra></extra>",
         "legendgroup": " SRI DEVELOPERS",
         "marker": {
          "color": "#FF6692",
          "symbol": "circle"
         },
         "mode": "markers",
         "name": " SRI DEVELOPERS",
         "orientation": "v",
         "showlegend": true,
         "type": "scatter",
         "x": [
          "2023-07-06T00:00:00"
         ],
         "xaxis": "x",
         "y": [
          1
         ],
         "yaxis": "y"
        },
        {
         "hovertemplate": "Donor= SRI KARTHIKEYA DEVELOPERS<br>Date=%{x}<br>Donation=%{y}<extra></extra>",
         "legendgroup": " SRI KARTHIKEYA DEVELOPERS",
         "marker": {
          "color": "#B6E880",
          "symbol": "circle"
         },
         "mode": "markers",
         "name": " SRI KARTHIKEYA DEVELOPERS",
         "orientation": "v",
         "showlegend": true,
         "type": "scatter",
         "x": [
          "2023-07-06T00:00:00"
         ],
         "xaxis": "x",
         "y": [
          1
         ],
         "yaxis": "y"
        },
        {
         "hovertemplate": "Donor= VASUDHA DEVELOPERS<br>Date=%{x}<br>Donation=%{y}<extra></extra>",
         "legendgroup": " VASUDHA DEVELOPERS",
         "marker": {
          "color": "#FF97FF",
          "symbol": "circle"
         },
         "mode": "markers",
         "name": " VASUDHA DEVELOPERS",
         "orientation": "v",
         "showlegend": true,
         "type": "scatter",
         "x": [
          "2023-07-06T00:00:00"
         ],
         "xaxis": "x",
         "y": [
          1
         ],
         "yaxis": "y"
        },
        {
         "hovertemplate": "Donor= AQUA SPACE DEVELOPERS PRIVATE LIMIT<br>Date=%{x}<br>Donation=%{y}<extra></extra>",
         "legendgroup": " AQUA SPACE DEVELOPERS PRIVATE LIMIT",
         "marker": {
          "color": "#FECB52",
          "symbol": "circle"
         },
         "mode": "markers",
         "name": " AQUA SPACE DEVELOPERS PRIVATE LIMIT",
         "orientation": "v",
         "showlegend": true,
         "type": "scatter",
         "x": [
          "2023-07-07T00:00:00"
         ],
         "xaxis": "x",
         "y": [
          15
         ],
         "yaxis": "y"
        },
        {
         "hovertemplate": "Donor= ASKUS LOGISTICS PRIVATE LIMITED<br>Date=%{x}<br>Donation=%{y}<extra></extra>",
         "legendgroup": " ASKUS LOGISTICS PRIVATE LIMITED",
         "marker": {
          "color": "#636efa",
          "symbol": "circle"
         },
         "mode": "markers",
         "name": " ASKUS LOGISTICS PRIVATE LIMITED",
         "orientation": "v",
         "showlegend": true,
         "type": "scatter",
         "x": [
          "2023-07-07T00:00:00"
         ],
         "xaxis": "x",
         "y": [
          3
         ],
         "yaxis": "y"
        },
        {
         "hovertemplate": "Donor= BALU CEMENT CORPORATION<br>Date=%{x}<br>Donation=%{y}<extra></extra>",
         "legendgroup": " BALU CEMENT CORPORATION",
         "marker": {
          "color": "#EF553B",
          "symbol": "circle"
         },
         "mode": "markers",
         "name": " BALU CEMENT CORPORATION",
         "orientation": "v",
         "showlegend": true,
         "type": "scatter",
         "x": [
          "2023-07-07T00:00:00"
         ],
         "xaxis": "x",
         "y": [
          1.5
         ],
         "yaxis": "y"
        },
        {
         "hovertemplate": "Donor= BALU IRON AND STEEL COMPANY<br>Date=%{x}<br>Donation=%{y}<extra></extra>",
         "legendgroup": " BALU IRON AND STEEL COMPANY",
         "marker": {
          "color": "#00cc96",
          "symbol": "circle"
         },
         "mode": "markers",
         "name": " BALU IRON AND STEEL COMPANY",
         "orientation": "v",
         "showlegend": true,
         "type": "scatter",
         "x": [
          "2023-07-07T00:00:00"
         ],
         "xaxis": "x",
         "y": [
          6
         ],
         "yaxis": "y"
        },
        {
         "hovertemplate": "Donor= CHANDAKA SANYASI RAO<br>Date=%{x}<br>Donation=%{y}<extra></extra>",
         "legendgroup": " CHANDAKA SANYASI RAO",
         "marker": {
          "color": "#ab63fa",
          "symbol": "circle"
         },
         "mode": "markers",
         "name": " CHANDAKA SANYASI RAO",
         "orientation": "v",
         "showlegend": true,
         "type": "scatter",
         "x": [
          "2023-07-07T00:00:00"
         ],
         "xaxis": "x",
         "y": [
          0.05
         ],
         "yaxis": "y"
        },
        {
         "hovertemplate": "Donor= CROCHET TRADE AND INVESTMENT PVT LT<br>Date=%{x}<br>Donation=%{y}<extra></extra>",
         "legendgroup": " CROCHET TRADE AND INVESTMENT PVT LT",
         "marker": {
          "color": "#FFA15A",
          "symbol": "circle"
         },
         "mode": "markers",
         "name": " CROCHET TRADE AND INVESTMENT PVT LT",
         "orientation": "v",
         "showlegend": true,
         "type": "scatter",
         "x": [
          "2023-07-07T00:00:00"
         ],
         "xaxis": "x",
         "y": [
          1.5
         ],
         "yaxis": "y"
        },
        {
         "hovertemplate": "Donor= DINESH PROJECTS<br>Date=%{x}<br>Donation=%{y}<extra></extra>",
         "legendgroup": " DINESH PROJECTS",
         "marker": {
          "color": "#19d3f3",
          "symbol": "circle"
         },
         "mode": "markers",
         "name": " DINESH PROJECTS",
         "orientation": "v",
         "showlegend": true,
         "type": "scatter",
         "x": [
          "2023-07-07T00:00:00"
         ],
         "xaxis": "x",
         "y": [
          0.55
         ],
         "yaxis": "y"
        },
        {
         "hovertemplate": "Donor= DIPAN P SHAH<br>Date=%{x}<br>Donation=%{y}<extra></extra>",
         "legendgroup": " DIPAN P SHAH",
         "marker": {
          "color": "#FF6692",
          "symbol": "circle"
         },
         "mode": "markers",
         "name": " DIPAN P SHAH",
         "orientation": "v",
         "showlegend": true,
         "type": "scatter",
         "x": [
          "2023-07-07T00:00:00"
         ],
         "xaxis": "x",
         "y": [
          0.25
         ],
         "yaxis": "y"
        },
        {
         "hovertemplate": "Donor= ELLISBRIDGE ESTATES PVT LTD<br>Date=%{x}<br>Donation=%{y}<extra></extra>",
         "legendgroup": " ELLISBRIDGE ESTATES PVT LTD",
         "marker": {
          "color": "#B6E880",
          "symbol": "circle"
         },
         "mode": "markers",
         "name": " ELLISBRIDGE ESTATES PVT LTD",
         "orientation": "v",
         "showlegend": true,
         "type": "scatter",
         "x": [
          "2023-07-07T00:00:00"
         ],
         "xaxis": "x",
         "y": [
          0.5
         ],
         "yaxis": "y"
        },
        {
         "hovertemplate": "Donor= FOR M/S SRI NIDHI CONSTRUCTIONS<br>Date=%{x}<br>Donation=%{y}<extra></extra>",
         "legendgroup": " FOR M/S SRI NIDHI CONSTRUCTIONS",
         "marker": {
          "color": "#FF97FF",
          "symbol": "circle"
         },
         "mode": "markers",
         "name": " FOR M/S SRI NIDHI CONSTRUCTIONS",
         "orientation": "v",
         "showlegend": true,
         "type": "scatter",
         "x": [
          "2023-07-07T00:00:00"
         ],
         "xaxis": "x",
         "y": [
          1
         ],
         "yaxis": "y"
        },
        {
         "hovertemplate": "Donor= G CHANDRASHEKHAR<br>Date=%{x}<br>Donation=%{y}<extra></extra>",
         "legendgroup": " G CHANDRASHEKHAR",
         "marker": {
          "color": "#FECB52",
          "symbol": "circle"
         },
         "mode": "markers",
         "name": " G CHANDRASHEKHAR",
         "orientation": "v",
         "showlegend": true,
         "type": "scatter",
         "x": [
          "2023-07-07T00:00:00"
         ],
         "xaxis": "x",
         "y": [
          0.05
         ],
         "yaxis": "y"
        },
        {
         "hovertemplate": "Donor= GAJA ENGINEERING PVT LTD<br>Date=%{x}<br>Donation=%{y}<extra></extra>",
         "legendgroup": " GAJA ENGINEERING PVT LTD",
         "marker": {
          "color": "#636efa",
          "symbol": "circle"
         },
         "mode": "markers",
         "name": " GAJA ENGINEERING PVT LTD",
         "orientation": "v",
         "showlegend": true,
         "type": "scatter",
         "x": [
          "2023-07-07T00:00:00"
         ],
         "xaxis": "x",
         "y": [
          5
         ],
         "yaxis": "y"
        },
        {
         "hovertemplate": "Donor= KONARK RAJENDRA SHAH<br>Date=%{x}<br>Donation=%{y}<extra></extra>",
         "legendgroup": " KONARK RAJENDRA SHAH",
         "marker": {
          "color": "#EF553B",
          "symbol": "circle"
         },
         "mode": "markers",
         "name": " KONARK RAJENDRA SHAH",
         "orientation": "v",
         "showlegend": true,
         "type": "scatter",
         "x": [
          "2023-07-07T00:00:00"
         ],
         "xaxis": "x",
         "y": [
          1
         ],
         "yaxis": "y"
        },
        {
         "hovertemplate": "Donor= LAURELSECURITIESPVTLTD<br>Date=%{x}<br>Donation=%{y}<extra></extra>",
         "legendgroup": " LAURELSECURITIESPVTLTD",
         "marker": {
          "color": "#00cc96",
          "symbol": "circle"
         },
         "mode": "markers",
         "name": " LAURELSECURITIESPVTLTD",
         "orientation": "v",
         "showlegend": true,
         "type": "scatter",
         "x": [
          "2023-07-07T00:00:00"
         ],
         "xaxis": "x",
         "y": [
          2
         ],
         "yaxis": "y"
        },
        {
         "hovertemplate": "Donor= LAXMI CIVIL ENGINEERING SERVICES PR<br>Date=%{x}<br>Donation=%{y}<extra></extra>",
         "legendgroup": " LAXMI CIVIL ENGINEERING SERVICES PR",
         "marker": {
          "color": "#ab63fa",
          "symbol": "circle"
         },
         "mode": "markers",
         "name": " LAXMI CIVIL ENGINEERING SERVICES PR",
         "orientation": "v",
         "showlegend": true,
         "type": "scatter",
         "x": [
          "2023-07-07T00:00:00"
         ],
         "xaxis": "x",
         "y": [
          25
         ],
         "yaxis": "y"
        },
        {
         "hovertemplate": "Donor= MB POWER MADHYA PRADESH LTD<br>Date=%{x}<br>Donation=%{y}<extra></extra>",
         "legendgroup": " MB POWER MADHYA PRADESH LTD",
         "marker": {
          "color": "#FFA15A",
          "symbol": "circle"
         },
         "mode": "markers",
         "name": " MB POWER MADHYA PRADESH LTD",
         "orientation": "v",
         "showlegend": true,
         "type": "scatter",
         "x": [
          "2023-07-07T00:00:00"
         ],
         "xaxis": "x",
         "y": [
          5
         ],
         "yaxis": "y"
        },
        {
         "hovertemplate": "Donor= PUNIT DEVENDRABHAI BHANDERI<br>Date=%{x}<br>Donation=%{y}<extra></extra>",
         "legendgroup": " PUNIT DEVENDRABHAI BHANDERI",
         "marker": {
          "color": "#19d3f3",
          "symbol": "circle"
         },
         "mode": "markers",
         "name": " PUNIT DEVENDRABHAI BHANDERI",
         "orientation": "v",
         "showlegend": true,
         "type": "scatter",
         "x": [
          "2023-07-07T00:00:00"
         ],
         "xaxis": "x",
         "y": [
          0.0001
         ],
         "yaxis": "y"
        },
        {
         "hovertemplate": "Donor= PURULIA BOTTLING PVT LTD<br>Date=%{x}<br>Donation=%{y}<extra></extra>",
         "legendgroup": " PURULIA BOTTLING PVT LTD",
         "marker": {
          "color": "#FF6692",
          "symbol": "circle"
         },
         "mode": "markers",
         "name": " PURULIA BOTTLING PVT LTD",
         "orientation": "v",
         "showlegend": true,
         "type": "scatter",
         "x": [
          "2023-07-07T00:00:00"
         ],
         "xaxis": "x",
         "y": [
          1.5
         ],
         "yaxis": "y"
        },
        {
         "hovertemplate": "Donor= SAGAR CEMENTS LIMITED<br>Date=%{x}<br>Donation=%{y}<extra></extra>",
         "legendgroup": " SAGAR CEMENTS LIMITED",
         "marker": {
          "color": "#B6E880",
          "symbol": "circle"
         },
         "mode": "markers",
         "name": " SAGAR CEMENTS LIMITED",
         "orientation": "v",
         "showlegend": true,
         "type": "scatter",
         "x": [
          "2023-07-07T00:00:00"
         ],
         "xaxis": "x",
         "y": [
          2.5
         ],
         "yaxis": "y"
        },
        {
         "hovertemplate": "Donor= SIDDHARTH DEVELOPERS<br>Date=%{x}<br>Donation=%{y}<extra></extra>",
         "legendgroup": " SIDDHARTH DEVELOPERS",
         "marker": {
          "color": "#FF97FF",
          "symbol": "circle"
         },
         "mode": "markers",
         "name": " SIDDHARTH DEVELOPERS",
         "orientation": "v",
         "showlegend": true,
         "type": "scatter",
         "x": [
          "2023-07-07T00:00:00"
         ],
         "xaxis": "x",
         "y": [
          1
         ],
         "yaxis": "y"
        },
        {
         "hovertemplate": "Donor= SWARNARETH MINERAL INDUSTRIES<br>Date=%{x}<br>Donation=%{y}<extra></extra>",
         "legendgroup": " SWARNARETH MINERAL INDUSTRIES",
         "marker": {
          "color": "#FECB52",
          "symbol": "circle"
         },
         "mode": "markers",
         "name": " SWARNARETH MINERAL INDUSTRIES",
         "orientation": "v",
         "showlegend": true,
         "type": "scatter",
         "x": [
          "2023-07-07T00:00:00"
         ],
         "xaxis": "x",
         "y": [
          1
         ],
         "yaxis": "y"
        },
        {
         "hovertemplate": "Donor= TEJAS P SHAH<br>Date=%{x}<br>Donation=%{y}<extra></extra>",
         "legendgroup": " TEJAS P SHAH",
         "marker": {
          "color": "#636efa",
          "symbol": "circle"
         },
         "mode": "markers",
         "name": " TEJAS P SHAH",
         "orientation": "v",
         "showlegend": true,
         "type": "scatter",
         "x": [
          "2023-07-07T00:00:00"
         ],
         "xaxis": "x",
         "y": [
          0.25
         ],
         "yaxis": "y"
        },
        {
         "hovertemplate": "Donor= VERTEX VEGA DEVELOPERS LLP<br>Date=%{x}<br>Donation=%{y}<extra></extra>",
         "legendgroup": " VERTEX VEGA DEVELOPERS LLP",
         "marker": {
          "color": "#EF553B",
          "symbol": "circle"
         },
         "mode": "markers",
         "name": " VERTEX VEGA DEVELOPERS LLP",
         "orientation": "v",
         "showlegend": true,
         "type": "scatter",
         "x": [
          "2023-07-07T00:00:00",
          "2023-07-10T00:00:00"
         ],
         "xaxis": "x",
         "y": [
          3,
          1
         ],
         "yaxis": "y"
        },
        {
         "hovertemplate": "Donor= AMAR KRISHNA SAJJA<br>Date=%{x}<br>Donation=%{y}<extra></extra>",
         "legendgroup": " AMAR KRISHNA SAJJA",
         "marker": {
          "color": "#00cc96",
          "symbol": "circle"
         },
         "mode": "markers",
         "name": " AMAR KRISHNA SAJJA",
         "orientation": "v",
         "showlegend": true,
         "type": "scatter",
         "x": [
          "2023-07-10T00:00:00"
         ],
         "xaxis": "x",
         "y": [
          0.05
         ],
         "yaxis": "y"
        },
        {
         "hovertemplate": "Donor= ARAVIND S<br>Date=%{x}<br>Donation=%{y}<extra></extra>",
         "legendgroup": " ARAVIND S",
         "marker": {
          "color": "#ab63fa",
          "symbol": "circle"
         },
         "mode": "markers",
         "name": " ARAVIND S",
         "orientation": "v",
         "showlegend": true,
         "type": "scatter",
         "x": [
          "2023-07-10T00:00:00"
         ],
         "xaxis": "x",
         "y": [
          0.0001
         ],
         "yaxis": "y"
        },
        {
         "hovertemplate": "Donor= ARROW PROJECTS PVT LTD<br>Date=%{x}<br>Donation=%{y}<extra></extra>",
         "legendgroup": " ARROW PROJECTS PVT LTD",
         "marker": {
          "color": "#FFA15A",
          "symbol": "circle"
         },
         "mode": "markers",
         "name": " ARROW PROJECTS PVT LTD",
         "orientation": "v",
         "showlegend": true,
         "type": "scatter",
         "x": [
          "2023-07-10T00:00:00"
         ],
         "xaxis": "x",
         "y": [
          1
         ],
         "yaxis": "y"
        },
        {
         "hovertemplate": "Donor= BESSEGGENINFOTECHLLP<br>Date=%{x}<br>Donation=%{y}<extra></extra>",
         "legendgroup": " BESSEGGENINFOTECHLLP",
         "marker": {
          "color": "#19d3f3",
          "symbol": "circle"
         },
         "mode": "markers",
         "name": " BESSEGGENINFOTECHLLP",
         "orientation": "v",
         "showlegend": true,
         "type": "scatter",
         "x": [
          "2023-07-10T00:00:00"
         ],
         "xaxis": "x",
         "y": [
          2
         ],
         "yaxis": "y"
        },
        {
         "hovertemplate": "Donor= CREATIVE LLP<br>Date=%{x}<br>Donation=%{y}<extra></extra>",
         "legendgroup": " CREATIVE LLP",
         "marker": {
          "color": "#FF6692",
          "symbol": "circle"
         },
         "mode": "markers",
         "name": " CREATIVE LLP",
         "orientation": "v",
         "showlegend": true,
         "type": "scatter",
         "x": [
          "2023-07-10T00:00:00"
         ],
         "xaxis": "x",
         "y": [
          0.96
         ],
         "yaxis": "y"
        },
        {
         "hovertemplate": "Donor= DHARIWAL INFRASTRUCTURE LIMITED<br>Date=%{x}<br>Donation=%{y}<extra></extra>",
         "legendgroup": " DHARIWAL INFRASTRUCTURE LIMITED",
         "marker": {
          "color": "#B6E880",
          "symbol": "circle"
         },
         "mode": "markers",
         "name": " DHARIWAL INFRASTRUCTURE LIMITED",
         "orientation": "v",
         "showlegend": true,
         "type": "scatter",
         "x": [
          "2023-07-10T00:00:00"
         ],
         "xaxis": "x",
         "y": [
          15
         ],
         "yaxis": "y"
        },
        {
         "hovertemplate": "Donor= HALDIA ENERGY LIMITED<br>Date=%{x}<br>Donation=%{y}<extra></extra>",
         "legendgroup": " HALDIA ENERGY LIMITED",
         "marker": {
          "color": "#FF97FF",
          "symbol": "circle"
         },
         "mode": "markers",
         "name": " HALDIA ENERGY LIMITED",
         "orientation": "v",
         "showlegend": true,
         "type": "scatter",
         "x": [
          "2023-07-10T00:00:00"
         ],
         "xaxis": "x",
         "y": [
          20
         ],
         "yaxis": "y"
        },
        {
         "hovertemplate": "Donor= HIMALAYAN ENDEAVOUR PVT LTD<br>Date=%{x}<br>Donation=%{y}<extra></extra>",
         "legendgroup": " HIMALAYAN ENDEAVOUR PVT LTD",
         "marker": {
          "color": "#FECB52",
          "symbol": "circle"
         },
         "mode": "markers",
         "name": " HIMALAYAN ENDEAVOUR PVT LTD",
         "orientation": "v",
         "showlegend": true,
         "type": "scatter",
         "x": [
          "2023-07-10T00:00:00"
         ],
         "xaxis": "x",
         "y": [
          1
         ],
         "yaxis": "y"
        },
        {
         "hovertemplate": "Donor= KAUSTUBH VERMA<br>Date=%{x}<br>Donation=%{y}<extra></extra>",
         "legendgroup": " KAUSTUBH VERMA",
         "marker": {
          "color": "#636efa",
          "symbol": "circle"
         },
         "mode": "markers",
         "name": " KAUSTUBH VERMA",
         "orientation": "v",
         "showlegend": true,
         "type": "scatter",
         "x": [
          "2023-07-10T00:00:00"
         ],
         "xaxis": "x",
         "y": [
          0.5
         ],
         "yaxis": "y"
        },
        {
         "hovertemplate": "Donor= KNR CONSTRUCTIONS LTD<br>Date=%{x}<br>Donation=%{y}<extra></extra>",
         "legendgroup": " KNR CONSTRUCTIONS LTD",
         "marker": {
          "color": "#EF553B",
          "symbol": "circle"
         },
         "mode": "markers",
         "name": " KNR CONSTRUCTIONS LTD",
         "orientation": "v",
         "showlegend": true,
         "type": "scatter",
         "x": [
          "2023-07-10T00:00:00"
         ],
         "xaxis": "x",
         "y": [
          10
         ],
         "yaxis": "y"
        },
        {
         "hovertemplate": "Donor= LAXMI INDUSTRIAL BOTTLING PLANT<br>Date=%{x}<br>Donation=%{y}<extra></extra>",
         "legendgroup": " LAXMI INDUSTRIAL BOTTLING PLANT",
         "marker": {
          "color": "#00cc96",
          "symbol": "circle"
         },
         "mode": "markers",
         "name": " LAXMI INDUSTRIAL BOTTLING PLANT",
         "orientation": "v",
         "showlegend": true,
         "type": "scatter",
         "x": [
          "2023-07-10T00:00:00"
         ],
         "xaxis": "x",
         "y": [
          0.4
         ],
         "yaxis": "y"
        },
        {
         "hovertemplate": "Donor= LPF SYSTEMS PRIVATE LIMITED<br>Date=%{x}<br>Donation=%{y}<extra></extra>",
         "legendgroup": " LPF SYSTEMS PRIVATE LIMITED",
         "marker": {
          "color": "#ab63fa",
          "symbol": "circle"
         },
         "mode": "markers",
         "name": " LPF SYSTEMS PRIVATE LIMITED",
         "orientation": "v",
         "showlegend": true,
         "type": "scatter",
         "x": [
          "2023-07-10T00:00:00"
         ],
         "xaxis": "x",
         "y": [
          1
         ],
         "yaxis": "y"
        },
        {
         "hovertemplate": "Donor= MUPPANA VENKATA RAO<br>Date=%{x}<br>Donation=%{y}<extra></extra>",
         "legendgroup": " MUPPANA VENKATA RAO",
         "marker": {
          "color": "#FFA15A",
          "symbol": "circle"
         },
         "mode": "markers",
         "name": " MUPPANA VENKATA RAO",
         "orientation": "v",
         "showlegend": true,
         "type": "scatter",
         "x": [
          "2023-07-10T00:00:00",
          "2023-07-11T00:00:00"
         ],
         "xaxis": "x",
         "y": [
          0.45,
          0.45
         ],
         "yaxis": "y"
        },
        {
         "hovertemplate": "Donor= NVNR POWER INFRA PRIVATE LIMITED<br>Date=%{x}<br>Donation=%{y}<extra></extra>",
         "legendgroup": " NVNR POWER INFRA PRIVATE LIMITED",
         "marker": {
          "color": "#19d3f3",
          "symbol": "circle"
         },
         "mode": "markers",
         "name": " NVNR POWER INFRA PRIVATE LIMITED",
         "orientation": "v",
         "showlegend": true,
         "type": "scatter",
         "x": [
          "2023-07-10T00:00:00"
         ],
         "xaxis": "x",
         "y": [
          2
         ],
         "yaxis": "y"
        },
        {
         "hovertemplate": "Donor= PARESH CHAMPAKLAL SHAH<br>Date=%{x}<br>Donation=%{y}<extra></extra>",
         "legendgroup": " PARESH CHAMPAKLAL SHAH",
         "marker": {
          "color": "#FF6692",
          "symbol": "circle"
         },
         "mode": "markers",
         "name": " PARESH CHAMPAKLAL SHAH",
         "orientation": "v",
         "showlegend": true,
         "type": "scatter",
         "x": [
          "2023-07-10T00:00:00"
         ],
         "xaxis": "x",
         "y": [
          1
         ],
         "yaxis": "y"
        },
        {
         "hovertemplate": "Donor= PRAKASH DISTILLERY & CHEMICAL CO P LT D<br>Date=%{x}<br>Donation=%{y}<extra></extra>",
         "legendgroup": " PRAKASH DISTILLERY & CHEMICAL CO P LT D",
         "marker": {
          "color": "#B6E880",
          "symbol": "circle"
         },
         "mode": "markers",
         "name": " PRAKASH DISTILLERY & CHEMICAL CO P LT D",
         "orientation": "v",
         "showlegend": true,
         "type": "scatter",
         "x": [
          "2023-07-10T00:00:00"
         ],
         "xaxis": "x",
         "y": [
          0.4
         ],
         "yaxis": "y"
        },
        {
         "hovertemplate": "Donor= PRESTIGE GARDEN ESTATES PRIVATE LIM<br>Date=%{x}<br>Donation=%{y}<extra></extra>",
         "legendgroup": " PRESTIGE GARDEN ESTATES PRIVATE LIM",
         "marker": {
          "color": "#FF97FF",
          "symbol": "circle"
         },
         "mode": "markers",
         "name": " PRESTIGE GARDEN ESTATES PRIVATE LIM",
         "orientation": "v",
         "showlegend": true,
         "type": "scatter",
         "x": [
          "2023-07-10T00:00:00"
         ],
         "xaxis": "x",
         "y": [
          5
         ],
         "yaxis": "y"
        },
        {
         "hovertemplate": "Donor= PRESTIGE PROJECTS PVT LTD<br>Date=%{x}<br>Donation=%{y}<extra></extra>",
         "legendgroup": " PRESTIGE PROJECTS PVT LTD",
         "marker": {
          "color": "#FECB52",
          "symbol": "circle"
         },
         "mode": "markers",
         "name": " PRESTIGE PROJECTS PVT LTD",
         "orientation": "v",
         "showlegend": true,
         "type": "scatter",
         "x": [
          "2023-07-10T00:00:00"
         ],
         "xaxis": "x",
         "y": [
          5
         ],
         "yaxis": "y"
        },
        {
         "hovertemplate": "Donor= PRUDHVI CONSTRUCTIONS PRIVATE LIMIT<br>Date=%{x}<br>Donation=%{y}<extra></extra>",
         "legendgroup": " PRUDHVI CONSTRUCTIONS PRIVATE LIMIT",
         "marker": {
          "color": "#636efa",
          "symbol": "circle"
         },
         "mode": "markers",
         "name": " PRUDHVI CONSTRUCTIONS PRIVATE LIMIT",
         "orientation": "v",
         "showlegend": true,
         "type": "scatter",
         "x": [
          "2023-07-10T00:00:00"
         ],
         "xaxis": "x",
         "y": [
          2.5
         ],
         "yaxis": "y"
        },
        {
         "hovertemplate": "Donor= R R INFRATECH INDIA PRIVATE LIM<br>Date=%{x}<br>Donation=%{y}<extra></extra>",
         "legendgroup": " R R INFRATECH INDIA PRIVATE LIM",
         "marker": {
          "color": "#EF553B",
          "symbol": "circle"
         },
         "mode": "markers",
         "name": " R R INFRATECH INDIA PRIVATE LIM",
         "orientation": "v",
         "showlegend": true,
         "type": "scatter",
         "x": [
          "2023-07-10T00:00:00"
         ],
         "xaxis": "x",
         "y": [
          2.5
         ],
         "yaxis": "y"
        },
        {
         "hovertemplate": "Donor= RASHMI CEMENT LTD<br>Date=%{x}<br>Donation=%{y}<extra></extra>",
         "legendgroup": " RASHMI CEMENT LTD",
         "marker": {
          "color": "#00cc96",
          "symbol": "circle"
         },
         "mode": "markers",
         "name": " RASHMI CEMENT LTD",
         "orientation": "v",
         "showlegend": true,
         "type": "scatter",
         "x": [
          "2023-07-10T00:00:00",
          "2023-07-12T00:00:00"
         ],
         "xaxis": "x",
         "y": [
          10,
          5
         ],
         "yaxis": "y"
        },
        {
         "hovertemplate": "Donor= REPALLY ASHOK<br>Date=%{x}<br>Donation=%{y}<extra></extra>",
         "legendgroup": " REPALLY ASHOK",
         "marker": {
          "color": "#ab63fa",
          "symbol": "circle"
         },
         "mode": "markers",
         "name": " REPALLY ASHOK",
         "orientation": "v",
         "showlegend": true,
         "type": "scatter",
         "x": [
          "2023-07-10T00:00:00"
         ],
         "xaxis": "x",
         "y": [
          0.05
         ],
         "yaxis": "y"
        },
        {
         "hovertemplate": "Donor= RIGHT AID CONSULTANTS PVT LTD<br>Date=%{x}<br>Donation=%{y}<extra></extra>",
         "legendgroup": " RIGHT AID CONSULTANTS PVT LTD",
         "marker": {
          "color": "#FFA15A",
          "symbol": "circle"
         },
         "mode": "markers",
         "name": " RIGHT AID CONSULTANTS PVT LTD",
         "orientation": "v",
         "showlegend": true,
         "type": "scatter",
         "x": [
          "2023-07-10T00:00:00"
         ],
         "xaxis": "x",
         "y": [
          1.5
         ],
         "yaxis": "y"
        },
        {
         "hovertemplate": "Donor= RIPLEY & CO STEVDORING & HANDLING PVT LT D<br>Date=%{x}<br>Donation=%{y}<extra></extra>",
         "legendgroup": " RIPLEY & CO STEVDORING & HANDLING PVT LT D",
         "marker": {
          "color": "#19d3f3",
          "symbol": "circle"
         },
         "mode": "markers",
         "name": " RIPLEY & CO STEVDORING & HANDLING PVT LT D",
         "orientation": "v",
         "showlegend": true,
         "type": "scatter",
         "x": [
          "2023-07-10T00:00:00"
         ],
         "xaxis": "x",
         "y": [
          1.5
         ],
         "yaxis": "y"
        },
        {
         "hovertemplate": "Donor= SAGI VENKATA RAMAKRISHNA RAJU<br>Date=%{x}<br>Donation=%{y}<extra></extra>",
         "legendgroup": " SAGI VENKATA RAMAKRISHNA RAJU",
         "marker": {
          "color": "#FF6692",
          "symbol": "circle"
         },
         "mode": "markers",
         "name": " SAGI VENKATA RAMAKRISHNA RAJU",
         "orientation": "v",
         "showlegend": true,
         "type": "scatter",
         "x": [
          "2023-07-10T00:00:00"
         ],
         "xaxis": "x",
         "y": [
          1
         ],
         "yaxis": "y"
        },
        {
         "hovertemplate": "Donor= SILVERTONE SECURITIES PRIVATE LIMIT<br>Date=%{x}<br>Donation=%{y}<extra></extra>",
         "legendgroup": " SILVERTONE SECURITIES PRIVATE LIMIT",
         "marker": {
          "color": "#B6E880",
          "symbol": "circle"
         },
         "mode": "markers",
         "name": " SILVERTONE SECURITIES PRIVATE LIMIT",
         "orientation": "v",
         "showlegend": true,
         "type": "scatter",
         "x": [
          "2023-07-10T00:00:00"
         ],
         "xaxis": "x",
         "y": [
          1.5
         ],
         "yaxis": "y"
        },
        {
         "hovertemplate": "Donor= TELLAPUR TECHNOCITY PRIVATE LIMI<br>Date=%{x}<br>Donation=%{y}<extra></extra>",
         "legendgroup": " TELLAPUR TECHNOCITY PRIVATE LIMI",
         "marker": {
          "color": "#FF97FF",
          "symbol": "circle"
         },
         "mode": "markers",
         "name": " TELLAPUR TECHNOCITY PRIVATE LIMI",
         "orientation": "v",
         "showlegend": true,
         "type": "scatter",
         "x": [
          "2023-07-10T00:00:00"
         ],
         "xaxis": "x",
         "y": [
          20
         ],
         "yaxis": "y"
        },
        {
         "hovertemplate": "Donor= UNIPRO TECHNO INFRASTRUCTURE PVT LTD<br>Date=%{x}<br>Donation=%{y}<extra></extra>",
         "legendgroup": " UNIPRO TECHNO INFRASTRUCTURE PVT LTD",
         "marker": {
          "color": "#FECB52",
          "symbol": "circle"
         },
         "mode": "markers",
         "name": " UNIPRO TECHNO INFRASTRUCTURE PVT LTD",
         "orientation": "v",
         "showlegend": true,
         "type": "scatter",
         "x": [
          "2023-07-10T00:00:00"
         ],
         "xaxis": "x",
         "y": [
          4
         ],
         "yaxis": "y"
        },
        {
         "hovertemplate": "Donor= V BALAVEERIAH SONS<br>Date=%{x}<br>Donation=%{y}<extra></extra>",
         "legendgroup": " V BALAVEERIAH SONS",
         "marker": {
          "color": "#636efa",
          "symbol": "circle"
         },
         "mode": "markers",
         "name": " V BALAVEERIAH SONS",
         "orientation": "v",
         "showlegend": true,
         "type": "scatter",
         "x": [
          "2023-07-10T00:00:00"
         ],
         "xaxis": "x",
         "y": [
          0.25
         ],
         "yaxis": "y"
        },
        {
         "hovertemplate": "Donor= VIDITVA CONSTRUCTIONS<br>Date=%{x}<br>Donation=%{y}<extra></extra>",
         "legendgroup": " VIDITVA CONSTRUCTIONS",
         "marker": {
          "color": "#EF553B",
          "symbol": "circle"
         },
         "mode": "markers",
         "name": " VIDITVA CONSTRUCTIONS",
         "orientation": "v",
         "showlegend": true,
         "type": "scatter",
         "x": [
          "2023-07-10T00:00:00"
         ],
         "xaxis": "x",
         "y": [
          0.48
         ],
         "yaxis": "y"
        },
        {
         "hovertemplate": "Donor= VIKAS PARASRAMPURIA<br>Date=%{x}<br>Donation=%{y}<extra></extra>",
         "legendgroup": " VIKAS PARASRAMPURIA",
         "marker": {
          "color": "#00cc96",
          "symbol": "circle"
         },
         "mode": "markers",
         "name": " VIKAS PARASRAMPURIA",
         "orientation": "v",
         "showlegend": true,
         "type": "scatter",
         "x": [
          "2023-07-10T00:00:00"
         ],
         "xaxis": "x",
         "y": [
          0.5
         ],
         "yaxis": "y"
        },
        {
         "hovertemplate": "Donor= VIPUL CHAMPAKLAL SHAH<br>Date=%{x}<br>Donation=%{y}<extra></extra>",
         "legendgroup": " VIPUL CHAMPAKLAL SHAH",
         "marker": {
          "color": "#ab63fa",
          "symbol": "circle"
         },
         "mode": "markers",
         "name": " VIPUL CHAMPAKLAL SHAH",
         "orientation": "v",
         "showlegend": true,
         "type": "scatter",
         "x": [
          "2023-07-10T00:00:00"
         ],
         "xaxis": "x",
         "y": [
          1
         ],
         "yaxis": "y"
        },
        {
         "hovertemplate": "Donor= ZYDUS HEALTHCARE LIMITED<br>Date=%{x}<br>Donation=%{y}<extra></extra>",
         "legendgroup": " ZYDUS HEALTHCARE LIMITED",
         "marker": {
          "color": "#FFA15A",
          "symbol": "circle"
         },
         "mode": "markers",
         "name": " ZYDUS HEALTHCARE LIMITED",
         "orientation": "v",
         "showlegend": true,
         "type": "scatter",
         "x": [
          "2023-07-10T00:00:00"
         ],
         "xaxis": "x",
         "y": [
          8
         ],
         "yaxis": "y"
        },
        {
         "hovertemplate": "Donor= ASHOKA MUDHOL NIPANI ROADS LIMITED<br>Date=%{x}<br>Donation=%{y}<extra></extra>",
         "legendgroup": " ASHOKA MUDHOL NIPANI ROADS LIMITED",
         "marker": {
          "color": "#19d3f3",
          "symbol": "circle"
         },
         "mode": "markers",
         "name": " ASHOKA MUDHOL NIPANI ROADS LIMITED",
         "orientation": "v",
         "showlegend": true,
         "type": "scatter",
         "x": [
          "2023-07-11T00:00:00"
         ],
         "xaxis": "x",
         "y": [
          5
         ],
         "yaxis": "y"
        },
        {
         "hovertemplate": "Donor= BSCPL INFRASTRUCTURE LIMITED<br>Date=%{x}<br>Donation=%{y}<extra></extra>",
         "legendgroup": " BSCPL INFRASTRUCTURE LIMITED",
         "marker": {
          "color": "#FF6692",
          "symbol": "circle"
         },
         "mode": "markers",
         "name": " BSCPL INFRASTRUCTURE LIMITED",
         "orientation": "v",
         "showlegend": true,
         "type": "scatter",
         "x": [
          "2023-07-11T00:00:00",
          "2023-07-12T00:00:00"
         ],
         "xaxis": "x",
         "y": [
          1,
          0.5
         ],
         "yaxis": "y"
        },
        {
         "hovertemplate": "Donor= BUILDOX DEVELOPERS LLP<br>Date=%{x}<br>Donation=%{y}<extra></extra>",
         "legendgroup": " BUILDOX DEVELOPERS LLP",
         "marker": {
          "color": "#B6E880",
          "symbol": "circle"
         },
         "mode": "markers",
         "name": " BUILDOX DEVELOPERS LLP",
         "orientation": "v",
         "showlegend": true,
         "type": "scatter",
         "x": [
          "2023-07-11T00:00:00"
         ],
         "xaxis": "x",
         "y": [
          0.6
         ],
         "yaxis": "y"
        },
        {
         "hovertemplate": "Donor= GURRAM MOUNIKA<br>Date=%{x}<br>Donation=%{y}<extra></extra>",
         "legendgroup": " GURRAM MOUNIKA",
         "marker": {
          "color": "#FF97FF",
          "symbol": "circle"
         },
         "mode": "markers",
         "name": " GURRAM MOUNIKA",
         "orientation": "v",
         "showlegend": true,
         "type": "scatter",
         "x": [
          "2023-07-11T00:00:00"
         ],
         "xaxis": "x",
         "y": [
          0.2
         ],
         "yaxis": "y"
        },
        {
         "hovertemplate": "Donor= GURRAM RAVI<br>Date=%{x}<br>Donation=%{y}<extra></extra>",
         "legendgroup": " GURRAM RAVI",
         "marker": {
          "color": "#FECB52",
          "symbol": "circle"
         },
         "mode": "markers",
         "name": " GURRAM RAVI",
         "orientation": "v",
         "showlegend": true,
         "type": "scatter",
         "x": [
          "2023-07-11T00:00:00"
         ],
         "xaxis": "x",
         "y": [
          0.2
         ],
         "yaxis": "y"
        },
        {
         "hovertemplate": "Donor= HERALD BEVERAGES PRIVATE LIMITED<br>Date=%{x}<br>Donation=%{y}<extra></extra>",
         "legendgroup": " HERALD BEVERAGES PRIVATE LIMITED",
         "marker": {
          "color": "#636efa",
          "symbol": "circle"
         },
         "mode": "markers",
         "name": " HERALD BEVERAGES PRIVATE LIMITED",
         "orientation": "v",
         "showlegend": true,
         "type": "scatter",
         "x": [
          "2023-07-11T00:00:00"
         ],
         "xaxis": "x",
         "y": [
          2
         ],
         "yaxis": "y"
        },
        {
         "hovertemplate": "Donor= HETERO DRUGS LIMITED<br>Date=%{x}<br>Donation=%{y}<extra></extra>",
         "legendgroup": " HETERO DRUGS LIMITED",
         "marker": {
          "color": "#EF553B",
          "symbol": "circle"
         },
         "mode": "markers",
         "name": " HETERO DRUGS LIMITED",
         "orientation": "v",
         "showlegend": true,
         "type": "scatter",
         "x": [
          "2023-07-11T00:00:00"
         ],
         "xaxis": "x",
         "y": [
          10
         ],
         "yaxis": "y"
        },
        {
         "hovertemplate": "Donor= HONOUR LAB LTD<br>Date=%{x}<br>Donation=%{y}<extra></extra>",
         "legendgroup": " HONOUR LAB LTD",
         "marker": {
          "color": "#00cc96",
          "symbol": "circle"
         },
         "mode": "markers",
         "name": " HONOUR LAB LTD",
         "orientation": "v",
         "showlegend": true,
         "type": "scatter",
         "x": [
          "2023-07-11T00:00:00"
         ],
         "xaxis": "x",
         "y": [
          10
         ],
         "yaxis": "y"
        },
        {
         "hovertemplate": "Donor= INDIA EXPOSITION MART LTD<br>Date=%{x}<br>Donation=%{y}<extra></extra>",
         "legendgroup": " INDIA EXPOSITION MART LTD",
         "marker": {
          "color": "#ab63fa",
          "symbol": "circle"
         },
         "mode": "markers",
         "name": " INDIA EXPOSITION MART LTD",
         "orientation": "v",
         "showlegend": true,
         "type": "scatter",
         "x": [
          "2023-07-11T00:00:00"
         ],
         "xaxis": "x",
         "y": [
          0.1
         ],
         "yaxis": "y"
        },
        {
         "hovertemplate": "Donor= MAHABIR BANKA<br>Date=%{x}<br>Donation=%{y}<extra></extra>",
         "legendgroup": " MAHABIR BANKA",
         "marker": {
          "color": "#FFA15A",
          "symbol": "circle"
         },
         "mode": "markers",
         "name": " MAHABIR BANKA",
         "orientation": "v",
         "showlegend": true,
         "type": "scatter",
         "x": [
          "2023-07-11T00:00:00"
         ],
         "xaxis": "x",
         "y": [
          0.5
         ],
         "yaxis": "y"
        },
        {
         "hovertemplate": "Donor= MANITHEJ ENTERPRISES<br>Date=%{x}<br>Donation=%{y}<extra></extra>",
         "legendgroup": " MANITHEJ ENTERPRISES",
         "marker": {
          "color": "#19d3f3",
          "symbol": "circle"
         },
         "mode": "markers",
         "name": " MANITHEJ ENTERPRISES",
         "orientation": "v",
         "showlegend": true,
         "type": "scatter",
         "x": [
          "2023-07-11T00:00:00"
         ],
         "xaxis": "x",
         "y": [
          0.1
         ],
         "yaxis": "y"
        },
        {
         "hovertemplate": "Donor= MONALISA BOTTLING INDUSTRIES PVT LTD<br>Date=%{x}<br>Donation=%{y}<extra></extra>",
         "legendgroup": " MONALISA BOTTLING INDUSTRIES PVT LTD",
         "marker": {
          "color": "#FF6692",
          "symbol": "circle"
         },
         "mode": "markers",
         "name": " MONALISA BOTTLING INDUSTRIES PVT LTD",
         "orientation": "v",
         "showlegend": true,
         "type": "scatter",
         "x": [
          "2023-07-11T00:00:00"
         ],
         "xaxis": "x",
         "y": [
          1
         ],
         "yaxis": "y"
        },
        {
         "hovertemplate": "Donor= PASURA AGRI SCIENCES LLP<br>Date=%{x}<br>Donation=%{y}<extra></extra>",
         "legendgroup": " PASURA AGRI SCIENCES LLP",
         "marker": {
          "color": "#B6E880",
          "symbol": "circle"
         },
         "mode": "markers",
         "name": " PASURA AGRI SCIENCES LLP",
         "orientation": "v",
         "showlegend": true,
         "type": "scatter",
         "x": [
          "2023-07-11T00:00:00"
         ],
         "xaxis": "x",
         "y": [
          0.25
         ],
         "yaxis": "y"
        },
        {
         "hovertemplate": "Donor= PASURA CROP CARE PVT LTD<br>Date=%{x}<br>Donation=%{y}<extra></extra>",
         "legendgroup": " PASURA CROP CARE PVT LTD",
         "marker": {
          "color": "#FF97FF",
          "symbol": "circle"
         },
         "mode": "markers",
         "name": " PASURA CROP CARE PVT LTD",
         "orientation": "v",
         "showlegend": true,
         "type": "scatter",
         "x": [
          "2023-07-11T00:00:00"
         ],
         "xaxis": "x",
         "y": [
          0.5
         ],
         "yaxis": "y"
        },
        {
         "hovertemplate": "Donor= PRIMUSGLOBALTECHNOLOGIESPVTLTD<br>Date=%{x}<br>Donation=%{y}<extra></extra>",
         "legendgroup": " PRIMUSGLOBALTECHNOLOGIESPVTLTD",
         "marker": {
          "color": "#FECB52",
          "symbol": "circle"
         },
         "mode": "markers",
         "name": " PRIMUSGLOBALTECHNOLOGIESPVTLTD",
         "orientation": "v",
         "showlegend": true,
         "type": "scatter",
         "x": [
          "2023-07-11T00:00:00"
         ],
         "xaxis": "x",
         "y": [
          0.25
         ],
         "yaxis": "y"
        },
        {
         "hovertemplate": "Donor= RANJIT BUILDCON LIMITED<br>Date=%{x}<br>Donation=%{y}<extra></extra>",
         "legendgroup": " RANJIT BUILDCON LIMITED",
         "marker": {
          "color": "#636efa",
          "symbol": "circle"
         },
         "mode": "markers",
         "name": " RANJIT BUILDCON LIMITED",
         "orientation": "v",
         "showlegend": true,
         "type": "scatter",
         "x": [
          "2023-07-11T00:00:00"
         ],
         "xaxis": "x",
         "y": [
          2
         ],
         "yaxis": "y"
        },
        {
         "hovertemplate": "Donor= RANJIT PROJECTS PRIVATE LIMITED<br>Date=%{x}<br>Donation=%{y}<extra></extra>",
         "legendgroup": " RANJIT PROJECTS PRIVATE LIMITED",
         "marker": {
          "color": "#EF553B",
          "symbol": "circle"
         },
         "mode": "markers",
         "name": " RANJIT PROJECTS PRIVATE LIMITED",
         "orientation": "v",
         "showlegend": true,
         "type": "scatter",
         "x": [
          "2023-07-11T00:00:00"
         ],
         "xaxis": "x",
         "y": [
          1
         ],
         "yaxis": "y"
        },
        {
         "hovertemplate": "Donor= RANJIT TOLL ROAD PRIVATE LIMITED<br>Date=%{x}<br>Donation=%{y}<extra></extra>",
         "legendgroup": " RANJIT TOLL ROAD PRIVATE LIMITED",
         "marker": {
          "color": "#00cc96",
          "symbol": "circle"
         },
         "mode": "markers",
         "name": " RANJIT TOLL ROAD PRIVATE LIMITED",
         "orientation": "v",
         "showlegend": true,
         "type": "scatter",
         "x": [
          "2023-07-11T00:00:00"
         ],
         "xaxis": "x",
         "y": [
          2
         ],
         "yaxis": "y"
        },
        {
         "hovertemplate": "Donor= RAUNAK GUPTA<br>Date=%{x}<br>Donation=%{y}<extra></extra>",
         "legendgroup": " RAUNAK GUPTA",
         "marker": {
          "color": "#ab63fa",
          "symbol": "circle"
         },
         "mode": "markers",
         "name": " RAUNAK GUPTA",
         "orientation": "v",
         "showlegend": true,
         "type": "scatter",
         "x": [
          "2023-07-11T00:00:00"
         ],
         "xaxis": "x",
         "y": [
          0.5
         ],
         "yaxis": "y"
        },
        {
         "hovertemplate": "Donor= RPSG VENTURES LIMITED<br>Date=%{x}<br>Donation=%{y}<extra></extra>",
         "legendgroup": " RPSG VENTURES LIMITED",
         "marker": {
          "color": "#FFA15A",
          "symbol": "circle"
         },
         "mode": "markers",
         "name": " RPSG VENTURES LIMITED",
         "orientation": "v",
         "showlegend": true,
         "type": "scatter",
         "x": [
          "2023-07-11T00:00:00"
         ],
         "xaxis": "x",
         "y": [
          3
         ],
         "yaxis": "y"
        },
        {
         "hovertemplate": "Donor= SANDEEP AUTO LINES<br>Date=%{x}<br>Donation=%{y}<extra></extra>",
         "legendgroup": " SANDEEP AUTO LINES",
         "marker": {
          "color": "#19d3f3",
          "symbol": "circle"
         },
         "mode": "markers",
         "name": " SANDEEP AUTO LINES",
         "orientation": "v",
         "showlegend": true,
         "type": "scatter",
         "x": [
          "2023-07-11T00:00:00"
         ],
         "xaxis": "x",
         "y": [
          2
         ],
         "yaxis": "y"
        },
        {
         "hovertemplate": "Donor= SATEC ENVIR ENGINEERING I PVT LTD<br>Date=%{x}<br>Donation=%{y}<extra></extra>",
         "legendgroup": " SATEC ENVIR ENGINEERING I PVT LTD",
         "marker": {
          "color": "#FF6692",
          "symbol": "circle"
         },
         "mode": "markers",
         "name": " SATEC ENVIR ENGINEERING I PVT LTD",
         "orientation": "v",
         "showlegend": true,
         "type": "scatter",
         "x": [
          "2023-07-11T00:00:00"
         ],
         "xaxis": "x",
         "y": [
          1.5
         ],
         "yaxis": "y"
        },
        {
         "hovertemplate": "Donor= THE PUNJAB BUSINESS SUPPLY COMPANY<br>Date=%{x}<br>Donation=%{y}<extra></extra>",
         "legendgroup": " THE PUNJAB BUSINESS SUPPLY COMPANY",
         "marker": {
          "color": "#B6E880",
          "symbol": "circle"
         },
         "mode": "markers",
         "name": " THE PUNJAB BUSINESS SUPPLY COMPANY",
         "orientation": "v",
         "showlegend": true,
         "type": "scatter",
         "x": [
          "2023-07-11T00:00:00"
         ],
         "xaxis": "x",
         "y": [
          7.8
         ],
         "yaxis": "y"
        },
        {
         "hovertemplate": "Donor= UTKAL ALUMINA INTERNATIONAL LIMITED<br>Date=%{x}<br>Donation=%{y}<extra></extra>",
         "legendgroup": " UTKAL ALUMINA INTERNATIONAL LIMITED",
         "marker": {
          "color": "#FF97FF",
          "symbol": "circle"
         },
         "mode": "markers",
         "name": " UTKAL ALUMINA INTERNATIONAL LIMITED",
         "orientation": "v",
         "showlegend": true,
         "type": "scatter",
         "x": [
          "2023-07-11T00:00:00"
         ],
         "xaxis": "x",
         "y": [
          35
         ],
         "yaxis": "y"
        },
        {
         "hovertemplate": "Donor= VEDANTA LIMITED<br>Date=%{x}<br>Donation=%{y}<extra></extra>",
         "legendgroup": " VEDANTA LIMITED",
         "marker": {
          "color": "#FECB52",
          "symbol": "circle"
         },
         "mode": "markers",
         "name": " VEDANTA LIMITED",
         "orientation": "v",
         "showlegend": true,
         "type": "scatter",
         "x": [
          "2023-07-11T00:00:00",
          "2023-07-12T00:00:00"
         ],
         "xaxis": "x",
         "y": [
          25,
          15
         ],
         "yaxis": "y"
        },
        {
         "hovertemplate": "Donor= VIVA HIGHWAYS LTD<br>Date=%{x}<br>Donation=%{y}<extra></extra>",
         "legendgroup": " VIVA HIGHWAYS LTD",
         "marker": {
          "color": "#636efa",
          "symbol": "circle"
         },
         "mode": "markers",
         "name": " VIVA HIGHWAYS LTD",
         "orientation": "v",
         "showlegend": true,
         "type": "scatter",
         "x": [
          "2023-07-11T00:00:00"
         ],
         "xaxis": "x",
         "y": [
          5
         ],
         "yaxis": "y"
        },
        {
         "hovertemplate": "Donor= ABHINANDANSTOCKBROKINGPVTLTD<br>Date=%{x}<br>Donation=%{y}<extra></extra>",
         "legendgroup": " ABHINANDANSTOCKBROKINGPVTLTD",
         "marker": {
          "color": "#EF553B",
          "symbol": "circle"
         },
         "mode": "markers",
         "name": " ABHINANDANSTOCKBROKINGPVTLTD",
         "orientation": "v",
         "showlegend": true,
         "type": "scatter",
         "x": [
          "2023-07-12T00:00:00"
         ],
         "xaxis": "x",
         "y": [
          1
         ],
         "yaxis": "y"
        },
        {
         "hovertemplate": "Donor= ALA RAMANJANEYULU<br>Date=%{x}<br>Donation=%{y}<extra></extra>",
         "legendgroup": " ALA RAMANJANEYULU",
         "marker": {
          "color": "#00cc96",
          "symbol": "circle"
         },
         "mode": "markers",
         "name": " ALA RAMANJANEYULU",
         "orientation": "v",
         "showlegend": true,
         "type": "scatter",
         "x": [
          "2023-07-12T00:00:00"
         ],
         "xaxis": "x",
         "y": [
          0.05
         ],
         "yaxis": "y"
        },
        {
         "hovertemplate": "Donor= AMD ENGINEERING CONSULTANTS<br>Date=%{x}<br>Donation=%{y}<extra></extra>",
         "legendgroup": " AMD ENGINEERING CONSULTANTS",
         "marker": {
          "color": "#ab63fa",
          "symbol": "circle"
         },
         "mode": "markers",
         "name": " AMD ENGINEERING CONSULTANTS",
         "orientation": "v",
         "showlegend": true,
         "type": "scatter",
         "x": [
          "2023-07-12T00:00:00"
         ],
         "xaxis": "x",
         "y": [
          0.75
         ],
         "yaxis": "y"
        },
        {
         "hovertemplate": "Donor= B G SHIRKE CONSTRUCTION TECHNOLOGY PVT L TD<br>Date=%{x}<br>Donation=%{y}<extra></extra>",
         "legendgroup": " B G SHIRKE CONSTRUCTION TECHNOLOGY PVT L TD",
         "marker": {
          "color": "#FFA15A",
          "symbol": "circle"
         },
         "mode": "markers",
         "name": " B G SHIRKE CONSTRUCTION TECHNOLOGY PVT L TD",
         "orientation": "v",
         "showlegend": true,
         "type": "scatter",
         "x": [
          "2023-07-12T00:00:00"
         ],
         "xaxis": "x",
         "y": [
          25
         ],
         "yaxis": "y"
        },
        {
         "hovertemplate": "Donor= BIOLOGICAL E LIMITED<br>Date=%{x}<br>Donation=%{y}<extra></extra>",
         "legendgroup": " BIOLOGICAL E LIMITED",
         "marker": {
          "color": "#19d3f3",
          "symbol": "circle"
         },
         "mode": "markers",
         "name": " BIOLOGICAL E LIMITED",
         "orientation": "v",
         "showlegend": true,
         "type": "scatter",
         "x": [
          "2023-07-12T00:00:00"
         ],
         "xaxis": "x",
         "y": [
          5
         ],
         "yaxis": "y"
        },
        {
         "hovertemplate": "Donor= BOSE CONSTRUCTIONS<br>Date=%{x}<br>Donation=%{y}<extra></extra>",
         "legendgroup": " BOSE CONSTRUCTIONS",
         "marker": {
          "color": "#FF6692",
          "symbol": "circle"
         },
         "mode": "markers",
         "name": " BOSE CONSTRUCTIONS",
         "orientation": "v",
         "showlegend": true,
         "type": "scatter",
         "x": [
          "2023-07-12T00:00:00"
         ],
         "xaxis": "x",
         "y": [
          0.5
         ],
         "yaxis": "y"
        },
        {
         "hovertemplate": "Donor= BUTTA HOSPITALITIES PVT LTD<br>Date=%{x}<br>Donation=%{y}<extra></extra>",
         "legendgroup": " BUTTA HOSPITALITIES PVT LTD",
         "marker": {
          "color": "#B6E880",
          "symbol": "circle"
         },
         "mode": "markers",
         "name": " BUTTA HOSPITALITIES PVT LTD",
         "orientation": "v",
         "showlegend": true,
         "type": "scatter",
         "x": [
          "2023-07-12T00:00:00"
         ],
         "xaxis": "x",
         "y": [
          0.25
         ],
         "yaxis": "y"
        },
        {
         "hovertemplate": "Donor= BYRAPANENI SHIVARJUN RAO<br>Date=%{x}<br>Donation=%{y}<extra></extra>",
         "legendgroup": " BYRAPANENI SHIVARJUN RAO",
         "marker": {
          "color": "#FF97FF",
          "symbol": "circle"
         },
         "mode": "markers",
         "name": " BYRAPANENI SHIVARJUN RAO",
         "orientation": "v",
         "showlegend": true,
         "type": "scatter",
         "x": [
          "2023-07-12T00:00:00"
         ],
         "xaxis": "x",
         "y": [
          0.25
         ],
         "yaxis": "y"
        },
        {
         "hovertemplate": "Donor= CYBER HOMES<br>Date=%{x}<br>Donation=%{y}<extra></extra>",
         "legendgroup": " CYBER HOMES",
         "marker": {
          "color": "#FECB52",
          "symbol": "circle"
         },
         "mode": "markers",
         "name": " CYBER HOMES",
         "orientation": "v",
         "showlegend": true,
         "type": "scatter",
         "x": [
          "2023-07-12T00:00:00"
         ],
         "xaxis": "x",
         "y": [
          1
         ],
         "yaxis": "y"
        },
        {
         "hovertemplate": "Donor= DINESHCHANDRA R AGRAWAL INFRACON PVT LTD<br>Date=%{x}<br>Donation=%{y}<extra></extra>",
         "legendgroup": " DINESHCHANDRA R AGRAWAL INFRACON PVT LTD",
         "marker": {
          "color": "#636efa",
          "symbol": "circle"
         },
         "mode": "markers",
         "name": " DINESHCHANDRA R AGRAWAL INFRACON PVT LTD",
         "orientation": "v",
         "showlegend": true,
         "type": "scatter",
         "x": [
          "2023-07-12T00:00:00"
         ],
         "xaxis": "x",
         "y": [
          3
         ],
         "yaxis": "y"
        },
        {
         "hovertemplate": "Donor= DOYEN ENGINEERING SERVICES PRIVATE<br>Date=%{x}<br>Donation=%{y}<extra></extra>",
         "legendgroup": " DOYEN ENGINEERING SERVICES PRIVATE",
         "marker": {
          "color": "#EF553B",
          "symbol": "circle"
         },
         "mode": "markers",
         "name": " DOYEN ENGINEERING SERVICES PRIVATE",
         "orientation": "v",
         "showlegend": true,
         "type": "scatter",
         "x": [
          "2023-07-12T00:00:00"
         ],
         "xaxis": "x",
         "y": [
          1
         ],
         "yaxis": "y"
        },
        {
         "hovertemplate": "Donor= EAGLE INFRA INDIA LTD<br>Date=%{x}<br>Donation=%{y}<extra></extra>",
         "legendgroup": " EAGLE INFRA INDIA LTD",
         "marker": {
          "color": "#00cc96",
          "symbol": "circle"
         },
         "mode": "markers",
         "name": " EAGLE INFRA INDIA LTD",
         "orientation": "v",
         "showlegend": true,
         "type": "scatter",
         "x": [
          "2023-07-12T00:00:00"
         ],
         "xaxis": "x",
         "y": [
          4
         ],
         "yaxis": "y"
        },
        {
         "hovertemplate": "Donor= EVEREST ENTERPRISE<br>Date=%{x}<br>Donation=%{y}<extra></extra>",
         "legendgroup": " EVEREST ENTERPRISE",
         "marker": {
          "color": "#ab63fa",
          "symbol": "circle"
         },
         "mode": "markers",
         "name": " EVEREST ENTERPRISE",
         "orientation": "v",
         "showlegend": true,
         "type": "scatter",
         "x": [
          "2023-07-12T00:00:00"
         ],
         "xaxis": "x",
         "y": [
          0.2
         ],
         "yaxis": "y"
        },
        {
         "hovertemplate": "Donor= GANGADASU BASIVI REDDY<br>Date=%{x}<br>Donation=%{y}<extra></extra>",
         "legendgroup": " GANGADASU BASIVI REDDY",
         "marker": {
          "color": "#FFA15A",
          "symbol": "circle"
         },
         "mode": "markers",
         "name": " GANGADASU BASIVI REDDY",
         "orientation": "v",
         "showlegend": true,
         "type": "scatter",
         "x": [
          "2023-07-12T00:00:00"
         ],
         "xaxis": "x",
         "y": [
          0.08
         ],
         "yaxis": "y"
        },
        {
         "hovertemplate": "Donor= GANGES JUTE PRIVATE LTD<br>Date=%{x}<br>Donation=%{y}<extra></extra>",
         "legendgroup": " GANGES JUTE PRIVATE LTD",
         "marker": {
          "color": "#19d3f3",
          "symbol": "circle"
         },
         "mode": "markers",
         "name": " GANGES JUTE PRIVATE LTD",
         "orientation": "v",
         "showlegend": true,
         "type": "scatter",
         "x": [
          "2023-07-12T00:00:00"
         ],
         "xaxis": "x",
         "y": [
          1
         ],
         "yaxis": "y"
        },
        {
         "hovertemplate": "Donor= GOWREDDY HARIPRASAD REDDY<br>Date=%{x}<br>Donation=%{y}<extra></extra>",
         "legendgroup": " GOWREDDY HARIPRASAD REDDY",
         "marker": {
          "color": "#FF6692",
          "symbol": "circle"
         },
         "mode": "markers",
         "name": " GOWREDDY HARIPRASAD REDDY",
         "orientation": "v",
         "showlegend": true,
         "type": "scatter",
         "x": [
          "2023-07-12T00:00:00"
         ],
         "xaxis": "x",
         "y": [
          0.05
         ],
         "yaxis": "y"
        },
        {
         "hovertemplate": "Donor= HINDYS LAB PVT. LTD. PREVIOUSLY HIND LI FE SCIENCES PVT LTD<br>Date=%{x}<br>Donation=%{y}<extra></extra>",
         "legendgroup": " HINDYS LAB PVT. LTD. PREVIOUSLY HIND LI FE SCIENCES PVT LTD",
         "marker": {
          "color": "#B6E880",
          "symbol": "circle"
         },
         "mode": "markers",
         "name": " HINDYS LAB PVT. LTD. PREVIOUSLY HIND LI FE SCIENCES PVT LTD",
         "orientation": "v",
         "showlegend": true,
         "type": "scatter",
         "x": [
          "2023-07-12T00:00:00"
         ],
         "xaxis": "x",
         "y": [
          5
         ],
         "yaxis": "y"
        },
        {
         "hovertemplate": "Donor= ICONICA PROJECTS<br>Date=%{x}<br>Donation=%{y}<extra></extra>",
         "legendgroup": " ICONICA PROJECTS",
         "marker": {
          "color": "#FF97FF",
          "symbol": "circle"
         },
         "mode": "markers",
         "name": " ICONICA PROJECTS",
         "orientation": "v",
         "showlegend": true,
         "type": "scatter",
         "x": [
          "2023-07-12T00:00:00"
         ],
         "xaxis": "x",
         "y": [
          1
         ],
         "yaxis": "y"
        },
        {
         "hovertemplate": "Donor= ISTAMSETTY SONY<br>Date=%{x}<br>Donation=%{y}<extra></extra>",
         "legendgroup": " ISTAMSETTY SONY",
         "marker": {
          "color": "#FECB52",
          "symbol": "circle"
         },
         "mode": "markers",
         "name": " ISTAMSETTY SONY",
         "orientation": "v",
         "showlegend": true,
         "type": "scatter",
         "x": [
          "2023-07-12T00:00:00"
         ],
         "xaxis": "x",
         "y": [
          0.12
         ],
         "yaxis": "y"
        },
        {
         "hovertemplate": "Donor= KAMNA CREDITS AND PROMOTORS PVT LTD<br>Date=%{x}<br>Donation=%{y}<extra></extra>",
         "legendgroup": " KAMNA CREDITS AND PROMOTORS PVT LTD",
         "marker": {
          "color": "#636efa",
          "symbol": "circle"
         },
         "mode": "markers",
         "name": " KAMNA CREDITS AND PROMOTORS PVT LTD",
         "orientation": "v",
         "showlegend": true,
         "type": "scatter",
         "x": [
          "2023-07-12T00:00:00"
         ],
         "xaxis": "x",
         "y": [
          5
         ],
         "yaxis": "y"
        },
        {
         "hovertemplate": "Donor= KARTHIKEYA CONSTRUCTIONS<br>Date=%{x}<br>Donation=%{y}<extra></extra>",
         "legendgroup": " KARTHIKEYA CONSTRUCTIONS",
         "marker": {
          "color": "#EF553B",
          "symbol": "circle"
         },
         "mode": "markers",
         "name": " KARTHIKEYA CONSTRUCTIONS",
         "orientation": "v",
         "showlegend": true,
         "type": "scatter",
         "x": [
          "2023-07-12T00:00:00"
         ],
         "xaxis": "x",
         "y": [
          1
         ],
         "yaxis": "y"
        },
        {
         "hovertemplate": "Donor= KARTIKEYA INFRA<br>Date=%{x}<br>Donation=%{y}<extra></extra>",
         "legendgroup": " KARTIKEYA INFRA",
         "marker": {
          "color": "#00cc96",
          "symbol": "circle"
         },
         "mode": "markers",
         "name": " KARTIKEYA INFRA",
         "orientation": "v",
         "showlegend": true,
         "type": "scatter",
         "x": [
          "2023-07-12T00:00:00"
         ],
         "xaxis": "x",
         "y": [
          0.09
         ],
         "yaxis": "y"
        },
        {
         "hovertemplate": "Donor= KMK DEVELOPERS PVT LTD ASHISH BHAS<br>Date=%{x}<br>Donation=%{y}<extra></extra>",
         "legendgroup": " KMK DEVELOPERS PVT LTD ASHISH BHAS",
         "marker": {
          "color": "#ab63fa",
          "symbol": "circle"
         },
         "mode": "markers",
         "name": " KMK DEVELOPERS PVT LTD ASHISH BHAS",
         "orientation": "v",
         "showlegend": true,
         "type": "scatter",
         "x": [
          "2023-07-12T00:00:00"
         ],
         "xaxis": "x",
         "y": [
          1
         ],
         "yaxis": "y"
        },
        {
         "hovertemplate": "Donor= LCCPROJECTSPRIVATELIMITED<br>Date=%{x}<br>Donation=%{y}<extra></extra>",
         "legendgroup": " LCCPROJECTSPRIVATELIMITED",
         "marker": {
          "color": "#FFA15A",
          "symbol": "circle"
         },
         "mode": "markers",
         "name": " LCCPROJECTSPRIVATELIMITED",
         "orientation": "v",
         "showlegend": true,
         "type": "scatter",
         "x": [
          "2023-07-12T00:00:00"
         ],
         "xaxis": "x",
         "y": [
          18.5
         ],
         "yaxis": "y"
        },
        {
         "hovertemplate": "Donor= MEGHA ENGINEERING AND INFRASTRUCTURES LI MITED<br>Date=%{x}<br>Donation=%{y}<extra></extra>",
         "legendgroup": " MEGHA ENGINEERING AND INFRASTRUCTURES LI MITED",
         "marker": {
          "color": "#19d3f3",
          "symbol": "circle"
         },
         "mode": "markers",
         "name": " MEGHA ENGINEERING AND INFRASTRUCTURES LI MITED",
         "orientation": "v",
         "showlegend": true,
         "type": "scatter",
         "x": [
          "2023-07-12T00:00:00"
         ],
         "xaxis": "x",
         "y": [
          75
         ],
         "yaxis": "y"
        },
        {
         "hovertemplate": "Donor= MOUNT EVEREST BREWERIES LIMITED<br>Date=%{x}<br>Donation=%{y}<extra></extra>",
         "legendgroup": " MOUNT EVEREST BREWERIES LIMITED",
         "marker": {
          "color": "#FF6692",
          "symbol": "circle"
         },
         "mode": "markers",
         "name": " MOUNT EVEREST BREWERIES LIMITED",
         "orientation": "v",
         "showlegend": true,
         "type": "scatter",
         "x": [
          "2023-07-12T00:00:00"
         ],
         "xaxis": "x",
         "y": [
          1.99
         ],
         "yaxis": "y"
        },
        {
         "hovertemplate": "Donor= NIRANJAN LAL AND SONS HUF<br>Date=%{x}<br>Donation=%{y}<extra></extra>",
         "legendgroup": " NIRANJAN LAL AND SONS HUF",
         "marker": {
          "color": "#B6E880",
          "symbol": "circle"
         },
         "mode": "markers",
         "name": " NIRANJAN LAL AND SONS HUF",
         "orientation": "v",
         "showlegend": true,
         "type": "scatter",
         "x": [
          "2023-07-12T00:00:00"
         ],
         "xaxis": "x",
         "y": [
          0.75
         ],
         "yaxis": "y"
        },
        {
         "hovertemplate": "Donor= NIRAV MAROTI<br>Date=%{x}<br>Donation=%{y}<extra></extra>",
         "legendgroup": " NIRAV MAROTI",
         "marker": {
          "color": "#FF97FF",
          "symbol": "circle"
         },
         "mode": "markers",
         "name": " NIRAV MAROTI",
         "orientation": "v",
         "showlegend": true,
         "type": "scatter",
         "x": [
          "2023-07-12T00:00:00"
         ],
         "xaxis": "x",
         "y": [
          0.15
         ],
         "yaxis": "y"
        },
        {
         "hovertemplate": "Donor= NVSUBBA RAO<br>Date=%{x}<br>Donation=%{y}<extra></extra>",
         "legendgroup": " NVSUBBA RAO",
         "marker": {
          "color": "#FECB52",
          "symbol": "circle"
         },
         "mode": "markers",
         "name": " NVSUBBA RAO",
         "orientation": "v",
         "showlegend": true,
         "type": "scatter",
         "x": [
          "2023-07-12T00:00:00"
         ],
         "xaxis": "x",
         "y": [
          1.5
         ],
         "yaxis": "y"
        },
        {
         "hovertemplate": "Donor= PCBL LIMITED<br>Date=%{x}<br>Donation=%{y}<extra></extra>",
         "legendgroup": " PCBL LIMITED",
         "marker": {
          "color": "#636efa",
          "symbol": "circle"
         },
         "mode": "markers",
         "name": " PCBL LIMITED",
         "orientation": "v",
         "showlegend": true,
         "type": "scatter",
         "x": [
          "2023-07-12T00:00:00"
         ],
         "xaxis": "x",
         "y": [
          5
         ],
         "yaxis": "y"
        },
        {
         "hovertemplate": "Donor= PRADEEP AGGARWAL<br>Date=%{x}<br>Donation=%{y}<extra></extra>",
         "legendgroup": " PRADEEP AGGARWAL",
         "marker": {
          "color": "#EF553B",
          "symbol": "circle"
         },
         "mode": "markers",
         "name": " PRADEEP AGGARWAL",
         "orientation": "v",
         "showlegend": true,
         "type": "scatter",
         "x": [
          "2023-07-12T00:00:00"
         ],
         "xaxis": "x",
         "y": [
          1
         ],
         "yaxis": "y"
        },
        {
         "hovertemplate": "Donor= PREMIER PLASTIC INDUSTRIES<br>Date=%{x}<br>Donation=%{y}<extra></extra>",
         "legendgroup": " PREMIER PLASTIC INDUSTRIES",
         "marker": {
          "color": "#00cc96",
          "symbol": "circle"
         },
         "mode": "markers",
         "name": " PREMIER PLASTIC INDUSTRIES",
         "orientation": "v",
         "showlegend": true,
         "type": "scatter",
         "x": [
          "2023-07-12T00:00:00"
         ],
         "xaxis": "x",
         "y": [
          0.09
         ],
         "yaxis": "y"
        },
        {
         "hovertemplate": "Donor= R K V FABTECH INDIA PRIVATE LIMITED<br>Date=%{x}<br>Donation=%{y}<extra></extra>",
         "legendgroup": " R K V FABTECH INDIA PRIVATE LIMITED",
         "marker": {
          "color": "#ab63fa",
          "symbol": "circle"
         },
         "mode": "markers",
         "name": " R K V FABTECH INDIA PRIVATE LIMITED",
         "orientation": "v",
         "showlegend": true,
         "type": "scatter",
         "x": [
          "2023-07-12T00:00:00"
         ],
         "xaxis": "x",
         "y": [
          0.4
         ],
         "yaxis": "y"
        },
        {
         "hovertemplate": "Donor= R N CONSTRUCTIONS<br>Date=%{x}<br>Donation=%{y}<extra></extra>",
         "legendgroup": " R N CONSTRUCTIONS",
         "marker": {
          "color": "#FFA15A",
          "symbol": "circle"
         },
         "mode": "markers",
         "name": " R N CONSTRUCTIONS",
         "orientation": "v",
         "showlegend": true,
         "type": "scatter",
         "x": [
          "2023-07-12T00:00:00"
         ],
         "xaxis": "x",
         "y": [
          2
         ],
         "yaxis": "y"
        },
        {
         "hovertemplate": "Donor= R V SUBRAHAMANYAM ISTAMSETTY<br>Date=%{x}<br>Donation=%{y}<extra></extra>",
         "legendgroup": " R V SUBRAHAMANYAM ISTAMSETTY",
         "marker": {
          "color": "#19d3f3",
          "symbol": "circle"
         },
         "mode": "markers",
         "name": " R V SUBRAHAMANYAM ISTAMSETTY",
         "orientation": "v",
         "showlegend": true,
         "type": "scatter",
         "x": [
          "2023-07-12T00:00:00"
         ],
         "xaxis": "x",
         "y": [
          0.13
         ],
         "yaxis": "y"
        },
        {
         "hovertemplate": "Donor= RAMESH KRISHNA ENGINEERS PRIVATE LIMITED<br>Date=%{x}<br>Donation=%{y}<extra></extra>",
         "legendgroup": " RAMESH KRISHNA ENGINEERS PRIVATE LIMITED",
         "marker": {
          "color": "#FF6692",
          "symbol": "circle"
         },
         "mode": "markers",
         "name": " RAMESH KRISHNA ENGINEERS PRIVATE LIMITED",
         "orientation": "v",
         "showlegend": true,
         "type": "scatter",
         "x": [
          "2023-07-12T00:00:00"
         ],
         "xaxis": "x",
         "y": [
          0.2
         ],
         "yaxis": "y"
        },
        {
         "hovertemplate": "Donor= SHRI SHAMLAJI SALES PRIVATE LIMITED<br>Date=%{x}<br>Donation=%{y}<extra></extra>",
         "legendgroup": " SHRI SHAMLAJI SALES PRIVATE LIMITED",
         "marker": {
          "color": "#B6E880",
          "symbol": "circle"
         },
         "mode": "markers",
         "name": " SHRI SHAMLAJI SALES PRIVATE LIMITED",
         "orientation": "v",
         "showlegend": true,
         "type": "scatter",
         "x": [
          "2023-07-12T00:00:00"
         ],
         "xaxis": "x",
         "y": [
          10
         ],
         "yaxis": "y"
        },
        {
         "hovertemplate": "Donor= SIAN INFRA AND REALCON LLP<br>Date=%{x}<br>Donation=%{y}<extra></extra>",
         "legendgroup": " SIAN INFRA AND REALCON LLP",
         "marker": {
          "color": "#FF97FF",
          "symbol": "circle"
         },
         "mode": "markers",
         "name": " SIAN INFRA AND REALCON LLP",
         "orientation": "v",
         "showlegend": true,
         "type": "scatter",
         "x": [
          "2023-07-12T00:00:00"
         ],
         "xaxis": "x",
         "y": [
          0.25
         ],
         "yaxis": "y"
        },
        {
         "hovertemplate": "Donor= SLRV HOMES LLP<br>Date=%{x}<br>Donation=%{y}<extra></extra>",
         "legendgroup": " SLRV HOMES LLP",
         "marker": {
          "color": "#FECB52",
          "symbol": "circle"
         },
         "mode": "markers",
         "name": " SLRV HOMES LLP",
         "orientation": "v",
         "showlegend": true,
         "type": "scatter",
         "x": [
          "2023-07-12T00:00:00"
         ],
         "xaxis": "x",
         "y": [
          2
         ],
         "yaxis": "y"
        },
        {
         "hovertemplate": "Donor= SOM DISTILERIES PRIVATE LTD<br>Date=%{x}<br>Donation=%{y}<extra></extra>",
         "legendgroup": " SOM DISTILERIES PRIVATE LTD",
         "marker": {
          "color": "#636efa",
          "symbol": "circle"
         },
         "mode": "markers",
         "name": " SOM DISTILERIES PRIVATE LTD",
         "orientation": "v",
         "showlegend": true,
         "type": "scatter",
         "x": [
          "2023-07-12T00:00:00"
         ],
         "xaxis": "x",
         "y": [
          1
         ],
         "yaxis": "y"
        },
        {
         "hovertemplate": "Donor= SR DEVELOPERS<br>Date=%{x}<br>Donation=%{y}<extra></extra>",
         "legendgroup": " SR DEVELOPERS",
         "marker": {
          "color": "#EF553B",
          "symbol": "circle"
         },
         "mode": "markers",
         "name": " SR DEVELOPERS",
         "orientation": "v",
         "showlegend": true,
         "type": "scatter",
         "x": [
          "2023-07-12T00:00:00"
         ],
         "xaxis": "x",
         "y": [
          1
         ],
         "yaxis": "y"
        },
        {
         "hovertemplate": "Donor= SRI SAI BIO ORGANICS OPR BY R V SUBRAHM ANYAM I<br>Date=%{x}<br>Donation=%{y}<extra></extra>",
         "legendgroup": " SRI SAI BIO ORGANICS OPR BY R V SUBRAHM ANYAM I",
         "marker": {
          "color": "#00cc96",
          "symbol": "circle"
         },
         "mode": "markers",
         "name": " SRI SAI BIO ORGANICS OPR BY R V SUBRAHM ANYAM I",
         "orientation": "v",
         "showlegend": true,
         "type": "scatter",
         "x": [
          "2023-07-12T00:00:00"
         ],
         "xaxis": "x",
         "y": [
          3.55
         ],
         "yaxis": "y"
        },
        {
         "hovertemplate": "Donor= SRI SIDDARTHA CONSTRUCTIONS<br>Date=%{x}<br>Donation=%{y}<extra></extra>",
         "legendgroup": " SRI SIDDARTHA CONSTRUCTIONS",
         "marker": {
          "color": "#ab63fa",
          "symbol": "circle"
         },
         "mode": "markers",
         "name": " SRI SIDDARTHA CONSTRUCTIONS",
         "orientation": "v",
         "showlegend": true,
         "type": "scatter",
         "x": [
          "2023-07-12T00:00:00"
         ],
         "xaxis": "x",
         "y": [
          1
         ],
         "yaxis": "y"
        },
        {
         "hovertemplate": "Donor= SRI VIGNEWARA CONSTRUCTIONS<br>Date=%{x}<br>Donation=%{y}<extra></extra>",
         "legendgroup": " SRI VIGNEWARA CONSTRUCTIONS",
         "marker": {
          "color": "#FFA15A",
          "symbol": "circle"
         },
         "mode": "markers",
         "name": " SRI VIGNEWARA CONSTRUCTIONS",
         "orientation": "v",
         "showlegend": true,
         "type": "scatter",
         "x": [
          "2023-07-12T00:00:00"
         ],
         "xaxis": "x",
         "y": [
          0.09
         ],
         "yaxis": "y"
        },
        {
         "hovertemplate": "Donor= SRIVAY INDUSTRIES LIMITED<br>Date=%{x}<br>Donation=%{y}<extra></extra>",
         "legendgroup": " SRIVAY INDUSTRIES LIMITED",
         "marker": {
          "color": "#19d3f3",
          "symbol": "circle"
         },
         "mode": "markers",
         "name": " SRIVAY INDUSTRIES LIMITED",
         "orientation": "v",
         "showlegend": true,
         "type": "scatter",
         "x": [
          "2023-07-12T00:00:00"
         ],
         "xaxis": "x",
         "y": [
          1.49
         ],
         "yaxis": "y"
        },
        {
         "hovertemplate": "Donor= SRIVILAS HYDROTECH PVT LTD<br>Date=%{x}<br>Donation=%{y}<extra></extra>",
         "legendgroup": " SRIVILAS HYDROTECH PVT LTD",
         "marker": {
          "color": "#FF6692",
          "symbol": "circle"
         },
         "mode": "markers",
         "name": " SRIVILAS HYDROTECH PVT LTD",
         "orientation": "v",
         "showlegend": true,
         "type": "scatter",
         "x": [
          "2023-07-12T00:00:00"
         ],
         "xaxis": "x",
         "y": [
          1
         ],
         "yaxis": "y"
        },
        {
         "hovertemplate": "Donor= SUNIL ENGINEERING AND SYSTEMS<br>Date=%{x}<br>Donation=%{y}<extra></extra>",
         "legendgroup": " SUNIL ENGINEERING AND SYSTEMS",
         "marker": {
          "color": "#B6E880",
          "symbol": "circle"
         },
         "mode": "markers",
         "name": " SUNIL ENGINEERING AND SYSTEMS",
         "orientation": "v",
         "showlegend": true,
         "type": "scatter",
         "x": [
          "2023-07-12T00:00:00"
         ],
         "xaxis": "x",
         "y": [
          1.5
         ],
         "yaxis": "y"
        },
        {
         "hovertemplate": "Donor= THE ANGUS COMPANY LIMITED<br>Date=%{x}<br>Donation=%{y}<extra></extra>",
         "legendgroup": " THE ANGUS COMPANY LIMITED",
         "marker": {
          "color": "#FF97FF",
          "symbol": "circle"
         },
         "mode": "markers",
         "name": " THE ANGUS COMPANY LIMITED",
         "orientation": "v",
         "showlegend": true,
         "type": "scatter",
         "x": [
          "2023-07-12T00:00:00"
         ],
         "xaxis": "x",
         "y": [
          2
         ],
         "yaxis": "y"
        },
        {
         "hovertemplate": "Donor= THE GANGES MANUFACTURING CO LTD<br>Date=%{x}<br>Donation=%{y}<extra></extra>",
         "legendgroup": " THE GANGES MANUFACTURING CO LTD",
         "marker": {
          "color": "#FECB52",
          "symbol": "circle"
         },
         "mode": "markers",
         "name": " THE GANGES MANUFACTURING CO LTD",
         "orientation": "v",
         "showlegend": true,
         "type": "scatter",
         "x": [
          "2023-07-12T00:00:00"
         ],
         "xaxis": "x",
         "y": [
          1
         ],
         "yaxis": "y"
        },
        {
         "hovertemplate": "Donor= TSHARKS INFRA DEVELOPERS PRIVATE LI<br>Date=%{x}<br>Donation=%{y}<extra></extra>",
         "legendgroup": " TSHARKS INFRA DEVELOPERS PRIVATE LI",
         "marker": {
          "color": "#636efa",
          "symbol": "circle"
         },
         "mode": "markers",
         "name": " TSHARKS INFRA DEVELOPERS PRIVATE LI",
         "orientation": "v",
         "showlegend": true,
         "type": "scatter",
         "x": [
          "2023-07-12T00:00:00"
         ],
         "xaxis": "x",
         "y": [
          3.5
         ],
         "yaxis": "y"
        },
        {
         "hovertemplate": "Donor= TSHARKS OVERSEAS EDUCATION CONSULTA<br>Date=%{x}<br>Donation=%{y}<extra></extra>",
         "legendgroup": " TSHARKS OVERSEAS EDUCATION CONSULTA",
         "marker": {
          "color": "#EF553B",
          "symbol": "circle"
         },
         "mode": "markers",
         "name": " TSHARKS OVERSEAS EDUCATION CONSULTA",
         "orientation": "v",
         "showlegend": true,
         "type": "scatter",
         "x": [
          "2023-07-12T00:00:00"
         ],
         "xaxis": "x",
         "y": [
          4
         ],
         "yaxis": "y"
        },
        {
         "hovertemplate": "Donor= VASAVI AVENUES LLP<br>Date=%{x}<br>Donation=%{y}<extra></extra>",
         "legendgroup": " VASAVI AVENUES LLP",
         "marker": {
          "color": "#00cc96",
          "symbol": "circle"
         },
         "mode": "markers",
         "name": " VASAVI AVENUES LLP",
         "orientation": "v",
         "showlegend": true,
         "type": "scatter",
         "x": [
          "2023-07-12T00:00:00"
         ],
         "xaxis": "x",
         "y": [
          5
         ],
         "yaxis": "y"
        },
        {
         "hovertemplate": "Donor= VENKATESH NARAYAN REDDY<br>Date=%{x}<br>Donation=%{y}<extra></extra>",
         "legendgroup": " VENKATESH NARAYAN REDDY",
         "marker": {
          "color": "#ab63fa",
          "symbol": "circle"
         },
         "mode": "markers",
         "name": " VENKATESH NARAYAN REDDY",
         "orientation": "v",
         "showlegend": true,
         "type": "scatter",
         "x": [
          "2023-07-12T00:00:00"
         ],
         "xaxis": "x",
         "y": [
          0.2
         ],
         "yaxis": "y"
        },
        {
         "hovertemplate": "Donor= VIKAS AGGARWAL<br>Date=%{x}<br>Donation=%{y}<extra></extra>",
         "legendgroup": " VIKAS AGGARWAL",
         "marker": {
          "color": "#FFA15A",
          "symbol": "circle"
         },
         "mode": "markers",
         "name": " VIKAS AGGARWAL",
         "orientation": "v",
         "showlegend": true,
         "type": "scatter",
         "x": [
          "2023-07-12T00:00:00"
         ],
         "xaxis": "x",
         "y": [
          1
         ],
         "yaxis": "y"
        },
        {
         "hovertemplate": "Donor= VINAY AGARWAL<br>Date=%{x}<br>Donation=%{y}<extra></extra>",
         "legendgroup": " VINAY AGARWAL",
         "marker": {
          "color": "#19d3f3",
          "symbol": "circle"
         },
         "mode": "markers",
         "name": " VINAY AGARWAL",
         "orientation": "v",
         "showlegend": true,
         "type": "scatter",
         "x": [
          "2023-07-12T00:00:00"
         ],
         "xaxis": "x",
         "y": [
          0.08
         ],
         "yaxis": "y"
        },
        {
         "hovertemplate": "Donor= WESTWELL GASES PRIVATE LIMITED<br>Date=%{x}<br>Donation=%{y}<extra></extra>",
         "legendgroup": " WESTWELL GASES PRIVATE LIMITED",
         "marker": {
          "color": "#FF6692",
          "symbol": "circle"
         },
         "mode": "markers",
         "name": " WESTWELL GASES PRIVATE LIMITED",
         "orientation": "v",
         "showlegend": true,
         "type": "scatter",
         "x": [
          "2023-07-12T00:00:00"
         ],
         "xaxis": "x",
         "y": [
          3
         ],
         "yaxis": "y"
        }
       ],
       "layout": {
        "template": {
         "data": {
          "bar": [
           {
            "error_x": {
             "color": "#2a3f5f"
            },
            "error_y": {
             "color": "#2a3f5f"
            },
            "marker": {
             "line": {
              "color": "#E5ECF6",
              "width": 0.5
             },
             "pattern": {
              "fillmode": "overlay",
              "size": 10,
              "solidity": 0.2
             }
            },
            "type": "bar"
           }
          ],
          "barpolar": [
           {
            "marker": {
             "line": {
              "color": "#E5ECF6",
              "width": 0.5
             },
             "pattern": {
              "fillmode": "overlay",
              "size": 10,
              "solidity": 0.2
             }
            },
            "type": "barpolar"
           }
          ],
          "carpet": [
           {
            "aaxis": {
             "endlinecolor": "#2a3f5f",
             "gridcolor": "white",
             "linecolor": "white",
             "minorgridcolor": "white",
             "startlinecolor": "#2a3f5f"
            },
            "baxis": {
             "endlinecolor": "#2a3f5f",
             "gridcolor": "white",
             "linecolor": "white",
             "minorgridcolor": "white",
             "startlinecolor": "#2a3f5f"
            },
            "type": "carpet"
           }
          ],
          "choropleth": [
           {
            "colorbar": {
             "outlinewidth": 0,
             "ticks": ""
            },
            "type": "choropleth"
           }
          ],
          "contour": [
           {
            "colorbar": {
             "outlinewidth": 0,
             "ticks": ""
            },
            "colorscale": [
             [
              0,
              "#0d0887"
             ],
             [
              0.1111111111111111,
              "#46039f"
             ],
             [
              0.2222222222222222,
              "#7201a8"
             ],
             [
              0.3333333333333333,
              "#9c179e"
             ],
             [
              0.4444444444444444,
              "#bd3786"
             ],
             [
              0.5555555555555556,
              "#d8576b"
             ],
             [
              0.6666666666666666,
              "#ed7953"
             ],
             [
              0.7777777777777778,
              "#fb9f3a"
             ],
             [
              0.8888888888888888,
              "#fdca26"
             ],
             [
              1,
              "#f0f921"
             ]
            ],
            "type": "contour"
           }
          ],
          "contourcarpet": [
           {
            "colorbar": {
             "outlinewidth": 0,
             "ticks": ""
            },
            "type": "contourcarpet"
           }
          ],
          "heatmap": [
           {
            "colorbar": {
             "outlinewidth": 0,
             "ticks": ""
            },
            "colorscale": [
             [
              0,
              "#0d0887"
             ],
             [
              0.1111111111111111,
              "#46039f"
             ],
             [
              0.2222222222222222,
              "#7201a8"
             ],
             [
              0.3333333333333333,
              "#9c179e"
             ],
             [
              0.4444444444444444,
              "#bd3786"
             ],
             [
              0.5555555555555556,
              "#d8576b"
             ],
             [
              0.6666666666666666,
              "#ed7953"
             ],
             [
              0.7777777777777778,
              "#fb9f3a"
             ],
             [
              0.8888888888888888,
              "#fdca26"
             ],
             [
              1,
              "#f0f921"
             ]
            ],
            "type": "heatmap"
           }
          ],
          "heatmapgl": [
           {
            "colorbar": {
             "outlinewidth": 0,
             "ticks": ""
            },
            "colorscale": [
             [
              0,
              "#0d0887"
             ],
             [
              0.1111111111111111,
              "#46039f"
             ],
             [
              0.2222222222222222,
              "#7201a8"
             ],
             [
              0.3333333333333333,
              "#9c179e"
             ],
             [
              0.4444444444444444,
              "#bd3786"
             ],
             [
              0.5555555555555556,
              "#d8576b"
             ],
             [
              0.6666666666666666,
              "#ed7953"
             ],
             [
              0.7777777777777778,
              "#fb9f3a"
             ],
             [
              0.8888888888888888,
              "#fdca26"
             ],
             [
              1,
              "#f0f921"
             ]
            ],
            "type": "heatmapgl"
           }
          ],
          "histogram": [
           {
            "marker": {
             "pattern": {
              "fillmode": "overlay",
              "size": 10,
              "solidity": 0.2
             }
            },
            "type": "histogram"
           }
          ],
          "histogram2d": [
           {
            "colorbar": {
             "outlinewidth": 0,
             "ticks": ""
            },
            "colorscale": [
             [
              0,
              "#0d0887"
             ],
             [
              0.1111111111111111,
              "#46039f"
             ],
             [
              0.2222222222222222,
              "#7201a8"
             ],
             [
              0.3333333333333333,
              "#9c179e"
             ],
             [
              0.4444444444444444,
              "#bd3786"
             ],
             [
              0.5555555555555556,
              "#d8576b"
             ],
             [
              0.6666666666666666,
              "#ed7953"
             ],
             [
              0.7777777777777778,
              "#fb9f3a"
             ],
             [
              0.8888888888888888,
              "#fdca26"
             ],
             [
              1,
              "#f0f921"
             ]
            ],
            "type": "histogram2d"
           }
          ],
          "histogram2dcontour": [
           {
            "colorbar": {
             "outlinewidth": 0,
             "ticks": ""
            },
            "colorscale": [
             [
              0,
              "#0d0887"
             ],
             [
              0.1111111111111111,
              "#46039f"
             ],
             [
              0.2222222222222222,
              "#7201a8"
             ],
             [
              0.3333333333333333,
              "#9c179e"
             ],
             [
              0.4444444444444444,
              "#bd3786"
             ],
             [
              0.5555555555555556,
              "#d8576b"
             ],
             [
              0.6666666666666666,
              "#ed7953"
             ],
             [
              0.7777777777777778,
              "#fb9f3a"
             ],
             [
              0.8888888888888888,
              "#fdca26"
             ],
             [
              1,
              "#f0f921"
             ]
            ],
            "type": "histogram2dcontour"
           }
          ],
          "mesh3d": [
           {
            "colorbar": {
             "outlinewidth": 0,
             "ticks": ""
            },
            "type": "mesh3d"
           }
          ],
          "parcoords": [
           {
            "line": {
             "colorbar": {
              "outlinewidth": 0,
              "ticks": ""
             }
            },
            "type": "parcoords"
           }
          ],
          "pie": [
           {
            "automargin": true,
            "type": "pie"
           }
          ],
          "scatter": [
           {
            "fillpattern": {
             "fillmode": "overlay",
             "size": 10,
             "solidity": 0.2
            },
            "type": "scatter"
           }
          ],
          "scatter3d": [
           {
            "line": {
             "colorbar": {
              "outlinewidth": 0,
              "ticks": ""
             }
            },
            "marker": {
             "colorbar": {
              "outlinewidth": 0,
              "ticks": ""
             }
            },
            "type": "scatter3d"
           }
          ],
          "scattercarpet": [
           {
            "marker": {
             "colorbar": {
              "outlinewidth": 0,
              "ticks": ""
             }
            },
            "type": "scattercarpet"
           }
          ],
          "scattergeo": [
           {
            "marker": {
             "colorbar": {
              "outlinewidth": 0,
              "ticks": ""
             }
            },
            "type": "scattergeo"
           }
          ],
          "scattergl": [
           {
            "marker": {
             "colorbar": {
              "outlinewidth": 0,
              "ticks": ""
             }
            },
            "type": "scattergl"
           }
          ],
          "scattermapbox": [
           {
            "marker": {
             "colorbar": {
              "outlinewidth": 0,
              "ticks": ""
             }
            },
            "type": "scattermapbox"
           }
          ],
          "scatterpolar": [
           {
            "marker": {
             "colorbar": {
              "outlinewidth": 0,
              "ticks": ""
             }
            },
            "type": "scatterpolar"
           }
          ],
          "scatterpolargl": [
           {
            "marker": {
             "colorbar": {
              "outlinewidth": 0,
              "ticks": ""
             }
            },
            "type": "scatterpolargl"
           }
          ],
          "scatterternary": [
           {
            "marker": {
             "colorbar": {
              "outlinewidth": 0,
              "ticks": ""
             }
            },
            "type": "scatterternary"
           }
          ],
          "surface": [
           {
            "colorbar": {
             "outlinewidth": 0,
             "ticks": ""
            },
            "colorscale": [
             [
              0,
              "#0d0887"
             ],
             [
              0.1111111111111111,
              "#46039f"
             ],
             [
              0.2222222222222222,
              "#7201a8"
             ],
             [
              0.3333333333333333,
              "#9c179e"
             ],
             [
              0.4444444444444444,
              "#bd3786"
             ],
             [
              0.5555555555555556,
              "#d8576b"
             ],
             [
              0.6666666666666666,
              "#ed7953"
             ],
             [
              0.7777777777777778,
              "#fb9f3a"
             ],
             [
              0.8888888888888888,
              "#fdca26"
             ],
             [
              1,
              "#f0f921"
             ]
            ],
            "type": "surface"
           }
          ],
          "table": [
           {
            "cells": {
             "fill": {
              "color": "#EBF0F8"
             },
             "line": {
              "color": "white"
             }
            },
            "header": {
             "fill": {
              "color": "#C8D4E3"
             },
             "line": {
              "color": "white"
             }
            },
            "type": "table"
           }
          ]
         },
         "layout": {
          "annotationdefaults": {
           "arrowcolor": "#2a3f5f",
           "arrowhead": 0,
           "arrowwidth": 1
          },
          "autotypenumbers": "strict",
          "coloraxis": {
           "colorbar": {
            "outlinewidth": 0,
            "ticks": ""
           }
          },
          "colorscale": {
           "diverging": [
            [
             0,
             "#8e0152"
            ],
            [
             0.1,
             "#c51b7d"
            ],
            [
             0.2,
             "#de77ae"
            ],
            [
             0.3,
             "#f1b6da"
            ],
            [
             0.4,
             "#fde0ef"
            ],
            [
             0.5,
             "#f7f7f7"
            ],
            [
             0.6,
             "#e6f5d0"
            ],
            [
             0.7,
             "#b8e186"
            ],
            [
             0.8,
             "#7fbc41"
            ],
            [
             0.9,
             "#4d9221"
            ],
            [
             1,
             "#276419"
            ]
           ],
           "sequential": [
            [
             0,
             "#0d0887"
            ],
            [
             0.1111111111111111,
             "#46039f"
            ],
            [
             0.2222222222222222,
             "#7201a8"
            ],
            [
             0.3333333333333333,
             "#9c179e"
            ],
            [
             0.4444444444444444,
             "#bd3786"
            ],
            [
             0.5555555555555556,
             "#d8576b"
            ],
            [
             0.6666666666666666,
             "#ed7953"
            ],
            [
             0.7777777777777778,
             "#fb9f3a"
            ],
            [
             0.8888888888888888,
             "#fdca26"
            ],
            [
             1,
             "#f0f921"
            ]
           ],
           "sequentialminus": [
            [
             0,
             "#0d0887"
            ],
            [
             0.1111111111111111,
             "#46039f"
            ],
            [
             0.2222222222222222,
             "#7201a8"
            ],
            [
             0.3333333333333333,
             "#9c179e"
            ],
            [
             0.4444444444444444,
             "#bd3786"
            ],
            [
             0.5555555555555556,
             "#d8576b"
            ],
            [
             0.6666666666666666,
             "#ed7953"
            ],
            [
             0.7777777777777778,
             "#fb9f3a"
            ],
            [
             0.8888888888888888,
             "#fdca26"
            ],
            [
             1,
             "#f0f921"
            ]
           ]
          },
          "colorway": [
           "#636efa",
           "#EF553B",
           "#00cc96",
           "#ab63fa",
           "#FFA15A",
           "#19d3f3",
           "#FF6692",
           "#B6E880",
           "#FF97FF",
           "#FECB52"
          ],
          "font": {
           "color": "#2a3f5f"
          },
          "geo": {
           "bgcolor": "white",
           "lakecolor": "white",
           "landcolor": "#E5ECF6",
           "showlakes": true,
           "showland": true,
           "subunitcolor": "white"
          },
          "hoverlabel": {
           "align": "left"
          },
          "hovermode": "closest",
          "mapbox": {
           "style": "light"
          },
          "paper_bgcolor": "white",
          "plot_bgcolor": "#E5ECF6",
          "polar": {
           "angularaxis": {
            "gridcolor": "white",
            "linecolor": "white",
            "ticks": ""
           },
           "bgcolor": "#E5ECF6",
           "radialaxis": {
            "gridcolor": "white",
            "linecolor": "white",
            "ticks": ""
           }
          },
          "scene": {
           "xaxis": {
            "backgroundcolor": "#E5ECF6",
            "gridcolor": "white",
            "gridwidth": 2,
            "linecolor": "white",
            "showbackground": true,
            "ticks": "",
            "zerolinecolor": "white"
           },
           "yaxis": {
            "backgroundcolor": "#E5ECF6",
            "gridcolor": "white",
            "gridwidth": 2,
            "linecolor": "white",
            "showbackground": true,
            "ticks": "",
            "zerolinecolor": "white"
           },
           "zaxis": {
            "backgroundcolor": "#E5ECF6",
            "gridcolor": "white",
            "gridwidth": 2,
            "linecolor": "white",
            "showbackground": true,
            "ticks": "",
            "zerolinecolor": "white"
           }
          },
          "shapedefaults": {
           "line": {
            "color": "#2a3f5f"
           }
          },
          "ternary": {
           "aaxis": {
            "gridcolor": "white",
            "linecolor": "white",
            "ticks": ""
           },
           "baxis": {
            "gridcolor": "white",
            "linecolor": "white",
            "ticks": ""
           },
           "bgcolor": "#E5ECF6",
           "caxis": {
            "gridcolor": "white",
            "linecolor": "white",
            "ticks": ""
           }
          },
          "title": {
           "x": 0.05
          },
          "xaxis": {
           "automargin": true,
           "gridcolor": "white",
           "linecolor": "white",
           "ticks": "",
           "title": {
            "standoff": 15
           },
           "zerolinecolor": "white",
           "zerolinewidth": 2
          },
          "yaxis": {
           "automargin": true,
           "gridcolor": "white",
           "linecolor": "white",
           "ticks": "",
           "title": {
            "standoff": 15
           },
           "zerolinecolor": "white",
           "zerolinewidth": 2
          }
         }
        }
       }
      },
      "text/html": [
       "<div>                            <div id=\"78853f62-103f-4019-abaa-df85f3b6382c\" class=\"plotly-graph-div\" style=\"height:525px; width:100%;\"></div>            <script type=\"text/javascript\">                require([\"plotly\"], function(Plotly) {                    window.PLOTLYENV=window.PLOTLYENV || {};                                    if (document.getElementById(\"78853f62-103f-4019-abaa-df85f3b6382c\")) {                    Plotly.newPlot(                        \"78853f62-103f-4019-abaa-df85f3b6382c\",                        [{\"alignmentgroup\":\"True\",\"hovertemplate\":\"Party= BIJU JANATA DAL\\u003cbr\\u003eDate=%{x}\\u003cbr\\u003eFunds=%{y}\\u003cextra\\u003e\\u003c\\u002fextra\\u003e\",\"legendgroup\":\" BIJU JANATA DAL\",\"marker\":{\"color\":\"#636efa\",\"pattern\":{\"shape\":\"\"}},\"name\":\" BIJU JANATA DAL\",\"offsetgroup\":\" BIJU JANATA DAL\",\"orientation\":\"v\",\"showlegend\":true,\"textposition\":\"auto\",\"x\":[\"2023-07-07T00:00:00\",\"2023-07-11T00:00:00\",\"2023-07-13T00:00:00\",\"2023-07-15T00:00:00\"],\"xaxis\":\"x\",\"y\":[50.0,7.5,84.0,14.0],\"yaxis\":\"y\",\"type\":\"bar\"},{\"alignmentgroup\":\"True\",\"hovertemplate\":\"Party= BHARTIYA JANTA PARTY\\u003cbr\\u003eDate=%{x}\\u003cbr\\u003eFunds=%{y}\\u003cextra\\u003e\\u003c\\u002fextra\\u003e\",\"legendgroup\":\" BHARTIYA JANTA PARTY\",\"marker\":{\"color\":\"#EF553B\",\"pattern\":{\"shape\":\"\"}},\"name\":\" BHARTIYA JANTA PARTY\",\"offsetgroup\":\" BHARTIYA JANTA PARTY\",\"orientation\":\"v\",\"showlegend\":true,\"textposition\":\"auto\",\"x\":[\"2023-07-10T00:00:00\",\"2023-07-12T00:00:00\",\"2023-07-15T00:00:00\",\"2023-07-20T00:00:00\",\"2023-07-24T00:00:00\"],\"xaxis\":\"x\",\"y\":[10.0,39.5,26.99,10.44,0.0001],\"yaxis\":\"y\",\"type\":\"bar\"},{\"alignmentgroup\":\"True\",\"hovertemplate\":\"Party= PRESIDENT, ALL INDIA CONGRESS COMMITTEE\\u003cbr\\u003eDate=%{x}\\u003cbr\\u003eFunds=%{y}\\u003cextra\\u003e\\u003c\\u002fextra\\u003e\",\"legendgroup\":\" PRESIDENT, ALL INDIA CONGRESS COMMITTEE\",\"marker\":{\"color\":\"#00cc96\",\"pattern\":{\"shape\":\"\"}},\"name\":\" PRESIDENT, ALL INDIA CONGRESS COMMITTEE\",\"offsetgroup\":\" PRESIDENT, ALL INDIA CONGRESS COMMITTEE\",\"orientation\":\"v\",\"showlegend\":true,\"textposition\":\"auto\",\"x\":[\"2023-07-10T00:00:00\",\"2023-07-13T00:00:00\",\"2023-07-14T00:00:00\"],\"xaxis\":\"x\",\"y\":[0.5,10.0,10.0],\"yaxis\":\"y\",\"type\":\"bar\"},{\"alignmentgroup\":\"True\",\"hovertemplate\":\"Party= TELUGU DESAM PARTY\\u003cbr\\u003eDate=%{x}\\u003cbr\\u003eFunds=%{y}\\u003cextra\\u003e\\u003c\\u002fextra\\u003e\",\"legendgroup\":\" TELUGU DESAM PARTY\",\"marker\":{\"color\":\"#ab63fa\",\"pattern\":{\"shape\":\"\"}},\"name\":\" TELUGU DESAM PARTY\",\"offsetgroup\":\" TELUGU DESAM PARTY\",\"orientation\":\"v\",\"showlegend\":true,\"textposition\":\"auto\",\"x\":[\"2023-07-10T00:00:00\",\"2023-07-13T00:00:00\",\"2023-07-14T00:00:00\"],\"xaxis\":\"x\",\"y\":[0.5,2.0,0.25],\"yaxis\":\"y\",\"type\":\"bar\"},{\"alignmentgroup\":\"True\",\"hovertemplate\":\"Party= AAM AADMI PARTY\\u003cbr\\u003eDate=%{x}\\u003cbr\\u003eFunds=%{y}\\u003cextra\\u003e\\u003c\\u002fextra\\u003e\",\"legendgroup\":\" AAM AADMI PARTY\",\"marker\":{\"color\":\"#FFA15A\",\"pattern\":{\"shape\":\"\"}},\"name\":\" AAM AADMI PARTY\",\"offsetgroup\":\" AAM AADMI PARTY\",\"orientation\":\"v\",\"showlegend\":true,\"textposition\":\"auto\",\"x\":[\"2023-07-11T00:00:00\",\"2023-07-15T00:00:00\",\"2023-07-26T00:00:00\"],\"xaxis\":\"x\",\"y\":[5.0,5.0,0.15],\"yaxis\":\"y\",\"type\":\"bar\"},{\"alignmentgroup\":\"True\",\"hovertemplate\":\"Party= ALL INDIA TRINAMOOL CONGRESS\\u003cbr\\u003eDate=%{x}\\u003cbr\\u003eFunds=%{y}\\u003cextra\\u003e\\u003c\\u002fextra\\u003e\",\"legendgroup\":\" ALL INDIA TRINAMOOL CONGRESS\",\"marker\":{\"color\":\"#19d3f3\",\"pattern\":{\"shape\":\"\"}},\"name\":\" ALL INDIA TRINAMOOL CONGRESS\",\"offsetgroup\":\" ALL INDIA TRINAMOOL CONGRESS\",\"orientation\":\"v\",\"showlegend\":true,\"textposition\":\"auto\",\"x\":[\"2023-07-11T00:00:00\",\"2023-07-12T00:00:00\",\"2023-07-13T00:00:00\",\"2023-07-14T00:00:00\",\"2023-07-19T00:00:00\"],\"xaxis\":\"x\",\"y\":[45.0,20.0,42.0,8.0,2.0],\"yaxis\":\"y\",\"type\":\"bar\"},{\"alignmentgroup\":\"True\",\"hovertemplate\":\"Party= YSR CONGRESS PARTY YUVAJANA SRAMIKA R\\u003cbr\\u003eDate=%{x}\\u003cbr\\u003eFunds=%{y}\\u003cextra\\u003e\\u003c\\u002fextra\\u003e\",\"legendgroup\":\" YSR CONGRESS PARTY YUVAJANA SRAMIKA R\",\"marker\":{\"color\":\"#FF6692\",\"pattern\":{\"shape\":\"\"}},\"name\":\" YSR CONGRESS PARTY YUVAJANA SRAMIKA R\",\"offsetgroup\":\" YSR CONGRESS PARTY YUVAJANA SRAMIKA R\",\"orientation\":\"v\",\"showlegend\":true,\"textposition\":\"auto\",\"x\":[\"2023-07-12T00:00:00\",\"2023-07-17T00:00:00\"],\"xaxis\":\"x\",\"y\":[0.5,25.0],\"yaxis\":\"y\",\"type\":\"bar\"},{\"alignmentgroup\":\"True\",\"hovertemplate\":\"Party= BHARAT RASHTRA SAMITHI\\u003cbr\\u003eDate=%{x}\\u003cbr\\u003eFunds=%{y}\\u003cextra\\u003e\\u003c\\u002fextra\\u003e\",\"legendgroup\":\" BHARAT RASHTRA SAMITHI\",\"marker\":{\"color\":\"#B6E880\",\"pattern\":{\"shape\":\"\"}},\"name\":\" BHARAT RASHTRA SAMITHI\",\"offsetgroup\":\" BHARAT RASHTRA SAMITHI\",\"orientation\":\"v\",\"showlegend\":true,\"textposition\":\"auto\",\"x\":[\"2023-07-13T00:00:00\",\"2023-07-14T00:00:00\",\"2023-07-15T00:00:00\",\"2023-07-17T00:00:00\",\"2023-07-18T00:00:00\",\"2023-07-24T00:00:00\",\"2023-07-25T00:00:00\"],\"xaxis\":\"x\",\"y\":[224.0,24.72,21.0,18.7,25.0,1.0,4.0],\"yaxis\":\"y\",\"type\":\"bar\"},{\"alignmentgroup\":\"True\",\"hovertemplate\":\"Party= RASHTRIYA JANTA DAL\\u003cbr\\u003eDate=%{x}\\u003cbr\\u003eFunds=%{y}\\u003cextra\\u003e\\u003c\\u002fextra\\u003e\",\"legendgroup\":\" RASHTRIYA JANTA DAL\",\"marker\":{\"color\":\"#FF97FF\",\"pattern\":{\"shape\":\"\"}},\"name\":\" RASHTRIYA JANTA DAL\",\"offsetgroup\":\" RASHTRIYA JANTA DAL\",\"orientation\":\"v\",\"showlegend\":true,\"textposition\":\"auto\",\"x\":[\"2023-07-18T00:00:00\"],\"xaxis\":\"x\",\"y\":[1.0],\"yaxis\":\"y\",\"type\":\"bar\"},{\"alignmentgroup\":\"True\",\"hovertemplate\":\"Party= RASTRIYA JANTA DAL\\u003cbr\\u003eDate=%{x}\\u003cbr\\u003eFunds=%{y}\\u003cextra\\u003e\\u003c\\u002fextra\\u003e\",\"legendgroup\":\" RASTRIYA JANTA DAL\",\"marker\":{\"color\":\"#FECB52\",\"pattern\":{\"shape\":\"\"}},\"name\":\" RASTRIYA JANTA DAL\",\"offsetgroup\":\" RASTRIYA JANTA DAL\",\"orientation\":\"v\",\"showlegend\":true,\"textposition\":\"auto\",\"x\":[\"2023-07-18T00:00:00\",\"2023-07-19T00:00:00\"],\"xaxis\":\"x\",\"y\":[19.7,9.3],\"yaxis\":\"y\",\"type\":\"bar\"},{\"alignmentgroup\":\"True\",\"hovertemplate\":\"Party= SIKKIM KRANTIKARI MORCHA\\u003cbr\\u003eDate=%{x}\\u003cbr\\u003eFunds=%{y}\\u003cextra\\u003e\\u003c\\u002fextra\\u003e\",\"legendgroup\":\" SIKKIM KRANTIKARI MORCHA\",\"marker\":{\"color\":\"#636efa\",\"pattern\":{\"shape\":\"\"}},\"name\":\" SIKKIM KRANTIKARI MORCHA\",\"offsetgroup\":\" SIKKIM KRANTIKARI MORCHA\",\"orientation\":\"v\",\"showlegend\":true,\"textposition\":\"auto\",\"x\":[\"2023-07-20T00:00:00\"],\"xaxis\":\"x\",\"y\":[8.0],\"yaxis\":\"y\",\"type\":\"bar\"},{\"alignmentgroup\":\"True\",\"hovertemplate\":\"Party= JHARKHAND MUKTI MORCHA\\u003cbr\\u003eDate=%{x}\\u003cbr\\u003eFunds=%{y}\\u003cextra\\u003e\\u003c\\u002fextra\\u003e\",\"legendgroup\":\" JHARKHAND MUKTI MORCHA\",\"marker\":{\"color\":\"#EF553B\",\"pattern\":{\"shape\":\"\"}},\"name\":\" JHARKHAND MUKTI MORCHA\",\"offsetgroup\":\" JHARKHAND MUKTI MORCHA\",\"orientation\":\"v\",\"showlegend\":true,\"textposition\":\"auto\",\"x\":[\"2023-07-24T00:00:00\"],\"xaxis\":\"x\",\"y\":[5.0],\"yaxis\":\"y\",\"type\":\"bar\"},{\"alignmentgroup\":\"True\",\"hovertemplate\":\"Party= SHIVSENA POLITICAL PARTY\\u003cbr\\u003eDate=%{x}\\u003cbr\\u003eFunds=%{y}\\u003cextra\\u003e\\u003c\\u002fextra\\u003e\",\"legendgroup\":\" SHIVSENA POLITICAL PARTY\",\"marker\":{\"color\":\"#00cc96\",\"pattern\":{\"shape\":\"\"}},\"name\":\" SHIVSENA POLITICAL PARTY\",\"offsetgroup\":\" SHIVSENA POLITICAL PARTY\",\"orientation\":\"v\",\"showlegend\":true,\"textposition\":\"auto\",\"x\":[\"2023-07-25T00:00:00\"],\"xaxis\":\"x\",\"y\":[33.0],\"yaxis\":\"y\",\"type\":\"bar\"},{\"hovertemplate\":\"Donor= MODERN ROAD MAKERS PVT LTD\\u003cbr\\u003eDate=%{x}\\u003cbr\\u003eDonation=%{y}\\u003cextra\\u003e\\u003c\\u002fextra\\u003e\",\"legendgroup\":\" MODERN ROAD MAKERS PVT LTD\",\"marker\":{\"color\":\"#636efa\",\"symbol\":\"circle\"},\"mode\":\"markers\",\"name\":\" MODERN ROAD MAKERS PVT LTD\",\"orientation\":\"v\",\"showlegend\":true,\"x\":[\"2023-07-03T00:00:00\"],\"xaxis\":\"x\",\"y\":[5.0],\"yaxis\":\"y\",\"type\":\"scatter\"},{\"hovertemplate\":\"Donor= SUPER CYBERTECH PARK PRIVATE LIMITE\\u003cbr\\u003eDate=%{x}\\u003cbr\\u003eDonation=%{y}\\u003cextra\\u003e\\u003c\\u002fextra\\u003e\",\"legendgroup\":\" SUPER CYBERTECH PARK PRIVATE LIMITE\",\"marker\":{\"color\":\"#EF553B\",\"symbol\":\"circle\"},\"mode\":\"markers\",\"name\":\" SUPER CYBERTECH PARK PRIVATE LIMITE\",\"orientation\":\"v\",\"showlegend\":true,\"x\":[\"2023-07-03T00:00:00\"],\"xaxis\":\"x\",\"y\":[10.0],\"yaxis\":\"y\",\"type\":\"scatter\"},{\"hovertemplate\":\"Donor= IRB MP EXPRESSWAY PRIVATE LIMITED\\u003cbr\\u003eDate=%{x}\\u003cbr\\u003eDonation=%{y}\\u003cextra\\u003e\\u003c\\u002fextra\\u003e\",\"legendgroup\":\" IRB MP EXPRESSWAY PRIVATE LIMITED\",\"marker\":{\"color\":\"#00cc96\",\"symbol\":\"circle\"},\"mode\":\"markers\",\"name\":\" IRB MP EXPRESSWAY PRIVATE LIMITED\",\"orientation\":\"v\",\"showlegend\":true,\"x\":[\"2023-07-04T00:00:00\"],\"xaxis\":\"x\",\"y\":[25.0],\"yaxis\":\"y\",\"type\":\"scatter\"},{\"hovertemplate\":\"Donor= JINDAL STEEL AND POWER LIMITED\\u003cbr\\u003eDate=%{x}\\u003cbr\\u003eDonation=%{y}\\u003cextra\\u003e\\u003c\\u002fextra\\u003e\",\"legendgroup\":\" JINDAL STEEL AND POWER LIMITED\",\"marker\":{\"color\":\"#ab63fa\",\"symbol\":\"circle\"},\"mode\":\"markers\",\"name\":\" JINDAL STEEL AND POWER LIMITED\",\"orientation\":\"v\",\"showlegend\":true,\"x\":[\"2023-07-04T00:00:00\"],\"xaxis\":\"x\",\"y\":[50.0],\"yaxis\":\"y\",\"type\":\"scatter\"},{\"hovertemplate\":\"Donor= SAROJIT KUMAR DEY\\u003cbr\\u003eDate=%{x}\\u003cbr\\u003eDonation=%{y}\\u003cextra\\u003e\\u003c\\u002fextra\\u003e\",\"legendgroup\":\" SAROJIT KUMAR DEY\",\"marker\":{\"color\":\"#FFA15A\",\"symbol\":\"circle\"},\"mode\":\"markers\",\"name\":\" SAROJIT KUMAR DEY\",\"orientation\":\"v\",\"showlegend\":true,\"x\":[\"2023-07-04T00:00:00\"],\"xaxis\":\"x\",\"y\":[0.75],\"yaxis\":\"y\",\"type\":\"scatter\"},{\"hovertemplate\":\"Donor= TRANSWAYS EXIM PRIVATE LIMITED\\u003cbr\\u003eDate=%{x}\\u003cbr\\u003eDonation=%{y}\\u003cextra\\u003e\\u003c\\u002fextra\\u003e\",\"legendgroup\":\" TRANSWAYS EXIM PRIVATE LIMITED\",\"marker\":{\"color\":\"#19d3f3\",\"symbol\":\"circle\"},\"mode\":\"markers\",\"name\":\" TRANSWAYS EXIM PRIVATE LIMITED\",\"orientation\":\"v\",\"showlegend\":true,\"x\":[\"2023-07-04T00:00:00\"],\"xaxis\":\"x\",\"y\":[4.0],\"yaxis\":\"y\",\"type\":\"scatter\"},{\"hovertemplate\":\"Donor= VENKAT PRANEETH DEVELOPRS P LTD\\u003cbr\\u003eDate=%{x}\\u003cbr\\u003eDonation=%{y}\\u003cextra\\u003e\\u003c\\u002fextra\\u003e\",\"legendgroup\":\" VENKAT PRANEETH DEVELOPRS P LTD\",\"marker\":{\"color\":\"#FF6692\",\"symbol\":\"circle\"},\"mode\":\"markers\",\"name\":\" VENKAT PRANEETH DEVELOPRS P LTD\",\"orientation\":\"v\",\"showlegend\":true,\"x\":[\"2023-07-04T00:00:00\"],\"xaxis\":\"x\",\"y\":[1.0],\"yaxis\":\"y\",\"type\":\"scatter\"},{\"hovertemplate\":\"Donor= ALEMBICPHARMACEUTICALSLINCLRTGS\\u003cbr\\u003eDate=%{x}\\u003cbr\\u003eDonation=%{y}\\u003cextra\\u003e\\u003c\\u002fextra\\u003e\",\"legendgroup\":\" ALEMBICPHARMACEUTICALSLINCLRTGS\",\"marker\":{\"color\":\"#B6E880\",\"symbol\":\"circle\"},\"mode\":\"markers\",\"name\":\" ALEMBICPHARMACEUTICALSLINCLRTGS\",\"orientation\":\"v\",\"showlegend\":true,\"x\":[\"2023-07-05T00:00:00\"],\"xaxis\":\"x\",\"y\":[0.5],\"yaxis\":\"y\",\"type\":\"scatter\"},{\"hovertemplate\":\"Donor= DIVI S LABORATORIES LIMITED\\u003cbr\\u003eDate=%{x}\\u003cbr\\u003eDonation=%{y}\\u003cextra\\u003e\\u003c\\u002fextra\\u003e\",\"legendgroup\":\" DIVI S LABORATORIES LIMITED\",\"marker\":{\"color\":\"#FF97FF\",\"symbol\":\"circle\"},\"mode\":\"markers\",\"name\":\" DIVI S LABORATORIES LIMITED\",\"orientation\":\"v\",\"showlegend\":true,\"x\":[\"2023-07-05T00:00:00\"],\"xaxis\":\"x\",\"y\":[20.0],\"yaxis\":\"y\",\"type\":\"scatter\"},{\"hovertemplate\":\"Donor= KALPATARU PROJECTS INTERNATIONAL LIMITED\\u003cbr\\u003eDate=%{x}\\u003cbr\\u003eDonation=%{y}\\u003cextra\\u003e\\u003c\\u002fextra\\u003e\",\"legendgroup\":\" KALPATARU PROJECTS INTERNATIONAL LIMITED\",\"marker\":{\"color\":\"#FECB52\",\"symbol\":\"circle\"},\"mode\":\"markers\",\"name\":\" KALPATARU PROJECTS INTERNATIONAL LIMITED\",\"orientation\":\"v\",\"showlegend\":true,\"x\":[\"2023-07-05T00:00:00\"],\"xaxis\":\"x\",\"y\":[10.0],\"yaxis\":\"y\",\"type\":\"scatter\"},{\"hovertemplate\":\"Donor= KITEX CHILDRENSWEAR LTD\\u003cbr\\u003eDate=%{x}\\u003cbr\\u003eDonation=%{y}\\u003cextra\\u003e\\u003c\\u002fextra\\u003e\",\"legendgroup\":\" KITEX CHILDRENSWEAR LTD\",\"marker\":{\"color\":\"#636efa\",\"symbol\":\"circle\"},\"mode\":\"markers\",\"name\":\" KITEX CHILDRENSWEAR LTD\",\"orientation\":\"v\",\"showlegend\":true,\"x\":[\"2023-07-05T00:00:00\"],\"xaxis\":\"x\",\"y\":[5.0],\"yaxis\":\"y\",\"type\":\"scatter\"},{\"hovertemplate\":\"Donor= KITEX GARMENTS LIMITED\\u003cbr\\u003eDate=%{x}\\u003cbr\\u003eDonation=%{y}\\u003cextra\\u003e\\u003c\\u002fextra\\u003e\",\"legendgroup\":\" KITEX GARMENTS LIMITED\",\"marker\":{\"color\":\"#EF553B\",\"symbol\":\"circle\"},\"mode\":\"markers\",\"name\":\" KITEX GARMENTS LIMITED\",\"orientation\":\"v\",\"showlegend\":true,\"x\":[\"2023-07-05T00:00:00\"],\"xaxis\":\"x\",\"y\":[10.0],\"yaxis\":\"y\",\"type\":\"scatter\"},{\"hovertemplate\":\"Donor= MANOTOSH DAS\\u003cbr\\u003eDate=%{x}\\u003cbr\\u003eDonation=%{y}\\u003cextra\\u003e\\u003c\\u002fextra\\u003e\",\"legendgroup\":\" MANOTOSH DAS\",\"marker\":{\"color\":\"#00cc96\",\"symbol\":\"circle\"},\"mode\":\"markers\",\"name\":\" MANOTOSH DAS\",\"orientation\":\"v\",\"showlegend\":true,\"x\":[\"2023-07-05T00:00:00\"],\"xaxis\":\"x\",\"y\":[1.2],\"yaxis\":\"y\",\"type\":\"scatter\"},{\"hovertemplate\":\"Donor= RAMESH AGARWAL C S BOTTLING PL\\u003cbr\\u003eDate=%{x}\\u003cbr\\u003eDonation=%{y}\\u003cextra\\u003e\\u003c\\u002fextra\\u003e\",\"legendgroup\":\" RAMESH AGARWAL C S BOTTLING PL\",\"marker\":{\"color\":\"#ab63fa\",\"symbol\":\"circle\"},\"mode\":\"markers\",\"name\":\" RAMESH AGARWAL C S BOTTLING PL\",\"orientation\":\"v\",\"showlegend\":true,\"x\":[\"2023-07-05T00:00:00\"],\"xaxis\":\"x\",\"y\":[1.5],\"yaxis\":\"y\",\"type\":\"scatter\"},{\"hovertemplate\":\"Donor= SENGUPTA AND SENGUPTA PRIVATE LIMIT\\u003cbr\\u003eDate=%{x}\\u003cbr\\u003eDonation=%{y}\\u003cextra\\u003e\\u003c\\u002fextra\\u003e\",\"legendgroup\":\" SENGUPTA AND SENGUPTA PRIVATE LIMIT\",\"marker\":{\"color\":\"#FFA15A\",\"symbol\":\"circle\"},\"mode\":\"markers\",\"name\":\" SENGUPTA AND SENGUPTA PRIVATE LIMIT\",\"orientation\":\"v\",\"showlegend\":true,\"x\":[\"2023-07-05T00:00:00\"],\"xaxis\":\"x\",\"y\":[2.0],\"yaxis\":\"y\",\"type\":\"scatter\"},{\"hovertemplate\":\"Donor= WPIL LIMITED\\u003cbr\\u003eDate=%{x}\\u003cbr\\u003eDonation=%{y}\\u003cextra\\u003e\\u003c\\u002fextra\\u003e\",\"legendgroup\":\" WPIL LIMITED\",\"marker\":{\"color\":\"#19d3f3\",\"symbol\":\"circle\"},\"mode\":\"markers\",\"name\":\" WPIL LIMITED\",\"orientation\":\"v\",\"showlegend\":true,\"x\":[\"2023-07-05T00:00:00\"],\"xaxis\":\"x\",\"y\":[7.0],\"yaxis\":\"y\",\"type\":\"scatter\"},{\"hovertemplate\":\"Donor= AALAYA CONSTRUCTIONS\\u003cbr\\u003eDate=%{x}\\u003cbr\\u003eDonation=%{y}\\u003cextra\\u003e\\u003c\\u002fextra\\u003e\",\"legendgroup\":\" AALAYA CONSTRUCTIONS\",\"marker\":{\"color\":\"#FF6692\",\"symbol\":\"circle\"},\"mode\":\"markers\",\"name\":\" AALAYA CONSTRUCTIONS\",\"orientation\":\"v\",\"showlegend\":true,\"x\":[\"2023-07-06T00:00:00\"],\"xaxis\":\"x\",\"y\":[1.0],\"yaxis\":\"y\",\"type\":\"scatter\"},{\"hovertemplate\":\"Donor= BHASWINI DEVELOPERS\\u003cbr\\u003eDate=%{x}\\u003cbr\\u003eDonation=%{y}\\u003cextra\\u003e\\u003c\\u002fextra\\u003e\",\"legendgroup\":\" BHASWINI DEVELOPERS\",\"marker\":{\"color\":\"#B6E880\",\"symbol\":\"circle\"},\"mode\":\"markers\",\"name\":\" BHASWINI DEVELOPERS\",\"orientation\":\"v\",\"showlegend\":true,\"x\":[\"2023-07-06T00:00:00\"],\"xaxis\":\"x\",\"y\":[1.0],\"yaxis\":\"y\",\"type\":\"scatter\"},{\"hovertemplate\":\"Donor= CASTLE LIQUORS PRIVATE LIMITED\\u003cbr\\u003eDate=%{x}\\u003cbr\\u003eDonation=%{y}\\u003cextra\\u003e\\u003c\\u002fextra\\u003e\",\"legendgroup\":\" CASTLE LIQUORS PRIVATE LIMITED\",\"marker\":{\"color\":\"#FF97FF\",\"symbol\":\"circle\"},\"mode\":\"markers\",\"name\":\" CASTLE LIQUORS PRIVATE LIMITED\",\"orientation\":\"v\",\"showlegend\":true,\"x\":[\"2023-07-06T00:00:00\"],\"xaxis\":\"x\",\"y\":[2.0],\"yaxis\":\"y\",\"type\":\"scatter\"},{\"hovertemplate\":\"Donor= DIVIT SECURITY\\u003cbr\\u003eDate=%{x}\\u003cbr\\u003eDonation=%{y}\\u003cextra\\u003e\\u003c\\u002fextra\\u003e\",\"legendgroup\":\" DIVIT SECURITY\",\"marker\":{\"color\":\"#FECB52\",\"symbol\":\"circle\"},\"mode\":\"markers\",\"name\":\" DIVIT SECURITY\",\"orientation\":\"v\",\"showlegend\":true,\"x\":[\"2023-07-06T00:00:00\"],\"xaxis\":\"x\",\"y\":[0.7],\"yaxis\":\"y\",\"type\":\"scatter\"},{\"hovertemplate\":\"Donor= FUTURE GAMING AND HOTEL SERVICES PR\\u003cbr\\u003eDate=%{x}\\u003cbr\\u003eDonation=%{y}\\u003cextra\\u003e\\u003c\\u002fextra\\u003e\",\"legendgroup\":\" FUTURE GAMING AND HOTEL SERVICES PR\",\"marker\":{\"color\":\"#636efa\",\"symbol\":\"circle\"},\"mode\":\"markers\",\"name\":\" FUTURE GAMING AND HOTEL SERVICES PR\",\"orientation\":\"v\",\"showlegend\":true,\"x\":[\"2023-07-06T00:00:00\"],\"xaxis\":\"x\",\"y\":[63.0],\"yaxis\":\"y\",\"type\":\"scatter\"},{\"hovertemplate\":\"Donor= IFB AGRO INDUSTRIES LIMITED\\u003cbr\\u003eDate=%{x}\\u003cbr\\u003eDonation=%{y}\\u003cextra\\u003e\\u003c\\u002fextra\\u003e\",\"legendgroup\":\" IFB AGRO INDUSTRIES LIMITED\",\"marker\":{\"color\":\"#EF553B\",\"symbol\":\"circle\"},\"mode\":\"markers\",\"name\":\" IFB AGRO INDUSTRIES LIMITED\",\"orientation\":\"v\",\"showlegend\":true,\"x\":[\"2023-07-06T00:00:00\"],\"xaxis\":\"x\",\"y\":[15.0],\"yaxis\":\"y\",\"type\":\"scatter\"},{\"hovertemplate\":\"Donor= JINDAL STAINLESS LTD\\u003cbr\\u003eDate=%{x}\\u003cbr\\u003eDonation=%{y}\\u003cextra\\u003e\\u003c\\u002fextra\\u003e\",\"legendgroup\":\" JINDAL STAINLESS LTD\",\"marker\":{\"color\":\"#00cc96\",\"symbol\":\"circle\"},\"mode\":\"markers\",\"name\":\" JINDAL STAINLESS LTD\",\"orientation\":\"v\",\"showlegend\":true,\"x\":[\"2023-07-06T00:00:00\"],\"xaxis\":\"x\",\"y\":[10.0],\"yaxis\":\"y\",\"type\":\"scatter\"},{\"hovertemplate\":\"Donor= M S VARAS INTERNATIONAL PVT LTD\\u003cbr\\u003eDate=%{x}\\u003cbr\\u003eDonation=%{y}\\u003cextra\\u003e\\u003c\\u002fextra\\u003e\",\"legendgroup\":\" M S VARAS INTERNATIONAL PVT LTD\",\"marker\":{\"color\":\"#ab63fa\",\"symbol\":\"circle\"},\"mode\":\"markers\",\"name\":\" M S VARAS INTERNATIONAL PVT LTD\",\"orientation\":\"v\",\"showlegend\":true,\"x\":[\"2023-07-06T00:00:00\"],\"xaxis\":\"x\",\"y\":[0.8],\"yaxis\":\"y\",\"type\":\"scatter\"},{\"hovertemplate\":\"Donor= MKJ ENTERPRISES LIMITED\\u003cbr\\u003eDate=%{x}\\u003cbr\\u003eDonation=%{y}\\u003cextra\\u003e\\u003c\\u002fextra\\u003e\",\"legendgroup\":\" MKJ ENTERPRISES LIMITED\",\"marker\":{\"color\":\"#FFA15A\",\"symbol\":\"circle\"},\"mode\":\"markers\",\"name\":\" MKJ ENTERPRISES LIMITED\",\"orientation\":\"v\",\"showlegend\":true,\"x\":[\"2023-07-06T00:00:00\",\"2023-07-12T00:00:00\"],\"xaxis\":\"x\",\"y\":[2.0,5.0],\"yaxis\":\"y\",\"type\":\"scatter\"},{\"hovertemplate\":\"Donor= MY HOME INFRASTRUCTURES PRIVATE LI\\u003cbr\\u003eDate=%{x}\\u003cbr\\u003eDonation=%{y}\\u003cextra\\u003e\\u003c\\u002fextra\\u003e\",\"legendgroup\":\" MY HOME INFRASTRUCTURES PRIVATE LI\",\"marker\":{\"color\":\"#19d3f3\",\"symbol\":\"circle\"},\"mode\":\"markers\",\"name\":\" MY HOME INFRASTRUCTURES PRIVATE LI\",\"orientation\":\"v\",\"showlegend\":true,\"x\":[\"2023-07-06T00:00:00\"],\"xaxis\":\"x\",\"y\":[15.0],\"yaxis\":\"y\",\"type\":\"scatter\"},{\"hovertemplate\":\"Donor= SRI DEVELOPERS\\u003cbr\\u003eDate=%{x}\\u003cbr\\u003eDonation=%{y}\\u003cextra\\u003e\\u003c\\u002fextra\\u003e\",\"legendgroup\":\" SRI DEVELOPERS\",\"marker\":{\"color\":\"#FF6692\",\"symbol\":\"circle\"},\"mode\":\"markers\",\"name\":\" SRI DEVELOPERS\",\"orientation\":\"v\",\"showlegend\":true,\"x\":[\"2023-07-06T00:00:00\"],\"xaxis\":\"x\",\"y\":[1.0],\"yaxis\":\"y\",\"type\":\"scatter\"},{\"hovertemplate\":\"Donor= SRI KARTHIKEYA DEVELOPERS\\u003cbr\\u003eDate=%{x}\\u003cbr\\u003eDonation=%{y}\\u003cextra\\u003e\\u003c\\u002fextra\\u003e\",\"legendgroup\":\" SRI KARTHIKEYA DEVELOPERS\",\"marker\":{\"color\":\"#B6E880\",\"symbol\":\"circle\"},\"mode\":\"markers\",\"name\":\" SRI KARTHIKEYA DEVELOPERS\",\"orientation\":\"v\",\"showlegend\":true,\"x\":[\"2023-07-06T00:00:00\"],\"xaxis\":\"x\",\"y\":[1.0],\"yaxis\":\"y\",\"type\":\"scatter\"},{\"hovertemplate\":\"Donor= VASUDHA DEVELOPERS\\u003cbr\\u003eDate=%{x}\\u003cbr\\u003eDonation=%{y}\\u003cextra\\u003e\\u003c\\u002fextra\\u003e\",\"legendgroup\":\" VASUDHA DEVELOPERS\",\"marker\":{\"color\":\"#FF97FF\",\"symbol\":\"circle\"},\"mode\":\"markers\",\"name\":\" VASUDHA DEVELOPERS\",\"orientation\":\"v\",\"showlegend\":true,\"x\":[\"2023-07-06T00:00:00\"],\"xaxis\":\"x\",\"y\":[1.0],\"yaxis\":\"y\",\"type\":\"scatter\"},{\"hovertemplate\":\"Donor= AQUA SPACE DEVELOPERS PRIVATE LIMIT\\u003cbr\\u003eDate=%{x}\\u003cbr\\u003eDonation=%{y}\\u003cextra\\u003e\\u003c\\u002fextra\\u003e\",\"legendgroup\":\" AQUA SPACE DEVELOPERS PRIVATE LIMIT\",\"marker\":{\"color\":\"#FECB52\",\"symbol\":\"circle\"},\"mode\":\"markers\",\"name\":\" AQUA SPACE DEVELOPERS PRIVATE LIMIT\",\"orientation\":\"v\",\"showlegend\":true,\"x\":[\"2023-07-07T00:00:00\"],\"xaxis\":\"x\",\"y\":[15.0],\"yaxis\":\"y\",\"type\":\"scatter\"},{\"hovertemplate\":\"Donor= ASKUS LOGISTICS PRIVATE LIMITED\\u003cbr\\u003eDate=%{x}\\u003cbr\\u003eDonation=%{y}\\u003cextra\\u003e\\u003c\\u002fextra\\u003e\",\"legendgroup\":\" ASKUS LOGISTICS PRIVATE LIMITED\",\"marker\":{\"color\":\"#636efa\",\"symbol\":\"circle\"},\"mode\":\"markers\",\"name\":\" ASKUS LOGISTICS PRIVATE LIMITED\",\"orientation\":\"v\",\"showlegend\":true,\"x\":[\"2023-07-07T00:00:00\"],\"xaxis\":\"x\",\"y\":[3.0],\"yaxis\":\"y\",\"type\":\"scatter\"},{\"hovertemplate\":\"Donor= BALU CEMENT CORPORATION\\u003cbr\\u003eDate=%{x}\\u003cbr\\u003eDonation=%{y}\\u003cextra\\u003e\\u003c\\u002fextra\\u003e\",\"legendgroup\":\" BALU CEMENT CORPORATION\",\"marker\":{\"color\":\"#EF553B\",\"symbol\":\"circle\"},\"mode\":\"markers\",\"name\":\" BALU CEMENT CORPORATION\",\"orientation\":\"v\",\"showlegend\":true,\"x\":[\"2023-07-07T00:00:00\"],\"xaxis\":\"x\",\"y\":[1.5],\"yaxis\":\"y\",\"type\":\"scatter\"},{\"hovertemplate\":\"Donor= BALU IRON AND STEEL COMPANY\\u003cbr\\u003eDate=%{x}\\u003cbr\\u003eDonation=%{y}\\u003cextra\\u003e\\u003c\\u002fextra\\u003e\",\"legendgroup\":\" BALU IRON AND STEEL COMPANY\",\"marker\":{\"color\":\"#00cc96\",\"symbol\":\"circle\"},\"mode\":\"markers\",\"name\":\" BALU IRON AND STEEL COMPANY\",\"orientation\":\"v\",\"showlegend\":true,\"x\":[\"2023-07-07T00:00:00\"],\"xaxis\":\"x\",\"y\":[6.0],\"yaxis\":\"y\",\"type\":\"scatter\"},{\"hovertemplate\":\"Donor= CHANDAKA SANYASI RAO\\u003cbr\\u003eDate=%{x}\\u003cbr\\u003eDonation=%{y}\\u003cextra\\u003e\\u003c\\u002fextra\\u003e\",\"legendgroup\":\" CHANDAKA SANYASI RAO\",\"marker\":{\"color\":\"#ab63fa\",\"symbol\":\"circle\"},\"mode\":\"markers\",\"name\":\" CHANDAKA SANYASI RAO\",\"orientation\":\"v\",\"showlegend\":true,\"x\":[\"2023-07-07T00:00:00\"],\"xaxis\":\"x\",\"y\":[0.05],\"yaxis\":\"y\",\"type\":\"scatter\"},{\"hovertemplate\":\"Donor= CROCHET TRADE AND INVESTMENT PVT LT\\u003cbr\\u003eDate=%{x}\\u003cbr\\u003eDonation=%{y}\\u003cextra\\u003e\\u003c\\u002fextra\\u003e\",\"legendgroup\":\" CROCHET TRADE AND INVESTMENT PVT LT\",\"marker\":{\"color\":\"#FFA15A\",\"symbol\":\"circle\"},\"mode\":\"markers\",\"name\":\" CROCHET TRADE AND INVESTMENT PVT LT\",\"orientation\":\"v\",\"showlegend\":true,\"x\":[\"2023-07-07T00:00:00\"],\"xaxis\":\"x\",\"y\":[1.5],\"yaxis\":\"y\",\"type\":\"scatter\"},{\"hovertemplate\":\"Donor= DINESH PROJECTS\\u003cbr\\u003eDate=%{x}\\u003cbr\\u003eDonation=%{y}\\u003cextra\\u003e\\u003c\\u002fextra\\u003e\",\"legendgroup\":\" DINESH PROJECTS\",\"marker\":{\"color\":\"#19d3f3\",\"symbol\":\"circle\"},\"mode\":\"markers\",\"name\":\" DINESH PROJECTS\",\"orientation\":\"v\",\"showlegend\":true,\"x\":[\"2023-07-07T00:00:00\"],\"xaxis\":\"x\",\"y\":[0.55],\"yaxis\":\"y\",\"type\":\"scatter\"},{\"hovertemplate\":\"Donor= DIPAN P SHAH\\u003cbr\\u003eDate=%{x}\\u003cbr\\u003eDonation=%{y}\\u003cextra\\u003e\\u003c\\u002fextra\\u003e\",\"legendgroup\":\" DIPAN P SHAH\",\"marker\":{\"color\":\"#FF6692\",\"symbol\":\"circle\"},\"mode\":\"markers\",\"name\":\" DIPAN P SHAH\",\"orientation\":\"v\",\"showlegend\":true,\"x\":[\"2023-07-07T00:00:00\"],\"xaxis\":\"x\",\"y\":[0.25],\"yaxis\":\"y\",\"type\":\"scatter\"},{\"hovertemplate\":\"Donor= ELLISBRIDGE ESTATES PVT LTD\\u003cbr\\u003eDate=%{x}\\u003cbr\\u003eDonation=%{y}\\u003cextra\\u003e\\u003c\\u002fextra\\u003e\",\"legendgroup\":\" ELLISBRIDGE ESTATES PVT LTD\",\"marker\":{\"color\":\"#B6E880\",\"symbol\":\"circle\"},\"mode\":\"markers\",\"name\":\" ELLISBRIDGE ESTATES PVT LTD\",\"orientation\":\"v\",\"showlegend\":true,\"x\":[\"2023-07-07T00:00:00\"],\"xaxis\":\"x\",\"y\":[0.5],\"yaxis\":\"y\",\"type\":\"scatter\"},{\"hovertemplate\":\"Donor= FOR M\\u002fS SRI NIDHI CONSTRUCTIONS\\u003cbr\\u003eDate=%{x}\\u003cbr\\u003eDonation=%{y}\\u003cextra\\u003e\\u003c\\u002fextra\\u003e\",\"legendgroup\":\" FOR M\\u002fS SRI NIDHI CONSTRUCTIONS\",\"marker\":{\"color\":\"#FF97FF\",\"symbol\":\"circle\"},\"mode\":\"markers\",\"name\":\" FOR M\\u002fS SRI NIDHI CONSTRUCTIONS\",\"orientation\":\"v\",\"showlegend\":true,\"x\":[\"2023-07-07T00:00:00\"],\"xaxis\":\"x\",\"y\":[1.0],\"yaxis\":\"y\",\"type\":\"scatter\"},{\"hovertemplate\":\"Donor= G CHANDRASHEKHAR\\u003cbr\\u003eDate=%{x}\\u003cbr\\u003eDonation=%{y}\\u003cextra\\u003e\\u003c\\u002fextra\\u003e\",\"legendgroup\":\" G CHANDRASHEKHAR\",\"marker\":{\"color\":\"#FECB52\",\"symbol\":\"circle\"},\"mode\":\"markers\",\"name\":\" G CHANDRASHEKHAR\",\"orientation\":\"v\",\"showlegend\":true,\"x\":[\"2023-07-07T00:00:00\"],\"xaxis\":\"x\",\"y\":[0.05],\"yaxis\":\"y\",\"type\":\"scatter\"},{\"hovertemplate\":\"Donor= GAJA ENGINEERING PVT LTD\\u003cbr\\u003eDate=%{x}\\u003cbr\\u003eDonation=%{y}\\u003cextra\\u003e\\u003c\\u002fextra\\u003e\",\"legendgroup\":\" GAJA ENGINEERING PVT LTD\",\"marker\":{\"color\":\"#636efa\",\"symbol\":\"circle\"},\"mode\":\"markers\",\"name\":\" GAJA ENGINEERING PVT LTD\",\"orientation\":\"v\",\"showlegend\":true,\"x\":[\"2023-07-07T00:00:00\"],\"xaxis\":\"x\",\"y\":[5.0],\"yaxis\":\"y\",\"type\":\"scatter\"},{\"hovertemplate\":\"Donor= KONARK RAJENDRA SHAH\\u003cbr\\u003eDate=%{x}\\u003cbr\\u003eDonation=%{y}\\u003cextra\\u003e\\u003c\\u002fextra\\u003e\",\"legendgroup\":\" KONARK RAJENDRA SHAH\",\"marker\":{\"color\":\"#EF553B\",\"symbol\":\"circle\"},\"mode\":\"markers\",\"name\":\" KONARK RAJENDRA SHAH\",\"orientation\":\"v\",\"showlegend\":true,\"x\":[\"2023-07-07T00:00:00\"],\"xaxis\":\"x\",\"y\":[1.0],\"yaxis\":\"y\",\"type\":\"scatter\"},{\"hovertemplate\":\"Donor= LAURELSECURITIESPVTLTD\\u003cbr\\u003eDate=%{x}\\u003cbr\\u003eDonation=%{y}\\u003cextra\\u003e\\u003c\\u002fextra\\u003e\",\"legendgroup\":\" LAURELSECURITIESPVTLTD\",\"marker\":{\"color\":\"#00cc96\",\"symbol\":\"circle\"},\"mode\":\"markers\",\"name\":\" LAURELSECURITIESPVTLTD\",\"orientation\":\"v\",\"showlegend\":true,\"x\":[\"2023-07-07T00:00:00\"],\"xaxis\":\"x\",\"y\":[2.0],\"yaxis\":\"y\",\"type\":\"scatter\"},{\"hovertemplate\":\"Donor= LAXMI CIVIL ENGINEERING SERVICES PR\\u003cbr\\u003eDate=%{x}\\u003cbr\\u003eDonation=%{y}\\u003cextra\\u003e\\u003c\\u002fextra\\u003e\",\"legendgroup\":\" LAXMI CIVIL ENGINEERING SERVICES PR\",\"marker\":{\"color\":\"#ab63fa\",\"symbol\":\"circle\"},\"mode\":\"markers\",\"name\":\" LAXMI CIVIL ENGINEERING SERVICES PR\",\"orientation\":\"v\",\"showlegend\":true,\"x\":[\"2023-07-07T00:00:00\"],\"xaxis\":\"x\",\"y\":[25.0],\"yaxis\":\"y\",\"type\":\"scatter\"},{\"hovertemplate\":\"Donor= MB POWER MADHYA PRADESH LTD\\u003cbr\\u003eDate=%{x}\\u003cbr\\u003eDonation=%{y}\\u003cextra\\u003e\\u003c\\u002fextra\\u003e\",\"legendgroup\":\" MB POWER MADHYA PRADESH LTD\",\"marker\":{\"color\":\"#FFA15A\",\"symbol\":\"circle\"},\"mode\":\"markers\",\"name\":\" MB POWER MADHYA PRADESH LTD\",\"orientation\":\"v\",\"showlegend\":true,\"x\":[\"2023-07-07T00:00:00\"],\"xaxis\":\"x\",\"y\":[5.0],\"yaxis\":\"y\",\"type\":\"scatter\"},{\"hovertemplate\":\"Donor= PUNIT DEVENDRABHAI BHANDERI\\u003cbr\\u003eDate=%{x}\\u003cbr\\u003eDonation=%{y}\\u003cextra\\u003e\\u003c\\u002fextra\\u003e\",\"legendgroup\":\" PUNIT DEVENDRABHAI BHANDERI\",\"marker\":{\"color\":\"#19d3f3\",\"symbol\":\"circle\"},\"mode\":\"markers\",\"name\":\" PUNIT DEVENDRABHAI BHANDERI\",\"orientation\":\"v\",\"showlegend\":true,\"x\":[\"2023-07-07T00:00:00\"],\"xaxis\":\"x\",\"y\":[0.0001],\"yaxis\":\"y\",\"type\":\"scatter\"},{\"hovertemplate\":\"Donor= PURULIA BOTTLING PVT LTD\\u003cbr\\u003eDate=%{x}\\u003cbr\\u003eDonation=%{y}\\u003cextra\\u003e\\u003c\\u002fextra\\u003e\",\"legendgroup\":\" PURULIA BOTTLING PVT LTD\",\"marker\":{\"color\":\"#FF6692\",\"symbol\":\"circle\"},\"mode\":\"markers\",\"name\":\" PURULIA BOTTLING PVT LTD\",\"orientation\":\"v\",\"showlegend\":true,\"x\":[\"2023-07-07T00:00:00\"],\"xaxis\":\"x\",\"y\":[1.5],\"yaxis\":\"y\",\"type\":\"scatter\"},{\"hovertemplate\":\"Donor= SAGAR CEMENTS LIMITED\\u003cbr\\u003eDate=%{x}\\u003cbr\\u003eDonation=%{y}\\u003cextra\\u003e\\u003c\\u002fextra\\u003e\",\"legendgroup\":\" SAGAR CEMENTS LIMITED\",\"marker\":{\"color\":\"#B6E880\",\"symbol\":\"circle\"},\"mode\":\"markers\",\"name\":\" SAGAR CEMENTS LIMITED\",\"orientation\":\"v\",\"showlegend\":true,\"x\":[\"2023-07-07T00:00:00\"],\"xaxis\":\"x\",\"y\":[2.5],\"yaxis\":\"y\",\"type\":\"scatter\"},{\"hovertemplate\":\"Donor= SIDDHARTH DEVELOPERS\\u003cbr\\u003eDate=%{x}\\u003cbr\\u003eDonation=%{y}\\u003cextra\\u003e\\u003c\\u002fextra\\u003e\",\"legendgroup\":\" SIDDHARTH DEVELOPERS\",\"marker\":{\"color\":\"#FF97FF\",\"symbol\":\"circle\"},\"mode\":\"markers\",\"name\":\" SIDDHARTH DEVELOPERS\",\"orientation\":\"v\",\"showlegend\":true,\"x\":[\"2023-07-07T00:00:00\"],\"xaxis\":\"x\",\"y\":[1.0],\"yaxis\":\"y\",\"type\":\"scatter\"},{\"hovertemplate\":\"Donor= SWARNARETH MINERAL INDUSTRIES\\u003cbr\\u003eDate=%{x}\\u003cbr\\u003eDonation=%{y}\\u003cextra\\u003e\\u003c\\u002fextra\\u003e\",\"legendgroup\":\" SWARNARETH MINERAL INDUSTRIES\",\"marker\":{\"color\":\"#FECB52\",\"symbol\":\"circle\"},\"mode\":\"markers\",\"name\":\" SWARNARETH MINERAL INDUSTRIES\",\"orientation\":\"v\",\"showlegend\":true,\"x\":[\"2023-07-07T00:00:00\"],\"xaxis\":\"x\",\"y\":[1.0],\"yaxis\":\"y\",\"type\":\"scatter\"},{\"hovertemplate\":\"Donor= TEJAS P SHAH\\u003cbr\\u003eDate=%{x}\\u003cbr\\u003eDonation=%{y}\\u003cextra\\u003e\\u003c\\u002fextra\\u003e\",\"legendgroup\":\" TEJAS P SHAH\",\"marker\":{\"color\":\"#636efa\",\"symbol\":\"circle\"},\"mode\":\"markers\",\"name\":\" TEJAS P SHAH\",\"orientation\":\"v\",\"showlegend\":true,\"x\":[\"2023-07-07T00:00:00\"],\"xaxis\":\"x\",\"y\":[0.25],\"yaxis\":\"y\",\"type\":\"scatter\"},{\"hovertemplate\":\"Donor= VERTEX VEGA DEVELOPERS LLP\\u003cbr\\u003eDate=%{x}\\u003cbr\\u003eDonation=%{y}\\u003cextra\\u003e\\u003c\\u002fextra\\u003e\",\"legendgroup\":\" VERTEX VEGA DEVELOPERS LLP\",\"marker\":{\"color\":\"#EF553B\",\"symbol\":\"circle\"},\"mode\":\"markers\",\"name\":\" VERTEX VEGA DEVELOPERS LLP\",\"orientation\":\"v\",\"showlegend\":true,\"x\":[\"2023-07-07T00:00:00\",\"2023-07-10T00:00:00\"],\"xaxis\":\"x\",\"y\":[3.0,1.0],\"yaxis\":\"y\",\"type\":\"scatter\"},{\"hovertemplate\":\"Donor= AMAR KRISHNA SAJJA\\u003cbr\\u003eDate=%{x}\\u003cbr\\u003eDonation=%{y}\\u003cextra\\u003e\\u003c\\u002fextra\\u003e\",\"legendgroup\":\" AMAR KRISHNA SAJJA\",\"marker\":{\"color\":\"#00cc96\",\"symbol\":\"circle\"},\"mode\":\"markers\",\"name\":\" AMAR KRISHNA SAJJA\",\"orientation\":\"v\",\"showlegend\":true,\"x\":[\"2023-07-10T00:00:00\"],\"xaxis\":\"x\",\"y\":[0.05],\"yaxis\":\"y\",\"type\":\"scatter\"},{\"hovertemplate\":\"Donor= ARAVIND S\\u003cbr\\u003eDate=%{x}\\u003cbr\\u003eDonation=%{y}\\u003cextra\\u003e\\u003c\\u002fextra\\u003e\",\"legendgroup\":\" ARAVIND S\",\"marker\":{\"color\":\"#ab63fa\",\"symbol\":\"circle\"},\"mode\":\"markers\",\"name\":\" ARAVIND S\",\"orientation\":\"v\",\"showlegend\":true,\"x\":[\"2023-07-10T00:00:00\"],\"xaxis\":\"x\",\"y\":[0.0001],\"yaxis\":\"y\",\"type\":\"scatter\"},{\"hovertemplate\":\"Donor= ARROW PROJECTS PVT LTD\\u003cbr\\u003eDate=%{x}\\u003cbr\\u003eDonation=%{y}\\u003cextra\\u003e\\u003c\\u002fextra\\u003e\",\"legendgroup\":\" ARROW PROJECTS PVT LTD\",\"marker\":{\"color\":\"#FFA15A\",\"symbol\":\"circle\"},\"mode\":\"markers\",\"name\":\" ARROW PROJECTS PVT LTD\",\"orientation\":\"v\",\"showlegend\":true,\"x\":[\"2023-07-10T00:00:00\"],\"xaxis\":\"x\",\"y\":[1.0],\"yaxis\":\"y\",\"type\":\"scatter\"},{\"hovertemplate\":\"Donor= BESSEGGENINFOTECHLLP\\u003cbr\\u003eDate=%{x}\\u003cbr\\u003eDonation=%{y}\\u003cextra\\u003e\\u003c\\u002fextra\\u003e\",\"legendgroup\":\" BESSEGGENINFOTECHLLP\",\"marker\":{\"color\":\"#19d3f3\",\"symbol\":\"circle\"},\"mode\":\"markers\",\"name\":\" BESSEGGENINFOTECHLLP\",\"orientation\":\"v\",\"showlegend\":true,\"x\":[\"2023-07-10T00:00:00\"],\"xaxis\":\"x\",\"y\":[2.0],\"yaxis\":\"y\",\"type\":\"scatter\"},{\"hovertemplate\":\"Donor= CREATIVE LLP\\u003cbr\\u003eDate=%{x}\\u003cbr\\u003eDonation=%{y}\\u003cextra\\u003e\\u003c\\u002fextra\\u003e\",\"legendgroup\":\" CREATIVE LLP\",\"marker\":{\"color\":\"#FF6692\",\"symbol\":\"circle\"},\"mode\":\"markers\",\"name\":\" CREATIVE LLP\",\"orientation\":\"v\",\"showlegend\":true,\"x\":[\"2023-07-10T00:00:00\"],\"xaxis\":\"x\",\"y\":[0.96],\"yaxis\":\"y\",\"type\":\"scatter\"},{\"hovertemplate\":\"Donor= DHARIWAL INFRASTRUCTURE LIMITED\\u003cbr\\u003eDate=%{x}\\u003cbr\\u003eDonation=%{y}\\u003cextra\\u003e\\u003c\\u002fextra\\u003e\",\"legendgroup\":\" DHARIWAL INFRASTRUCTURE LIMITED\",\"marker\":{\"color\":\"#B6E880\",\"symbol\":\"circle\"},\"mode\":\"markers\",\"name\":\" DHARIWAL INFRASTRUCTURE LIMITED\",\"orientation\":\"v\",\"showlegend\":true,\"x\":[\"2023-07-10T00:00:00\"],\"xaxis\":\"x\",\"y\":[15.0],\"yaxis\":\"y\",\"type\":\"scatter\"},{\"hovertemplate\":\"Donor= HALDIA ENERGY LIMITED\\u003cbr\\u003eDate=%{x}\\u003cbr\\u003eDonation=%{y}\\u003cextra\\u003e\\u003c\\u002fextra\\u003e\",\"legendgroup\":\" HALDIA ENERGY LIMITED\",\"marker\":{\"color\":\"#FF97FF\",\"symbol\":\"circle\"},\"mode\":\"markers\",\"name\":\" HALDIA ENERGY LIMITED\",\"orientation\":\"v\",\"showlegend\":true,\"x\":[\"2023-07-10T00:00:00\"],\"xaxis\":\"x\",\"y\":[20.0],\"yaxis\":\"y\",\"type\":\"scatter\"},{\"hovertemplate\":\"Donor= HIMALAYAN ENDEAVOUR PVT LTD\\u003cbr\\u003eDate=%{x}\\u003cbr\\u003eDonation=%{y}\\u003cextra\\u003e\\u003c\\u002fextra\\u003e\",\"legendgroup\":\" HIMALAYAN ENDEAVOUR PVT LTD\",\"marker\":{\"color\":\"#FECB52\",\"symbol\":\"circle\"},\"mode\":\"markers\",\"name\":\" HIMALAYAN ENDEAVOUR PVT LTD\",\"orientation\":\"v\",\"showlegend\":true,\"x\":[\"2023-07-10T00:00:00\"],\"xaxis\":\"x\",\"y\":[1.0],\"yaxis\":\"y\",\"type\":\"scatter\"},{\"hovertemplate\":\"Donor= KAUSTUBH VERMA\\u003cbr\\u003eDate=%{x}\\u003cbr\\u003eDonation=%{y}\\u003cextra\\u003e\\u003c\\u002fextra\\u003e\",\"legendgroup\":\" KAUSTUBH VERMA\",\"marker\":{\"color\":\"#636efa\",\"symbol\":\"circle\"},\"mode\":\"markers\",\"name\":\" KAUSTUBH VERMA\",\"orientation\":\"v\",\"showlegend\":true,\"x\":[\"2023-07-10T00:00:00\"],\"xaxis\":\"x\",\"y\":[0.5],\"yaxis\":\"y\",\"type\":\"scatter\"},{\"hovertemplate\":\"Donor= KNR CONSTRUCTIONS LTD\\u003cbr\\u003eDate=%{x}\\u003cbr\\u003eDonation=%{y}\\u003cextra\\u003e\\u003c\\u002fextra\\u003e\",\"legendgroup\":\" KNR CONSTRUCTIONS LTD\",\"marker\":{\"color\":\"#EF553B\",\"symbol\":\"circle\"},\"mode\":\"markers\",\"name\":\" KNR CONSTRUCTIONS LTD\",\"orientation\":\"v\",\"showlegend\":true,\"x\":[\"2023-07-10T00:00:00\"],\"xaxis\":\"x\",\"y\":[10.0],\"yaxis\":\"y\",\"type\":\"scatter\"},{\"hovertemplate\":\"Donor= LAXMI INDUSTRIAL BOTTLING PLANT\\u003cbr\\u003eDate=%{x}\\u003cbr\\u003eDonation=%{y}\\u003cextra\\u003e\\u003c\\u002fextra\\u003e\",\"legendgroup\":\" LAXMI INDUSTRIAL BOTTLING PLANT\",\"marker\":{\"color\":\"#00cc96\",\"symbol\":\"circle\"},\"mode\":\"markers\",\"name\":\" LAXMI INDUSTRIAL BOTTLING PLANT\",\"orientation\":\"v\",\"showlegend\":true,\"x\":[\"2023-07-10T00:00:00\"],\"xaxis\":\"x\",\"y\":[0.4],\"yaxis\":\"y\",\"type\":\"scatter\"},{\"hovertemplate\":\"Donor= LPF SYSTEMS PRIVATE LIMITED\\u003cbr\\u003eDate=%{x}\\u003cbr\\u003eDonation=%{y}\\u003cextra\\u003e\\u003c\\u002fextra\\u003e\",\"legendgroup\":\" LPF SYSTEMS PRIVATE LIMITED\",\"marker\":{\"color\":\"#ab63fa\",\"symbol\":\"circle\"},\"mode\":\"markers\",\"name\":\" LPF SYSTEMS PRIVATE LIMITED\",\"orientation\":\"v\",\"showlegend\":true,\"x\":[\"2023-07-10T00:00:00\"],\"xaxis\":\"x\",\"y\":[1.0],\"yaxis\":\"y\",\"type\":\"scatter\"},{\"hovertemplate\":\"Donor= MUPPANA VENKATA RAO\\u003cbr\\u003eDate=%{x}\\u003cbr\\u003eDonation=%{y}\\u003cextra\\u003e\\u003c\\u002fextra\\u003e\",\"legendgroup\":\" MUPPANA VENKATA RAO\",\"marker\":{\"color\":\"#FFA15A\",\"symbol\":\"circle\"},\"mode\":\"markers\",\"name\":\" MUPPANA VENKATA RAO\",\"orientation\":\"v\",\"showlegend\":true,\"x\":[\"2023-07-10T00:00:00\",\"2023-07-11T00:00:00\"],\"xaxis\":\"x\",\"y\":[0.45,0.45],\"yaxis\":\"y\",\"type\":\"scatter\"},{\"hovertemplate\":\"Donor= NVNR POWER INFRA PRIVATE LIMITED\\u003cbr\\u003eDate=%{x}\\u003cbr\\u003eDonation=%{y}\\u003cextra\\u003e\\u003c\\u002fextra\\u003e\",\"legendgroup\":\" NVNR POWER INFRA PRIVATE LIMITED\",\"marker\":{\"color\":\"#19d3f3\",\"symbol\":\"circle\"},\"mode\":\"markers\",\"name\":\" NVNR POWER INFRA PRIVATE LIMITED\",\"orientation\":\"v\",\"showlegend\":true,\"x\":[\"2023-07-10T00:00:00\"],\"xaxis\":\"x\",\"y\":[2.0],\"yaxis\":\"y\",\"type\":\"scatter\"},{\"hovertemplate\":\"Donor= PARESH CHAMPAKLAL SHAH\\u003cbr\\u003eDate=%{x}\\u003cbr\\u003eDonation=%{y}\\u003cextra\\u003e\\u003c\\u002fextra\\u003e\",\"legendgroup\":\" PARESH CHAMPAKLAL SHAH\",\"marker\":{\"color\":\"#FF6692\",\"symbol\":\"circle\"},\"mode\":\"markers\",\"name\":\" PARESH CHAMPAKLAL SHAH\",\"orientation\":\"v\",\"showlegend\":true,\"x\":[\"2023-07-10T00:00:00\"],\"xaxis\":\"x\",\"y\":[1.0],\"yaxis\":\"y\",\"type\":\"scatter\"},{\"hovertemplate\":\"Donor= PRAKASH DISTILLERY & CHEMICAL CO P LT D\\u003cbr\\u003eDate=%{x}\\u003cbr\\u003eDonation=%{y}\\u003cextra\\u003e\\u003c\\u002fextra\\u003e\",\"legendgroup\":\" PRAKASH DISTILLERY & CHEMICAL CO P LT D\",\"marker\":{\"color\":\"#B6E880\",\"symbol\":\"circle\"},\"mode\":\"markers\",\"name\":\" PRAKASH DISTILLERY & CHEMICAL CO P LT D\",\"orientation\":\"v\",\"showlegend\":true,\"x\":[\"2023-07-10T00:00:00\"],\"xaxis\":\"x\",\"y\":[0.4],\"yaxis\":\"y\",\"type\":\"scatter\"},{\"hovertemplate\":\"Donor= PRESTIGE GARDEN ESTATES PRIVATE LIM\\u003cbr\\u003eDate=%{x}\\u003cbr\\u003eDonation=%{y}\\u003cextra\\u003e\\u003c\\u002fextra\\u003e\",\"legendgroup\":\" PRESTIGE GARDEN ESTATES PRIVATE LIM\",\"marker\":{\"color\":\"#FF97FF\",\"symbol\":\"circle\"},\"mode\":\"markers\",\"name\":\" PRESTIGE GARDEN ESTATES PRIVATE LIM\",\"orientation\":\"v\",\"showlegend\":true,\"x\":[\"2023-07-10T00:00:00\"],\"xaxis\":\"x\",\"y\":[5.0],\"yaxis\":\"y\",\"type\":\"scatter\"},{\"hovertemplate\":\"Donor= PRESTIGE PROJECTS PVT LTD\\u003cbr\\u003eDate=%{x}\\u003cbr\\u003eDonation=%{y}\\u003cextra\\u003e\\u003c\\u002fextra\\u003e\",\"legendgroup\":\" PRESTIGE PROJECTS PVT LTD\",\"marker\":{\"color\":\"#FECB52\",\"symbol\":\"circle\"},\"mode\":\"markers\",\"name\":\" PRESTIGE PROJECTS PVT LTD\",\"orientation\":\"v\",\"showlegend\":true,\"x\":[\"2023-07-10T00:00:00\"],\"xaxis\":\"x\",\"y\":[5.0],\"yaxis\":\"y\",\"type\":\"scatter\"},{\"hovertemplate\":\"Donor= PRUDHVI CONSTRUCTIONS PRIVATE LIMIT\\u003cbr\\u003eDate=%{x}\\u003cbr\\u003eDonation=%{y}\\u003cextra\\u003e\\u003c\\u002fextra\\u003e\",\"legendgroup\":\" PRUDHVI CONSTRUCTIONS PRIVATE LIMIT\",\"marker\":{\"color\":\"#636efa\",\"symbol\":\"circle\"},\"mode\":\"markers\",\"name\":\" PRUDHVI CONSTRUCTIONS PRIVATE LIMIT\",\"orientation\":\"v\",\"showlegend\":true,\"x\":[\"2023-07-10T00:00:00\"],\"xaxis\":\"x\",\"y\":[2.5],\"yaxis\":\"y\",\"type\":\"scatter\"},{\"hovertemplate\":\"Donor= R R INFRATECH INDIA PRIVATE LIM\\u003cbr\\u003eDate=%{x}\\u003cbr\\u003eDonation=%{y}\\u003cextra\\u003e\\u003c\\u002fextra\\u003e\",\"legendgroup\":\" R R INFRATECH INDIA PRIVATE LIM\",\"marker\":{\"color\":\"#EF553B\",\"symbol\":\"circle\"},\"mode\":\"markers\",\"name\":\" R R INFRATECH INDIA PRIVATE LIM\",\"orientation\":\"v\",\"showlegend\":true,\"x\":[\"2023-07-10T00:00:00\"],\"xaxis\":\"x\",\"y\":[2.5],\"yaxis\":\"y\",\"type\":\"scatter\"},{\"hovertemplate\":\"Donor= RASHMI CEMENT LTD\\u003cbr\\u003eDate=%{x}\\u003cbr\\u003eDonation=%{y}\\u003cextra\\u003e\\u003c\\u002fextra\\u003e\",\"legendgroup\":\" RASHMI CEMENT LTD\",\"marker\":{\"color\":\"#00cc96\",\"symbol\":\"circle\"},\"mode\":\"markers\",\"name\":\" RASHMI CEMENT LTD\",\"orientation\":\"v\",\"showlegend\":true,\"x\":[\"2023-07-10T00:00:00\",\"2023-07-12T00:00:00\"],\"xaxis\":\"x\",\"y\":[10.0,5.0],\"yaxis\":\"y\",\"type\":\"scatter\"},{\"hovertemplate\":\"Donor= REPALLY ASHOK\\u003cbr\\u003eDate=%{x}\\u003cbr\\u003eDonation=%{y}\\u003cextra\\u003e\\u003c\\u002fextra\\u003e\",\"legendgroup\":\" REPALLY ASHOK\",\"marker\":{\"color\":\"#ab63fa\",\"symbol\":\"circle\"},\"mode\":\"markers\",\"name\":\" REPALLY ASHOK\",\"orientation\":\"v\",\"showlegend\":true,\"x\":[\"2023-07-10T00:00:00\"],\"xaxis\":\"x\",\"y\":[0.05],\"yaxis\":\"y\",\"type\":\"scatter\"},{\"hovertemplate\":\"Donor= RIGHT AID CONSULTANTS PVT LTD\\u003cbr\\u003eDate=%{x}\\u003cbr\\u003eDonation=%{y}\\u003cextra\\u003e\\u003c\\u002fextra\\u003e\",\"legendgroup\":\" RIGHT AID CONSULTANTS PVT LTD\",\"marker\":{\"color\":\"#FFA15A\",\"symbol\":\"circle\"},\"mode\":\"markers\",\"name\":\" RIGHT AID CONSULTANTS PVT LTD\",\"orientation\":\"v\",\"showlegend\":true,\"x\":[\"2023-07-10T00:00:00\"],\"xaxis\":\"x\",\"y\":[1.5],\"yaxis\":\"y\",\"type\":\"scatter\"},{\"hovertemplate\":\"Donor= RIPLEY & CO STEVDORING & HANDLING PVT LT D\\u003cbr\\u003eDate=%{x}\\u003cbr\\u003eDonation=%{y}\\u003cextra\\u003e\\u003c\\u002fextra\\u003e\",\"legendgroup\":\" RIPLEY & CO STEVDORING & HANDLING PVT LT D\",\"marker\":{\"color\":\"#19d3f3\",\"symbol\":\"circle\"},\"mode\":\"markers\",\"name\":\" RIPLEY & CO STEVDORING & HANDLING PVT LT D\",\"orientation\":\"v\",\"showlegend\":true,\"x\":[\"2023-07-10T00:00:00\"],\"xaxis\":\"x\",\"y\":[1.5],\"yaxis\":\"y\",\"type\":\"scatter\"},{\"hovertemplate\":\"Donor= SAGI VENKATA RAMAKRISHNA RAJU\\u003cbr\\u003eDate=%{x}\\u003cbr\\u003eDonation=%{y}\\u003cextra\\u003e\\u003c\\u002fextra\\u003e\",\"legendgroup\":\" SAGI VENKATA RAMAKRISHNA RAJU\",\"marker\":{\"color\":\"#FF6692\",\"symbol\":\"circle\"},\"mode\":\"markers\",\"name\":\" SAGI VENKATA RAMAKRISHNA RAJU\",\"orientation\":\"v\",\"showlegend\":true,\"x\":[\"2023-07-10T00:00:00\"],\"xaxis\":\"x\",\"y\":[1.0],\"yaxis\":\"y\",\"type\":\"scatter\"},{\"hovertemplate\":\"Donor= SILVERTONE SECURITIES PRIVATE LIMIT\\u003cbr\\u003eDate=%{x}\\u003cbr\\u003eDonation=%{y}\\u003cextra\\u003e\\u003c\\u002fextra\\u003e\",\"legendgroup\":\" SILVERTONE SECURITIES PRIVATE LIMIT\",\"marker\":{\"color\":\"#B6E880\",\"symbol\":\"circle\"},\"mode\":\"markers\",\"name\":\" SILVERTONE SECURITIES PRIVATE LIMIT\",\"orientation\":\"v\",\"showlegend\":true,\"x\":[\"2023-07-10T00:00:00\"],\"xaxis\":\"x\",\"y\":[1.5],\"yaxis\":\"y\",\"type\":\"scatter\"},{\"hovertemplate\":\"Donor= TELLAPUR TECHNOCITY PRIVATE LIMI\\u003cbr\\u003eDate=%{x}\\u003cbr\\u003eDonation=%{y}\\u003cextra\\u003e\\u003c\\u002fextra\\u003e\",\"legendgroup\":\" TELLAPUR TECHNOCITY PRIVATE LIMI\",\"marker\":{\"color\":\"#FF97FF\",\"symbol\":\"circle\"},\"mode\":\"markers\",\"name\":\" TELLAPUR TECHNOCITY PRIVATE LIMI\",\"orientation\":\"v\",\"showlegend\":true,\"x\":[\"2023-07-10T00:00:00\"],\"xaxis\":\"x\",\"y\":[20.0],\"yaxis\":\"y\",\"type\":\"scatter\"},{\"hovertemplate\":\"Donor= UNIPRO TECHNO INFRASTRUCTURE PVT LTD\\u003cbr\\u003eDate=%{x}\\u003cbr\\u003eDonation=%{y}\\u003cextra\\u003e\\u003c\\u002fextra\\u003e\",\"legendgroup\":\" UNIPRO TECHNO INFRASTRUCTURE PVT LTD\",\"marker\":{\"color\":\"#FECB52\",\"symbol\":\"circle\"},\"mode\":\"markers\",\"name\":\" UNIPRO TECHNO INFRASTRUCTURE PVT LTD\",\"orientation\":\"v\",\"showlegend\":true,\"x\":[\"2023-07-10T00:00:00\"],\"xaxis\":\"x\",\"y\":[4.0],\"yaxis\":\"y\",\"type\":\"scatter\"},{\"hovertemplate\":\"Donor= V BALAVEERIAH SONS\\u003cbr\\u003eDate=%{x}\\u003cbr\\u003eDonation=%{y}\\u003cextra\\u003e\\u003c\\u002fextra\\u003e\",\"legendgroup\":\" V BALAVEERIAH SONS\",\"marker\":{\"color\":\"#636efa\",\"symbol\":\"circle\"},\"mode\":\"markers\",\"name\":\" V BALAVEERIAH SONS\",\"orientation\":\"v\",\"showlegend\":true,\"x\":[\"2023-07-10T00:00:00\"],\"xaxis\":\"x\",\"y\":[0.25],\"yaxis\":\"y\",\"type\":\"scatter\"},{\"hovertemplate\":\"Donor= VIDITVA CONSTRUCTIONS\\u003cbr\\u003eDate=%{x}\\u003cbr\\u003eDonation=%{y}\\u003cextra\\u003e\\u003c\\u002fextra\\u003e\",\"legendgroup\":\" VIDITVA CONSTRUCTIONS\",\"marker\":{\"color\":\"#EF553B\",\"symbol\":\"circle\"},\"mode\":\"markers\",\"name\":\" VIDITVA CONSTRUCTIONS\",\"orientation\":\"v\",\"showlegend\":true,\"x\":[\"2023-07-10T00:00:00\"],\"xaxis\":\"x\",\"y\":[0.48],\"yaxis\":\"y\",\"type\":\"scatter\"},{\"hovertemplate\":\"Donor= VIKAS PARASRAMPURIA\\u003cbr\\u003eDate=%{x}\\u003cbr\\u003eDonation=%{y}\\u003cextra\\u003e\\u003c\\u002fextra\\u003e\",\"legendgroup\":\" VIKAS PARASRAMPURIA\",\"marker\":{\"color\":\"#00cc96\",\"symbol\":\"circle\"},\"mode\":\"markers\",\"name\":\" VIKAS PARASRAMPURIA\",\"orientation\":\"v\",\"showlegend\":true,\"x\":[\"2023-07-10T00:00:00\"],\"xaxis\":\"x\",\"y\":[0.5],\"yaxis\":\"y\",\"type\":\"scatter\"},{\"hovertemplate\":\"Donor= VIPUL CHAMPAKLAL SHAH\\u003cbr\\u003eDate=%{x}\\u003cbr\\u003eDonation=%{y}\\u003cextra\\u003e\\u003c\\u002fextra\\u003e\",\"legendgroup\":\" VIPUL CHAMPAKLAL SHAH\",\"marker\":{\"color\":\"#ab63fa\",\"symbol\":\"circle\"},\"mode\":\"markers\",\"name\":\" VIPUL CHAMPAKLAL SHAH\",\"orientation\":\"v\",\"showlegend\":true,\"x\":[\"2023-07-10T00:00:00\"],\"xaxis\":\"x\",\"y\":[1.0],\"yaxis\":\"y\",\"type\":\"scatter\"},{\"hovertemplate\":\"Donor= ZYDUS HEALTHCARE LIMITED\\u003cbr\\u003eDate=%{x}\\u003cbr\\u003eDonation=%{y}\\u003cextra\\u003e\\u003c\\u002fextra\\u003e\",\"legendgroup\":\" ZYDUS HEALTHCARE LIMITED\",\"marker\":{\"color\":\"#FFA15A\",\"symbol\":\"circle\"},\"mode\":\"markers\",\"name\":\" ZYDUS HEALTHCARE LIMITED\",\"orientation\":\"v\",\"showlegend\":true,\"x\":[\"2023-07-10T00:00:00\"],\"xaxis\":\"x\",\"y\":[8.0],\"yaxis\":\"y\",\"type\":\"scatter\"},{\"hovertemplate\":\"Donor= ASHOKA MUDHOL NIPANI ROADS LIMITED\\u003cbr\\u003eDate=%{x}\\u003cbr\\u003eDonation=%{y}\\u003cextra\\u003e\\u003c\\u002fextra\\u003e\",\"legendgroup\":\" ASHOKA MUDHOL NIPANI ROADS LIMITED\",\"marker\":{\"color\":\"#19d3f3\",\"symbol\":\"circle\"},\"mode\":\"markers\",\"name\":\" ASHOKA MUDHOL NIPANI ROADS LIMITED\",\"orientation\":\"v\",\"showlegend\":true,\"x\":[\"2023-07-11T00:00:00\"],\"xaxis\":\"x\",\"y\":[5.0],\"yaxis\":\"y\",\"type\":\"scatter\"},{\"hovertemplate\":\"Donor= BSCPL INFRASTRUCTURE LIMITED\\u003cbr\\u003eDate=%{x}\\u003cbr\\u003eDonation=%{y}\\u003cextra\\u003e\\u003c\\u002fextra\\u003e\",\"legendgroup\":\" BSCPL INFRASTRUCTURE LIMITED\",\"marker\":{\"color\":\"#FF6692\",\"symbol\":\"circle\"},\"mode\":\"markers\",\"name\":\" BSCPL INFRASTRUCTURE LIMITED\",\"orientation\":\"v\",\"showlegend\":true,\"x\":[\"2023-07-11T00:00:00\",\"2023-07-12T00:00:00\"],\"xaxis\":\"x\",\"y\":[1.0,0.5],\"yaxis\":\"y\",\"type\":\"scatter\"},{\"hovertemplate\":\"Donor= BUILDOX DEVELOPERS LLP\\u003cbr\\u003eDate=%{x}\\u003cbr\\u003eDonation=%{y}\\u003cextra\\u003e\\u003c\\u002fextra\\u003e\",\"legendgroup\":\" BUILDOX DEVELOPERS LLP\",\"marker\":{\"color\":\"#B6E880\",\"symbol\":\"circle\"},\"mode\":\"markers\",\"name\":\" BUILDOX DEVELOPERS LLP\",\"orientation\":\"v\",\"showlegend\":true,\"x\":[\"2023-07-11T00:00:00\"],\"xaxis\":\"x\",\"y\":[0.6],\"yaxis\":\"y\",\"type\":\"scatter\"},{\"hovertemplate\":\"Donor= GURRAM MOUNIKA\\u003cbr\\u003eDate=%{x}\\u003cbr\\u003eDonation=%{y}\\u003cextra\\u003e\\u003c\\u002fextra\\u003e\",\"legendgroup\":\" GURRAM MOUNIKA\",\"marker\":{\"color\":\"#FF97FF\",\"symbol\":\"circle\"},\"mode\":\"markers\",\"name\":\" GURRAM MOUNIKA\",\"orientation\":\"v\",\"showlegend\":true,\"x\":[\"2023-07-11T00:00:00\"],\"xaxis\":\"x\",\"y\":[0.2],\"yaxis\":\"y\",\"type\":\"scatter\"},{\"hovertemplate\":\"Donor= GURRAM RAVI\\u003cbr\\u003eDate=%{x}\\u003cbr\\u003eDonation=%{y}\\u003cextra\\u003e\\u003c\\u002fextra\\u003e\",\"legendgroup\":\" GURRAM RAVI\",\"marker\":{\"color\":\"#FECB52\",\"symbol\":\"circle\"},\"mode\":\"markers\",\"name\":\" GURRAM RAVI\",\"orientation\":\"v\",\"showlegend\":true,\"x\":[\"2023-07-11T00:00:00\"],\"xaxis\":\"x\",\"y\":[0.2],\"yaxis\":\"y\",\"type\":\"scatter\"},{\"hovertemplate\":\"Donor= HERALD BEVERAGES PRIVATE LIMITED\\u003cbr\\u003eDate=%{x}\\u003cbr\\u003eDonation=%{y}\\u003cextra\\u003e\\u003c\\u002fextra\\u003e\",\"legendgroup\":\" HERALD BEVERAGES PRIVATE LIMITED\",\"marker\":{\"color\":\"#636efa\",\"symbol\":\"circle\"},\"mode\":\"markers\",\"name\":\" HERALD BEVERAGES PRIVATE LIMITED\",\"orientation\":\"v\",\"showlegend\":true,\"x\":[\"2023-07-11T00:00:00\"],\"xaxis\":\"x\",\"y\":[2.0],\"yaxis\":\"y\",\"type\":\"scatter\"},{\"hovertemplate\":\"Donor= HETERO DRUGS LIMITED\\u003cbr\\u003eDate=%{x}\\u003cbr\\u003eDonation=%{y}\\u003cextra\\u003e\\u003c\\u002fextra\\u003e\",\"legendgroup\":\" HETERO DRUGS LIMITED\",\"marker\":{\"color\":\"#EF553B\",\"symbol\":\"circle\"},\"mode\":\"markers\",\"name\":\" HETERO DRUGS LIMITED\",\"orientation\":\"v\",\"showlegend\":true,\"x\":[\"2023-07-11T00:00:00\"],\"xaxis\":\"x\",\"y\":[10.0],\"yaxis\":\"y\",\"type\":\"scatter\"},{\"hovertemplate\":\"Donor= HONOUR LAB LTD\\u003cbr\\u003eDate=%{x}\\u003cbr\\u003eDonation=%{y}\\u003cextra\\u003e\\u003c\\u002fextra\\u003e\",\"legendgroup\":\" HONOUR LAB LTD\",\"marker\":{\"color\":\"#00cc96\",\"symbol\":\"circle\"},\"mode\":\"markers\",\"name\":\" HONOUR LAB LTD\",\"orientation\":\"v\",\"showlegend\":true,\"x\":[\"2023-07-11T00:00:00\"],\"xaxis\":\"x\",\"y\":[10.0],\"yaxis\":\"y\",\"type\":\"scatter\"},{\"hovertemplate\":\"Donor= INDIA EXPOSITION MART LTD\\u003cbr\\u003eDate=%{x}\\u003cbr\\u003eDonation=%{y}\\u003cextra\\u003e\\u003c\\u002fextra\\u003e\",\"legendgroup\":\" INDIA EXPOSITION MART LTD\",\"marker\":{\"color\":\"#ab63fa\",\"symbol\":\"circle\"},\"mode\":\"markers\",\"name\":\" INDIA EXPOSITION MART LTD\",\"orientation\":\"v\",\"showlegend\":true,\"x\":[\"2023-07-11T00:00:00\"],\"xaxis\":\"x\",\"y\":[0.1],\"yaxis\":\"y\",\"type\":\"scatter\"},{\"hovertemplate\":\"Donor= MAHABIR BANKA\\u003cbr\\u003eDate=%{x}\\u003cbr\\u003eDonation=%{y}\\u003cextra\\u003e\\u003c\\u002fextra\\u003e\",\"legendgroup\":\" MAHABIR BANKA\",\"marker\":{\"color\":\"#FFA15A\",\"symbol\":\"circle\"},\"mode\":\"markers\",\"name\":\" MAHABIR BANKA\",\"orientation\":\"v\",\"showlegend\":true,\"x\":[\"2023-07-11T00:00:00\"],\"xaxis\":\"x\",\"y\":[0.5],\"yaxis\":\"y\",\"type\":\"scatter\"},{\"hovertemplate\":\"Donor= MANITHEJ ENTERPRISES\\u003cbr\\u003eDate=%{x}\\u003cbr\\u003eDonation=%{y}\\u003cextra\\u003e\\u003c\\u002fextra\\u003e\",\"legendgroup\":\" MANITHEJ ENTERPRISES\",\"marker\":{\"color\":\"#19d3f3\",\"symbol\":\"circle\"},\"mode\":\"markers\",\"name\":\" MANITHEJ ENTERPRISES\",\"orientation\":\"v\",\"showlegend\":true,\"x\":[\"2023-07-11T00:00:00\"],\"xaxis\":\"x\",\"y\":[0.1],\"yaxis\":\"y\",\"type\":\"scatter\"},{\"hovertemplate\":\"Donor= MONALISA BOTTLING INDUSTRIES PVT LTD\\u003cbr\\u003eDate=%{x}\\u003cbr\\u003eDonation=%{y}\\u003cextra\\u003e\\u003c\\u002fextra\\u003e\",\"legendgroup\":\" MONALISA BOTTLING INDUSTRIES PVT LTD\",\"marker\":{\"color\":\"#FF6692\",\"symbol\":\"circle\"},\"mode\":\"markers\",\"name\":\" MONALISA BOTTLING INDUSTRIES PVT LTD\",\"orientation\":\"v\",\"showlegend\":true,\"x\":[\"2023-07-11T00:00:00\"],\"xaxis\":\"x\",\"y\":[1.0],\"yaxis\":\"y\",\"type\":\"scatter\"},{\"hovertemplate\":\"Donor= PASURA AGRI SCIENCES LLP\\u003cbr\\u003eDate=%{x}\\u003cbr\\u003eDonation=%{y}\\u003cextra\\u003e\\u003c\\u002fextra\\u003e\",\"legendgroup\":\" PASURA AGRI SCIENCES LLP\",\"marker\":{\"color\":\"#B6E880\",\"symbol\":\"circle\"},\"mode\":\"markers\",\"name\":\" PASURA AGRI SCIENCES LLP\",\"orientation\":\"v\",\"showlegend\":true,\"x\":[\"2023-07-11T00:00:00\"],\"xaxis\":\"x\",\"y\":[0.25],\"yaxis\":\"y\",\"type\":\"scatter\"},{\"hovertemplate\":\"Donor= PASURA CROP CARE PVT LTD\\u003cbr\\u003eDate=%{x}\\u003cbr\\u003eDonation=%{y}\\u003cextra\\u003e\\u003c\\u002fextra\\u003e\",\"legendgroup\":\" PASURA CROP CARE PVT LTD\",\"marker\":{\"color\":\"#FF97FF\",\"symbol\":\"circle\"},\"mode\":\"markers\",\"name\":\" PASURA CROP CARE PVT LTD\",\"orientation\":\"v\",\"showlegend\":true,\"x\":[\"2023-07-11T00:00:00\"],\"xaxis\":\"x\",\"y\":[0.5],\"yaxis\":\"y\",\"type\":\"scatter\"},{\"hovertemplate\":\"Donor= PRIMUSGLOBALTECHNOLOGIESPVTLTD\\u003cbr\\u003eDate=%{x}\\u003cbr\\u003eDonation=%{y}\\u003cextra\\u003e\\u003c\\u002fextra\\u003e\",\"legendgroup\":\" PRIMUSGLOBALTECHNOLOGIESPVTLTD\",\"marker\":{\"color\":\"#FECB52\",\"symbol\":\"circle\"},\"mode\":\"markers\",\"name\":\" PRIMUSGLOBALTECHNOLOGIESPVTLTD\",\"orientation\":\"v\",\"showlegend\":true,\"x\":[\"2023-07-11T00:00:00\"],\"xaxis\":\"x\",\"y\":[0.25],\"yaxis\":\"y\",\"type\":\"scatter\"},{\"hovertemplate\":\"Donor= RANJIT BUILDCON LIMITED\\u003cbr\\u003eDate=%{x}\\u003cbr\\u003eDonation=%{y}\\u003cextra\\u003e\\u003c\\u002fextra\\u003e\",\"legendgroup\":\" RANJIT BUILDCON LIMITED\",\"marker\":{\"color\":\"#636efa\",\"symbol\":\"circle\"},\"mode\":\"markers\",\"name\":\" RANJIT BUILDCON LIMITED\",\"orientation\":\"v\",\"showlegend\":true,\"x\":[\"2023-07-11T00:00:00\"],\"xaxis\":\"x\",\"y\":[2.0],\"yaxis\":\"y\",\"type\":\"scatter\"},{\"hovertemplate\":\"Donor= RANJIT PROJECTS PRIVATE LIMITED\\u003cbr\\u003eDate=%{x}\\u003cbr\\u003eDonation=%{y}\\u003cextra\\u003e\\u003c\\u002fextra\\u003e\",\"legendgroup\":\" RANJIT PROJECTS PRIVATE LIMITED\",\"marker\":{\"color\":\"#EF553B\",\"symbol\":\"circle\"},\"mode\":\"markers\",\"name\":\" RANJIT PROJECTS PRIVATE LIMITED\",\"orientation\":\"v\",\"showlegend\":true,\"x\":[\"2023-07-11T00:00:00\"],\"xaxis\":\"x\",\"y\":[1.0],\"yaxis\":\"y\",\"type\":\"scatter\"},{\"hovertemplate\":\"Donor= RANJIT TOLL ROAD PRIVATE LIMITED\\u003cbr\\u003eDate=%{x}\\u003cbr\\u003eDonation=%{y}\\u003cextra\\u003e\\u003c\\u002fextra\\u003e\",\"legendgroup\":\" RANJIT TOLL ROAD PRIVATE LIMITED\",\"marker\":{\"color\":\"#00cc96\",\"symbol\":\"circle\"},\"mode\":\"markers\",\"name\":\" RANJIT TOLL ROAD PRIVATE LIMITED\",\"orientation\":\"v\",\"showlegend\":true,\"x\":[\"2023-07-11T00:00:00\"],\"xaxis\":\"x\",\"y\":[2.0],\"yaxis\":\"y\",\"type\":\"scatter\"},{\"hovertemplate\":\"Donor= RAUNAK GUPTA\\u003cbr\\u003eDate=%{x}\\u003cbr\\u003eDonation=%{y}\\u003cextra\\u003e\\u003c\\u002fextra\\u003e\",\"legendgroup\":\" RAUNAK GUPTA\",\"marker\":{\"color\":\"#ab63fa\",\"symbol\":\"circle\"},\"mode\":\"markers\",\"name\":\" RAUNAK GUPTA\",\"orientation\":\"v\",\"showlegend\":true,\"x\":[\"2023-07-11T00:00:00\"],\"xaxis\":\"x\",\"y\":[0.5],\"yaxis\":\"y\",\"type\":\"scatter\"},{\"hovertemplate\":\"Donor= RPSG VENTURES LIMITED\\u003cbr\\u003eDate=%{x}\\u003cbr\\u003eDonation=%{y}\\u003cextra\\u003e\\u003c\\u002fextra\\u003e\",\"legendgroup\":\" RPSG VENTURES LIMITED\",\"marker\":{\"color\":\"#FFA15A\",\"symbol\":\"circle\"},\"mode\":\"markers\",\"name\":\" RPSG VENTURES LIMITED\",\"orientation\":\"v\",\"showlegend\":true,\"x\":[\"2023-07-11T00:00:00\"],\"xaxis\":\"x\",\"y\":[3.0],\"yaxis\":\"y\",\"type\":\"scatter\"},{\"hovertemplate\":\"Donor= SANDEEP AUTO LINES\\u003cbr\\u003eDate=%{x}\\u003cbr\\u003eDonation=%{y}\\u003cextra\\u003e\\u003c\\u002fextra\\u003e\",\"legendgroup\":\" SANDEEP AUTO LINES\",\"marker\":{\"color\":\"#19d3f3\",\"symbol\":\"circle\"},\"mode\":\"markers\",\"name\":\" SANDEEP AUTO LINES\",\"orientation\":\"v\",\"showlegend\":true,\"x\":[\"2023-07-11T00:00:00\"],\"xaxis\":\"x\",\"y\":[2.0],\"yaxis\":\"y\",\"type\":\"scatter\"},{\"hovertemplate\":\"Donor= SATEC ENVIR ENGINEERING I PVT LTD\\u003cbr\\u003eDate=%{x}\\u003cbr\\u003eDonation=%{y}\\u003cextra\\u003e\\u003c\\u002fextra\\u003e\",\"legendgroup\":\" SATEC ENVIR ENGINEERING I PVT LTD\",\"marker\":{\"color\":\"#FF6692\",\"symbol\":\"circle\"},\"mode\":\"markers\",\"name\":\" SATEC ENVIR ENGINEERING I PVT LTD\",\"orientation\":\"v\",\"showlegend\":true,\"x\":[\"2023-07-11T00:00:00\"],\"xaxis\":\"x\",\"y\":[1.5],\"yaxis\":\"y\",\"type\":\"scatter\"},{\"hovertemplate\":\"Donor= THE PUNJAB BUSINESS SUPPLY COMPANY\\u003cbr\\u003eDate=%{x}\\u003cbr\\u003eDonation=%{y}\\u003cextra\\u003e\\u003c\\u002fextra\\u003e\",\"legendgroup\":\" THE PUNJAB BUSINESS SUPPLY COMPANY\",\"marker\":{\"color\":\"#B6E880\",\"symbol\":\"circle\"},\"mode\":\"markers\",\"name\":\" THE PUNJAB BUSINESS SUPPLY COMPANY\",\"orientation\":\"v\",\"showlegend\":true,\"x\":[\"2023-07-11T00:00:00\"],\"xaxis\":\"x\",\"y\":[7.8],\"yaxis\":\"y\",\"type\":\"scatter\"},{\"hovertemplate\":\"Donor= UTKAL ALUMINA INTERNATIONAL LIMITED\\u003cbr\\u003eDate=%{x}\\u003cbr\\u003eDonation=%{y}\\u003cextra\\u003e\\u003c\\u002fextra\\u003e\",\"legendgroup\":\" UTKAL ALUMINA INTERNATIONAL LIMITED\",\"marker\":{\"color\":\"#FF97FF\",\"symbol\":\"circle\"},\"mode\":\"markers\",\"name\":\" UTKAL ALUMINA INTERNATIONAL LIMITED\",\"orientation\":\"v\",\"showlegend\":true,\"x\":[\"2023-07-11T00:00:00\"],\"xaxis\":\"x\",\"y\":[35.0],\"yaxis\":\"y\",\"type\":\"scatter\"},{\"hovertemplate\":\"Donor= VEDANTA LIMITED\\u003cbr\\u003eDate=%{x}\\u003cbr\\u003eDonation=%{y}\\u003cextra\\u003e\\u003c\\u002fextra\\u003e\",\"legendgroup\":\" VEDANTA LIMITED\",\"marker\":{\"color\":\"#FECB52\",\"symbol\":\"circle\"},\"mode\":\"markers\",\"name\":\" VEDANTA LIMITED\",\"orientation\":\"v\",\"showlegend\":true,\"x\":[\"2023-07-11T00:00:00\",\"2023-07-12T00:00:00\"],\"xaxis\":\"x\",\"y\":[25.0,15.0],\"yaxis\":\"y\",\"type\":\"scatter\"},{\"hovertemplate\":\"Donor= VIVA HIGHWAYS LTD\\u003cbr\\u003eDate=%{x}\\u003cbr\\u003eDonation=%{y}\\u003cextra\\u003e\\u003c\\u002fextra\\u003e\",\"legendgroup\":\" VIVA HIGHWAYS LTD\",\"marker\":{\"color\":\"#636efa\",\"symbol\":\"circle\"},\"mode\":\"markers\",\"name\":\" VIVA HIGHWAYS LTD\",\"orientation\":\"v\",\"showlegend\":true,\"x\":[\"2023-07-11T00:00:00\"],\"xaxis\":\"x\",\"y\":[5.0],\"yaxis\":\"y\",\"type\":\"scatter\"},{\"hovertemplate\":\"Donor= ABHINANDANSTOCKBROKINGPVTLTD\\u003cbr\\u003eDate=%{x}\\u003cbr\\u003eDonation=%{y}\\u003cextra\\u003e\\u003c\\u002fextra\\u003e\",\"legendgroup\":\" ABHINANDANSTOCKBROKINGPVTLTD\",\"marker\":{\"color\":\"#EF553B\",\"symbol\":\"circle\"},\"mode\":\"markers\",\"name\":\" ABHINANDANSTOCKBROKINGPVTLTD\",\"orientation\":\"v\",\"showlegend\":true,\"x\":[\"2023-07-12T00:00:00\"],\"xaxis\":\"x\",\"y\":[1.0],\"yaxis\":\"y\",\"type\":\"scatter\"},{\"hovertemplate\":\"Donor= ALA RAMANJANEYULU\\u003cbr\\u003eDate=%{x}\\u003cbr\\u003eDonation=%{y}\\u003cextra\\u003e\\u003c\\u002fextra\\u003e\",\"legendgroup\":\" ALA RAMANJANEYULU\",\"marker\":{\"color\":\"#00cc96\",\"symbol\":\"circle\"},\"mode\":\"markers\",\"name\":\" ALA RAMANJANEYULU\",\"orientation\":\"v\",\"showlegend\":true,\"x\":[\"2023-07-12T00:00:00\"],\"xaxis\":\"x\",\"y\":[0.05],\"yaxis\":\"y\",\"type\":\"scatter\"},{\"hovertemplate\":\"Donor= AMD ENGINEERING CONSULTANTS\\u003cbr\\u003eDate=%{x}\\u003cbr\\u003eDonation=%{y}\\u003cextra\\u003e\\u003c\\u002fextra\\u003e\",\"legendgroup\":\" AMD ENGINEERING CONSULTANTS\",\"marker\":{\"color\":\"#ab63fa\",\"symbol\":\"circle\"},\"mode\":\"markers\",\"name\":\" AMD ENGINEERING CONSULTANTS\",\"orientation\":\"v\",\"showlegend\":true,\"x\":[\"2023-07-12T00:00:00\"],\"xaxis\":\"x\",\"y\":[0.75],\"yaxis\":\"y\",\"type\":\"scatter\"},{\"hovertemplate\":\"Donor= B G SHIRKE CONSTRUCTION TECHNOLOGY PVT L TD\\u003cbr\\u003eDate=%{x}\\u003cbr\\u003eDonation=%{y}\\u003cextra\\u003e\\u003c\\u002fextra\\u003e\",\"legendgroup\":\" B G SHIRKE CONSTRUCTION TECHNOLOGY PVT L TD\",\"marker\":{\"color\":\"#FFA15A\",\"symbol\":\"circle\"},\"mode\":\"markers\",\"name\":\" B G SHIRKE CONSTRUCTION TECHNOLOGY PVT L TD\",\"orientation\":\"v\",\"showlegend\":true,\"x\":[\"2023-07-12T00:00:00\"],\"xaxis\":\"x\",\"y\":[25.0],\"yaxis\":\"y\",\"type\":\"scatter\"},{\"hovertemplate\":\"Donor= BIOLOGICAL E LIMITED\\u003cbr\\u003eDate=%{x}\\u003cbr\\u003eDonation=%{y}\\u003cextra\\u003e\\u003c\\u002fextra\\u003e\",\"legendgroup\":\" BIOLOGICAL E LIMITED\",\"marker\":{\"color\":\"#19d3f3\",\"symbol\":\"circle\"},\"mode\":\"markers\",\"name\":\" BIOLOGICAL E LIMITED\",\"orientation\":\"v\",\"showlegend\":true,\"x\":[\"2023-07-12T00:00:00\"],\"xaxis\":\"x\",\"y\":[5.0],\"yaxis\":\"y\",\"type\":\"scatter\"},{\"hovertemplate\":\"Donor= BOSE CONSTRUCTIONS\\u003cbr\\u003eDate=%{x}\\u003cbr\\u003eDonation=%{y}\\u003cextra\\u003e\\u003c\\u002fextra\\u003e\",\"legendgroup\":\" BOSE CONSTRUCTIONS\",\"marker\":{\"color\":\"#FF6692\",\"symbol\":\"circle\"},\"mode\":\"markers\",\"name\":\" BOSE CONSTRUCTIONS\",\"orientation\":\"v\",\"showlegend\":true,\"x\":[\"2023-07-12T00:00:00\"],\"xaxis\":\"x\",\"y\":[0.5],\"yaxis\":\"y\",\"type\":\"scatter\"},{\"hovertemplate\":\"Donor= BUTTA HOSPITALITIES PVT LTD\\u003cbr\\u003eDate=%{x}\\u003cbr\\u003eDonation=%{y}\\u003cextra\\u003e\\u003c\\u002fextra\\u003e\",\"legendgroup\":\" BUTTA HOSPITALITIES PVT LTD\",\"marker\":{\"color\":\"#B6E880\",\"symbol\":\"circle\"},\"mode\":\"markers\",\"name\":\" BUTTA HOSPITALITIES PVT LTD\",\"orientation\":\"v\",\"showlegend\":true,\"x\":[\"2023-07-12T00:00:00\"],\"xaxis\":\"x\",\"y\":[0.25],\"yaxis\":\"y\",\"type\":\"scatter\"},{\"hovertemplate\":\"Donor= BYRAPANENI SHIVARJUN RAO\\u003cbr\\u003eDate=%{x}\\u003cbr\\u003eDonation=%{y}\\u003cextra\\u003e\\u003c\\u002fextra\\u003e\",\"legendgroup\":\" BYRAPANENI SHIVARJUN RAO\",\"marker\":{\"color\":\"#FF97FF\",\"symbol\":\"circle\"},\"mode\":\"markers\",\"name\":\" BYRAPANENI SHIVARJUN RAO\",\"orientation\":\"v\",\"showlegend\":true,\"x\":[\"2023-07-12T00:00:00\"],\"xaxis\":\"x\",\"y\":[0.25],\"yaxis\":\"y\",\"type\":\"scatter\"},{\"hovertemplate\":\"Donor= CYBER HOMES\\u003cbr\\u003eDate=%{x}\\u003cbr\\u003eDonation=%{y}\\u003cextra\\u003e\\u003c\\u002fextra\\u003e\",\"legendgroup\":\" CYBER HOMES\",\"marker\":{\"color\":\"#FECB52\",\"symbol\":\"circle\"},\"mode\":\"markers\",\"name\":\" CYBER HOMES\",\"orientation\":\"v\",\"showlegend\":true,\"x\":[\"2023-07-12T00:00:00\"],\"xaxis\":\"x\",\"y\":[1.0],\"yaxis\":\"y\",\"type\":\"scatter\"},{\"hovertemplate\":\"Donor= DINESHCHANDRA R AGRAWAL INFRACON PVT LTD\\u003cbr\\u003eDate=%{x}\\u003cbr\\u003eDonation=%{y}\\u003cextra\\u003e\\u003c\\u002fextra\\u003e\",\"legendgroup\":\" DINESHCHANDRA R AGRAWAL INFRACON PVT LTD\",\"marker\":{\"color\":\"#636efa\",\"symbol\":\"circle\"},\"mode\":\"markers\",\"name\":\" DINESHCHANDRA R AGRAWAL INFRACON PVT LTD\",\"orientation\":\"v\",\"showlegend\":true,\"x\":[\"2023-07-12T00:00:00\"],\"xaxis\":\"x\",\"y\":[3.0],\"yaxis\":\"y\",\"type\":\"scatter\"},{\"hovertemplate\":\"Donor= DOYEN ENGINEERING SERVICES PRIVATE\\u003cbr\\u003eDate=%{x}\\u003cbr\\u003eDonation=%{y}\\u003cextra\\u003e\\u003c\\u002fextra\\u003e\",\"legendgroup\":\" DOYEN ENGINEERING SERVICES PRIVATE\",\"marker\":{\"color\":\"#EF553B\",\"symbol\":\"circle\"},\"mode\":\"markers\",\"name\":\" DOYEN ENGINEERING SERVICES PRIVATE\",\"orientation\":\"v\",\"showlegend\":true,\"x\":[\"2023-07-12T00:00:00\"],\"xaxis\":\"x\",\"y\":[1.0],\"yaxis\":\"y\",\"type\":\"scatter\"},{\"hovertemplate\":\"Donor= EAGLE INFRA INDIA LTD\\u003cbr\\u003eDate=%{x}\\u003cbr\\u003eDonation=%{y}\\u003cextra\\u003e\\u003c\\u002fextra\\u003e\",\"legendgroup\":\" EAGLE INFRA INDIA LTD\",\"marker\":{\"color\":\"#00cc96\",\"symbol\":\"circle\"},\"mode\":\"markers\",\"name\":\" EAGLE INFRA INDIA LTD\",\"orientation\":\"v\",\"showlegend\":true,\"x\":[\"2023-07-12T00:00:00\"],\"xaxis\":\"x\",\"y\":[4.0],\"yaxis\":\"y\",\"type\":\"scatter\"},{\"hovertemplate\":\"Donor= EVEREST ENTERPRISE\\u003cbr\\u003eDate=%{x}\\u003cbr\\u003eDonation=%{y}\\u003cextra\\u003e\\u003c\\u002fextra\\u003e\",\"legendgroup\":\" EVEREST ENTERPRISE\",\"marker\":{\"color\":\"#ab63fa\",\"symbol\":\"circle\"},\"mode\":\"markers\",\"name\":\" EVEREST ENTERPRISE\",\"orientation\":\"v\",\"showlegend\":true,\"x\":[\"2023-07-12T00:00:00\"],\"xaxis\":\"x\",\"y\":[0.2],\"yaxis\":\"y\",\"type\":\"scatter\"},{\"hovertemplate\":\"Donor= GANGADASU BASIVI REDDY\\u003cbr\\u003eDate=%{x}\\u003cbr\\u003eDonation=%{y}\\u003cextra\\u003e\\u003c\\u002fextra\\u003e\",\"legendgroup\":\" GANGADASU BASIVI REDDY\",\"marker\":{\"color\":\"#FFA15A\",\"symbol\":\"circle\"},\"mode\":\"markers\",\"name\":\" GANGADASU BASIVI REDDY\",\"orientation\":\"v\",\"showlegend\":true,\"x\":[\"2023-07-12T00:00:00\"],\"xaxis\":\"x\",\"y\":[0.08],\"yaxis\":\"y\",\"type\":\"scatter\"},{\"hovertemplate\":\"Donor= GANGES JUTE PRIVATE LTD\\u003cbr\\u003eDate=%{x}\\u003cbr\\u003eDonation=%{y}\\u003cextra\\u003e\\u003c\\u002fextra\\u003e\",\"legendgroup\":\" GANGES JUTE PRIVATE LTD\",\"marker\":{\"color\":\"#19d3f3\",\"symbol\":\"circle\"},\"mode\":\"markers\",\"name\":\" GANGES JUTE PRIVATE LTD\",\"orientation\":\"v\",\"showlegend\":true,\"x\":[\"2023-07-12T00:00:00\"],\"xaxis\":\"x\",\"y\":[1.0],\"yaxis\":\"y\",\"type\":\"scatter\"},{\"hovertemplate\":\"Donor= GOWREDDY HARIPRASAD REDDY\\u003cbr\\u003eDate=%{x}\\u003cbr\\u003eDonation=%{y}\\u003cextra\\u003e\\u003c\\u002fextra\\u003e\",\"legendgroup\":\" GOWREDDY HARIPRASAD REDDY\",\"marker\":{\"color\":\"#FF6692\",\"symbol\":\"circle\"},\"mode\":\"markers\",\"name\":\" GOWREDDY HARIPRASAD REDDY\",\"orientation\":\"v\",\"showlegend\":true,\"x\":[\"2023-07-12T00:00:00\"],\"xaxis\":\"x\",\"y\":[0.05],\"yaxis\":\"y\",\"type\":\"scatter\"},{\"hovertemplate\":\"Donor= HINDYS LAB PVT. LTD. PREVIOUSLY HIND LI FE SCIENCES PVT LTD\\u003cbr\\u003eDate=%{x}\\u003cbr\\u003eDonation=%{y}\\u003cextra\\u003e\\u003c\\u002fextra\\u003e\",\"legendgroup\":\" HINDYS LAB PVT. LTD. PREVIOUSLY HIND LI FE SCIENCES PVT LTD\",\"marker\":{\"color\":\"#B6E880\",\"symbol\":\"circle\"},\"mode\":\"markers\",\"name\":\" HINDYS LAB PVT. LTD. PREVIOUSLY HIND LI FE SCIENCES PVT LTD\",\"orientation\":\"v\",\"showlegend\":true,\"x\":[\"2023-07-12T00:00:00\"],\"xaxis\":\"x\",\"y\":[5.0],\"yaxis\":\"y\",\"type\":\"scatter\"},{\"hovertemplate\":\"Donor= ICONICA PROJECTS\\u003cbr\\u003eDate=%{x}\\u003cbr\\u003eDonation=%{y}\\u003cextra\\u003e\\u003c\\u002fextra\\u003e\",\"legendgroup\":\" ICONICA PROJECTS\",\"marker\":{\"color\":\"#FF97FF\",\"symbol\":\"circle\"},\"mode\":\"markers\",\"name\":\" ICONICA PROJECTS\",\"orientation\":\"v\",\"showlegend\":true,\"x\":[\"2023-07-12T00:00:00\"],\"xaxis\":\"x\",\"y\":[1.0],\"yaxis\":\"y\",\"type\":\"scatter\"},{\"hovertemplate\":\"Donor= ISTAMSETTY SONY\\u003cbr\\u003eDate=%{x}\\u003cbr\\u003eDonation=%{y}\\u003cextra\\u003e\\u003c\\u002fextra\\u003e\",\"legendgroup\":\" ISTAMSETTY SONY\",\"marker\":{\"color\":\"#FECB52\",\"symbol\":\"circle\"},\"mode\":\"markers\",\"name\":\" ISTAMSETTY SONY\",\"orientation\":\"v\",\"showlegend\":true,\"x\":[\"2023-07-12T00:00:00\"],\"xaxis\":\"x\",\"y\":[0.12],\"yaxis\":\"y\",\"type\":\"scatter\"},{\"hovertemplate\":\"Donor= KAMNA CREDITS AND PROMOTORS PVT LTD\\u003cbr\\u003eDate=%{x}\\u003cbr\\u003eDonation=%{y}\\u003cextra\\u003e\\u003c\\u002fextra\\u003e\",\"legendgroup\":\" KAMNA CREDITS AND PROMOTORS PVT LTD\",\"marker\":{\"color\":\"#636efa\",\"symbol\":\"circle\"},\"mode\":\"markers\",\"name\":\" KAMNA CREDITS AND PROMOTORS PVT LTD\",\"orientation\":\"v\",\"showlegend\":true,\"x\":[\"2023-07-12T00:00:00\"],\"xaxis\":\"x\",\"y\":[5.0],\"yaxis\":\"y\",\"type\":\"scatter\"},{\"hovertemplate\":\"Donor= KARTHIKEYA CONSTRUCTIONS\\u003cbr\\u003eDate=%{x}\\u003cbr\\u003eDonation=%{y}\\u003cextra\\u003e\\u003c\\u002fextra\\u003e\",\"legendgroup\":\" KARTHIKEYA CONSTRUCTIONS\",\"marker\":{\"color\":\"#EF553B\",\"symbol\":\"circle\"},\"mode\":\"markers\",\"name\":\" KARTHIKEYA CONSTRUCTIONS\",\"orientation\":\"v\",\"showlegend\":true,\"x\":[\"2023-07-12T00:00:00\"],\"xaxis\":\"x\",\"y\":[1.0],\"yaxis\":\"y\",\"type\":\"scatter\"},{\"hovertemplate\":\"Donor= KARTIKEYA INFRA\\u003cbr\\u003eDate=%{x}\\u003cbr\\u003eDonation=%{y}\\u003cextra\\u003e\\u003c\\u002fextra\\u003e\",\"legendgroup\":\" KARTIKEYA INFRA\",\"marker\":{\"color\":\"#00cc96\",\"symbol\":\"circle\"},\"mode\":\"markers\",\"name\":\" KARTIKEYA INFRA\",\"orientation\":\"v\",\"showlegend\":true,\"x\":[\"2023-07-12T00:00:00\"],\"xaxis\":\"x\",\"y\":[0.09],\"yaxis\":\"y\",\"type\":\"scatter\"},{\"hovertemplate\":\"Donor= KMK DEVELOPERS PVT LTD ASHISH BHAS\\u003cbr\\u003eDate=%{x}\\u003cbr\\u003eDonation=%{y}\\u003cextra\\u003e\\u003c\\u002fextra\\u003e\",\"legendgroup\":\" KMK DEVELOPERS PVT LTD ASHISH BHAS\",\"marker\":{\"color\":\"#ab63fa\",\"symbol\":\"circle\"},\"mode\":\"markers\",\"name\":\" KMK DEVELOPERS PVT LTD ASHISH BHAS\",\"orientation\":\"v\",\"showlegend\":true,\"x\":[\"2023-07-12T00:00:00\"],\"xaxis\":\"x\",\"y\":[1.0],\"yaxis\":\"y\",\"type\":\"scatter\"},{\"hovertemplate\":\"Donor= LCCPROJECTSPRIVATELIMITED\\u003cbr\\u003eDate=%{x}\\u003cbr\\u003eDonation=%{y}\\u003cextra\\u003e\\u003c\\u002fextra\\u003e\",\"legendgroup\":\" LCCPROJECTSPRIVATELIMITED\",\"marker\":{\"color\":\"#FFA15A\",\"symbol\":\"circle\"},\"mode\":\"markers\",\"name\":\" LCCPROJECTSPRIVATELIMITED\",\"orientation\":\"v\",\"showlegend\":true,\"x\":[\"2023-07-12T00:00:00\"],\"xaxis\":\"x\",\"y\":[18.5],\"yaxis\":\"y\",\"type\":\"scatter\"},{\"hovertemplate\":\"Donor= MEGHA ENGINEERING AND INFRASTRUCTURES LI MITED\\u003cbr\\u003eDate=%{x}\\u003cbr\\u003eDonation=%{y}\\u003cextra\\u003e\\u003c\\u002fextra\\u003e\",\"legendgroup\":\" MEGHA ENGINEERING AND INFRASTRUCTURES LI MITED\",\"marker\":{\"color\":\"#19d3f3\",\"symbol\":\"circle\"},\"mode\":\"markers\",\"name\":\" MEGHA ENGINEERING AND INFRASTRUCTURES LI MITED\",\"orientation\":\"v\",\"showlegend\":true,\"x\":[\"2023-07-12T00:00:00\"],\"xaxis\":\"x\",\"y\":[75.0],\"yaxis\":\"y\",\"type\":\"scatter\"},{\"hovertemplate\":\"Donor= MOUNT EVEREST BREWERIES LIMITED\\u003cbr\\u003eDate=%{x}\\u003cbr\\u003eDonation=%{y}\\u003cextra\\u003e\\u003c\\u002fextra\\u003e\",\"legendgroup\":\" MOUNT EVEREST BREWERIES LIMITED\",\"marker\":{\"color\":\"#FF6692\",\"symbol\":\"circle\"},\"mode\":\"markers\",\"name\":\" MOUNT EVEREST BREWERIES LIMITED\",\"orientation\":\"v\",\"showlegend\":true,\"x\":[\"2023-07-12T00:00:00\"],\"xaxis\":\"x\",\"y\":[1.99],\"yaxis\":\"y\",\"type\":\"scatter\"},{\"hovertemplate\":\"Donor= NIRANJAN LAL AND SONS HUF\\u003cbr\\u003eDate=%{x}\\u003cbr\\u003eDonation=%{y}\\u003cextra\\u003e\\u003c\\u002fextra\\u003e\",\"legendgroup\":\" NIRANJAN LAL AND SONS HUF\",\"marker\":{\"color\":\"#B6E880\",\"symbol\":\"circle\"},\"mode\":\"markers\",\"name\":\" NIRANJAN LAL AND SONS HUF\",\"orientation\":\"v\",\"showlegend\":true,\"x\":[\"2023-07-12T00:00:00\"],\"xaxis\":\"x\",\"y\":[0.75],\"yaxis\":\"y\",\"type\":\"scatter\"},{\"hovertemplate\":\"Donor= NIRAV MAROTI\\u003cbr\\u003eDate=%{x}\\u003cbr\\u003eDonation=%{y}\\u003cextra\\u003e\\u003c\\u002fextra\\u003e\",\"legendgroup\":\" NIRAV MAROTI\",\"marker\":{\"color\":\"#FF97FF\",\"symbol\":\"circle\"},\"mode\":\"markers\",\"name\":\" NIRAV MAROTI\",\"orientation\":\"v\",\"showlegend\":true,\"x\":[\"2023-07-12T00:00:00\"],\"xaxis\":\"x\",\"y\":[0.15],\"yaxis\":\"y\",\"type\":\"scatter\"},{\"hovertemplate\":\"Donor= NVSUBBA RAO\\u003cbr\\u003eDate=%{x}\\u003cbr\\u003eDonation=%{y}\\u003cextra\\u003e\\u003c\\u002fextra\\u003e\",\"legendgroup\":\" NVSUBBA RAO\",\"marker\":{\"color\":\"#FECB52\",\"symbol\":\"circle\"},\"mode\":\"markers\",\"name\":\" NVSUBBA RAO\",\"orientation\":\"v\",\"showlegend\":true,\"x\":[\"2023-07-12T00:00:00\"],\"xaxis\":\"x\",\"y\":[1.5],\"yaxis\":\"y\",\"type\":\"scatter\"},{\"hovertemplate\":\"Donor= PCBL LIMITED\\u003cbr\\u003eDate=%{x}\\u003cbr\\u003eDonation=%{y}\\u003cextra\\u003e\\u003c\\u002fextra\\u003e\",\"legendgroup\":\" PCBL LIMITED\",\"marker\":{\"color\":\"#636efa\",\"symbol\":\"circle\"},\"mode\":\"markers\",\"name\":\" PCBL LIMITED\",\"orientation\":\"v\",\"showlegend\":true,\"x\":[\"2023-07-12T00:00:00\"],\"xaxis\":\"x\",\"y\":[5.0],\"yaxis\":\"y\",\"type\":\"scatter\"},{\"hovertemplate\":\"Donor= PRADEEP AGGARWAL\\u003cbr\\u003eDate=%{x}\\u003cbr\\u003eDonation=%{y}\\u003cextra\\u003e\\u003c\\u002fextra\\u003e\",\"legendgroup\":\" PRADEEP AGGARWAL\",\"marker\":{\"color\":\"#EF553B\",\"symbol\":\"circle\"},\"mode\":\"markers\",\"name\":\" PRADEEP AGGARWAL\",\"orientation\":\"v\",\"showlegend\":true,\"x\":[\"2023-07-12T00:00:00\"],\"xaxis\":\"x\",\"y\":[1.0],\"yaxis\":\"y\",\"type\":\"scatter\"},{\"hovertemplate\":\"Donor= PREMIER PLASTIC INDUSTRIES\\u003cbr\\u003eDate=%{x}\\u003cbr\\u003eDonation=%{y}\\u003cextra\\u003e\\u003c\\u002fextra\\u003e\",\"legendgroup\":\" PREMIER PLASTIC INDUSTRIES\",\"marker\":{\"color\":\"#00cc96\",\"symbol\":\"circle\"},\"mode\":\"markers\",\"name\":\" PREMIER PLASTIC INDUSTRIES\",\"orientation\":\"v\",\"showlegend\":true,\"x\":[\"2023-07-12T00:00:00\"],\"xaxis\":\"x\",\"y\":[0.09],\"yaxis\":\"y\",\"type\":\"scatter\"},{\"hovertemplate\":\"Donor= R K V FABTECH INDIA PRIVATE LIMITED\\u003cbr\\u003eDate=%{x}\\u003cbr\\u003eDonation=%{y}\\u003cextra\\u003e\\u003c\\u002fextra\\u003e\",\"legendgroup\":\" R K V FABTECH INDIA PRIVATE LIMITED\",\"marker\":{\"color\":\"#ab63fa\",\"symbol\":\"circle\"},\"mode\":\"markers\",\"name\":\" R K V FABTECH INDIA PRIVATE LIMITED\",\"orientation\":\"v\",\"showlegend\":true,\"x\":[\"2023-07-12T00:00:00\"],\"xaxis\":\"x\",\"y\":[0.4],\"yaxis\":\"y\",\"type\":\"scatter\"},{\"hovertemplate\":\"Donor= R N CONSTRUCTIONS\\u003cbr\\u003eDate=%{x}\\u003cbr\\u003eDonation=%{y}\\u003cextra\\u003e\\u003c\\u002fextra\\u003e\",\"legendgroup\":\" R N CONSTRUCTIONS\",\"marker\":{\"color\":\"#FFA15A\",\"symbol\":\"circle\"},\"mode\":\"markers\",\"name\":\" R N CONSTRUCTIONS\",\"orientation\":\"v\",\"showlegend\":true,\"x\":[\"2023-07-12T00:00:00\"],\"xaxis\":\"x\",\"y\":[2.0],\"yaxis\":\"y\",\"type\":\"scatter\"},{\"hovertemplate\":\"Donor= R V SUBRAHAMANYAM ISTAMSETTY\\u003cbr\\u003eDate=%{x}\\u003cbr\\u003eDonation=%{y}\\u003cextra\\u003e\\u003c\\u002fextra\\u003e\",\"legendgroup\":\" R V SUBRAHAMANYAM ISTAMSETTY\",\"marker\":{\"color\":\"#19d3f3\",\"symbol\":\"circle\"},\"mode\":\"markers\",\"name\":\" R V SUBRAHAMANYAM ISTAMSETTY\",\"orientation\":\"v\",\"showlegend\":true,\"x\":[\"2023-07-12T00:00:00\"],\"xaxis\":\"x\",\"y\":[0.13],\"yaxis\":\"y\",\"type\":\"scatter\"},{\"hovertemplate\":\"Donor= RAMESH KRISHNA ENGINEERS PRIVATE LIMITED\\u003cbr\\u003eDate=%{x}\\u003cbr\\u003eDonation=%{y}\\u003cextra\\u003e\\u003c\\u002fextra\\u003e\",\"legendgroup\":\" RAMESH KRISHNA ENGINEERS PRIVATE LIMITED\",\"marker\":{\"color\":\"#FF6692\",\"symbol\":\"circle\"},\"mode\":\"markers\",\"name\":\" RAMESH KRISHNA ENGINEERS PRIVATE LIMITED\",\"orientation\":\"v\",\"showlegend\":true,\"x\":[\"2023-07-12T00:00:00\"],\"xaxis\":\"x\",\"y\":[0.2],\"yaxis\":\"y\",\"type\":\"scatter\"},{\"hovertemplate\":\"Donor= SHRI SHAMLAJI SALES PRIVATE LIMITED\\u003cbr\\u003eDate=%{x}\\u003cbr\\u003eDonation=%{y}\\u003cextra\\u003e\\u003c\\u002fextra\\u003e\",\"legendgroup\":\" SHRI SHAMLAJI SALES PRIVATE LIMITED\",\"marker\":{\"color\":\"#B6E880\",\"symbol\":\"circle\"},\"mode\":\"markers\",\"name\":\" SHRI SHAMLAJI SALES PRIVATE LIMITED\",\"orientation\":\"v\",\"showlegend\":true,\"x\":[\"2023-07-12T00:00:00\"],\"xaxis\":\"x\",\"y\":[10.0],\"yaxis\":\"y\",\"type\":\"scatter\"},{\"hovertemplate\":\"Donor= SIAN INFRA AND REALCON LLP\\u003cbr\\u003eDate=%{x}\\u003cbr\\u003eDonation=%{y}\\u003cextra\\u003e\\u003c\\u002fextra\\u003e\",\"legendgroup\":\" SIAN INFRA AND REALCON LLP\",\"marker\":{\"color\":\"#FF97FF\",\"symbol\":\"circle\"},\"mode\":\"markers\",\"name\":\" SIAN INFRA AND REALCON LLP\",\"orientation\":\"v\",\"showlegend\":true,\"x\":[\"2023-07-12T00:00:00\"],\"xaxis\":\"x\",\"y\":[0.25],\"yaxis\":\"y\",\"type\":\"scatter\"},{\"hovertemplate\":\"Donor= SLRV HOMES LLP\\u003cbr\\u003eDate=%{x}\\u003cbr\\u003eDonation=%{y}\\u003cextra\\u003e\\u003c\\u002fextra\\u003e\",\"legendgroup\":\" SLRV HOMES LLP\",\"marker\":{\"color\":\"#FECB52\",\"symbol\":\"circle\"},\"mode\":\"markers\",\"name\":\" SLRV HOMES LLP\",\"orientation\":\"v\",\"showlegend\":true,\"x\":[\"2023-07-12T00:00:00\"],\"xaxis\":\"x\",\"y\":[2.0],\"yaxis\":\"y\",\"type\":\"scatter\"},{\"hovertemplate\":\"Donor= SOM DISTILERIES PRIVATE LTD\\u003cbr\\u003eDate=%{x}\\u003cbr\\u003eDonation=%{y}\\u003cextra\\u003e\\u003c\\u002fextra\\u003e\",\"legendgroup\":\" SOM DISTILERIES PRIVATE LTD\",\"marker\":{\"color\":\"#636efa\",\"symbol\":\"circle\"},\"mode\":\"markers\",\"name\":\" SOM DISTILERIES PRIVATE LTD\",\"orientation\":\"v\",\"showlegend\":true,\"x\":[\"2023-07-12T00:00:00\"],\"xaxis\":\"x\",\"y\":[1.0],\"yaxis\":\"y\",\"type\":\"scatter\"},{\"hovertemplate\":\"Donor= SR DEVELOPERS\\u003cbr\\u003eDate=%{x}\\u003cbr\\u003eDonation=%{y}\\u003cextra\\u003e\\u003c\\u002fextra\\u003e\",\"legendgroup\":\" SR DEVELOPERS\",\"marker\":{\"color\":\"#EF553B\",\"symbol\":\"circle\"},\"mode\":\"markers\",\"name\":\" SR DEVELOPERS\",\"orientation\":\"v\",\"showlegend\":true,\"x\":[\"2023-07-12T00:00:00\"],\"xaxis\":\"x\",\"y\":[1.0],\"yaxis\":\"y\",\"type\":\"scatter\"},{\"hovertemplate\":\"Donor= SRI SAI BIO ORGANICS OPR BY R V SUBRAHM ANYAM I\\u003cbr\\u003eDate=%{x}\\u003cbr\\u003eDonation=%{y}\\u003cextra\\u003e\\u003c\\u002fextra\\u003e\",\"legendgroup\":\" SRI SAI BIO ORGANICS OPR BY R V SUBRAHM ANYAM I\",\"marker\":{\"color\":\"#00cc96\",\"symbol\":\"circle\"},\"mode\":\"markers\",\"name\":\" SRI SAI BIO ORGANICS OPR BY R V SUBRAHM ANYAM I\",\"orientation\":\"v\",\"showlegend\":true,\"x\":[\"2023-07-12T00:00:00\"],\"xaxis\":\"x\",\"y\":[3.55],\"yaxis\":\"y\",\"type\":\"scatter\"},{\"hovertemplate\":\"Donor= SRI SIDDARTHA CONSTRUCTIONS\\u003cbr\\u003eDate=%{x}\\u003cbr\\u003eDonation=%{y}\\u003cextra\\u003e\\u003c\\u002fextra\\u003e\",\"legendgroup\":\" SRI SIDDARTHA CONSTRUCTIONS\",\"marker\":{\"color\":\"#ab63fa\",\"symbol\":\"circle\"},\"mode\":\"markers\",\"name\":\" SRI SIDDARTHA CONSTRUCTIONS\",\"orientation\":\"v\",\"showlegend\":true,\"x\":[\"2023-07-12T00:00:00\"],\"xaxis\":\"x\",\"y\":[1.0],\"yaxis\":\"y\",\"type\":\"scatter\"},{\"hovertemplate\":\"Donor= SRI VIGNEWARA CONSTRUCTIONS\\u003cbr\\u003eDate=%{x}\\u003cbr\\u003eDonation=%{y}\\u003cextra\\u003e\\u003c\\u002fextra\\u003e\",\"legendgroup\":\" SRI VIGNEWARA CONSTRUCTIONS\",\"marker\":{\"color\":\"#FFA15A\",\"symbol\":\"circle\"},\"mode\":\"markers\",\"name\":\" SRI VIGNEWARA CONSTRUCTIONS\",\"orientation\":\"v\",\"showlegend\":true,\"x\":[\"2023-07-12T00:00:00\"],\"xaxis\":\"x\",\"y\":[0.09],\"yaxis\":\"y\",\"type\":\"scatter\"},{\"hovertemplate\":\"Donor= SRIVAY INDUSTRIES LIMITED\\u003cbr\\u003eDate=%{x}\\u003cbr\\u003eDonation=%{y}\\u003cextra\\u003e\\u003c\\u002fextra\\u003e\",\"legendgroup\":\" SRIVAY INDUSTRIES LIMITED\",\"marker\":{\"color\":\"#19d3f3\",\"symbol\":\"circle\"},\"mode\":\"markers\",\"name\":\" SRIVAY INDUSTRIES LIMITED\",\"orientation\":\"v\",\"showlegend\":true,\"x\":[\"2023-07-12T00:00:00\"],\"xaxis\":\"x\",\"y\":[1.49],\"yaxis\":\"y\",\"type\":\"scatter\"},{\"hovertemplate\":\"Donor= SRIVILAS HYDROTECH PVT LTD\\u003cbr\\u003eDate=%{x}\\u003cbr\\u003eDonation=%{y}\\u003cextra\\u003e\\u003c\\u002fextra\\u003e\",\"legendgroup\":\" SRIVILAS HYDROTECH PVT LTD\",\"marker\":{\"color\":\"#FF6692\",\"symbol\":\"circle\"},\"mode\":\"markers\",\"name\":\" SRIVILAS HYDROTECH PVT LTD\",\"orientation\":\"v\",\"showlegend\":true,\"x\":[\"2023-07-12T00:00:00\"],\"xaxis\":\"x\",\"y\":[1.0],\"yaxis\":\"y\",\"type\":\"scatter\"},{\"hovertemplate\":\"Donor= SUNIL ENGINEERING AND SYSTEMS\\u003cbr\\u003eDate=%{x}\\u003cbr\\u003eDonation=%{y}\\u003cextra\\u003e\\u003c\\u002fextra\\u003e\",\"legendgroup\":\" SUNIL ENGINEERING AND SYSTEMS\",\"marker\":{\"color\":\"#B6E880\",\"symbol\":\"circle\"},\"mode\":\"markers\",\"name\":\" SUNIL ENGINEERING AND SYSTEMS\",\"orientation\":\"v\",\"showlegend\":true,\"x\":[\"2023-07-12T00:00:00\"],\"xaxis\":\"x\",\"y\":[1.5],\"yaxis\":\"y\",\"type\":\"scatter\"},{\"hovertemplate\":\"Donor= THE ANGUS COMPANY LIMITED\\u003cbr\\u003eDate=%{x}\\u003cbr\\u003eDonation=%{y}\\u003cextra\\u003e\\u003c\\u002fextra\\u003e\",\"legendgroup\":\" THE ANGUS COMPANY LIMITED\",\"marker\":{\"color\":\"#FF97FF\",\"symbol\":\"circle\"},\"mode\":\"markers\",\"name\":\" THE ANGUS COMPANY LIMITED\",\"orientation\":\"v\",\"showlegend\":true,\"x\":[\"2023-07-12T00:00:00\"],\"xaxis\":\"x\",\"y\":[2.0],\"yaxis\":\"y\",\"type\":\"scatter\"},{\"hovertemplate\":\"Donor= THE GANGES MANUFACTURING CO LTD\\u003cbr\\u003eDate=%{x}\\u003cbr\\u003eDonation=%{y}\\u003cextra\\u003e\\u003c\\u002fextra\\u003e\",\"legendgroup\":\" THE GANGES MANUFACTURING CO LTD\",\"marker\":{\"color\":\"#FECB52\",\"symbol\":\"circle\"},\"mode\":\"markers\",\"name\":\" THE GANGES MANUFACTURING CO LTD\",\"orientation\":\"v\",\"showlegend\":true,\"x\":[\"2023-07-12T00:00:00\"],\"xaxis\":\"x\",\"y\":[1.0],\"yaxis\":\"y\",\"type\":\"scatter\"},{\"hovertemplate\":\"Donor= TSHARKS INFRA DEVELOPERS PRIVATE LI\\u003cbr\\u003eDate=%{x}\\u003cbr\\u003eDonation=%{y}\\u003cextra\\u003e\\u003c\\u002fextra\\u003e\",\"legendgroup\":\" TSHARKS INFRA DEVELOPERS PRIVATE LI\",\"marker\":{\"color\":\"#636efa\",\"symbol\":\"circle\"},\"mode\":\"markers\",\"name\":\" TSHARKS INFRA DEVELOPERS PRIVATE LI\",\"orientation\":\"v\",\"showlegend\":true,\"x\":[\"2023-07-12T00:00:00\"],\"xaxis\":\"x\",\"y\":[3.5],\"yaxis\":\"y\",\"type\":\"scatter\"},{\"hovertemplate\":\"Donor= TSHARKS OVERSEAS EDUCATION CONSULTA\\u003cbr\\u003eDate=%{x}\\u003cbr\\u003eDonation=%{y}\\u003cextra\\u003e\\u003c\\u002fextra\\u003e\",\"legendgroup\":\" TSHARKS OVERSEAS EDUCATION CONSULTA\",\"marker\":{\"color\":\"#EF553B\",\"symbol\":\"circle\"},\"mode\":\"markers\",\"name\":\" TSHARKS OVERSEAS EDUCATION CONSULTA\",\"orientation\":\"v\",\"showlegend\":true,\"x\":[\"2023-07-12T00:00:00\"],\"xaxis\":\"x\",\"y\":[4.0],\"yaxis\":\"y\",\"type\":\"scatter\"},{\"hovertemplate\":\"Donor= VASAVI AVENUES LLP\\u003cbr\\u003eDate=%{x}\\u003cbr\\u003eDonation=%{y}\\u003cextra\\u003e\\u003c\\u002fextra\\u003e\",\"legendgroup\":\" VASAVI AVENUES LLP\",\"marker\":{\"color\":\"#00cc96\",\"symbol\":\"circle\"},\"mode\":\"markers\",\"name\":\" VASAVI AVENUES LLP\",\"orientation\":\"v\",\"showlegend\":true,\"x\":[\"2023-07-12T00:00:00\"],\"xaxis\":\"x\",\"y\":[5.0],\"yaxis\":\"y\",\"type\":\"scatter\"},{\"hovertemplate\":\"Donor= VENKATESH NARAYAN REDDY\\u003cbr\\u003eDate=%{x}\\u003cbr\\u003eDonation=%{y}\\u003cextra\\u003e\\u003c\\u002fextra\\u003e\",\"legendgroup\":\" VENKATESH NARAYAN REDDY\",\"marker\":{\"color\":\"#ab63fa\",\"symbol\":\"circle\"},\"mode\":\"markers\",\"name\":\" VENKATESH NARAYAN REDDY\",\"orientation\":\"v\",\"showlegend\":true,\"x\":[\"2023-07-12T00:00:00\"],\"xaxis\":\"x\",\"y\":[0.2],\"yaxis\":\"y\",\"type\":\"scatter\"},{\"hovertemplate\":\"Donor= VIKAS AGGARWAL\\u003cbr\\u003eDate=%{x}\\u003cbr\\u003eDonation=%{y}\\u003cextra\\u003e\\u003c\\u002fextra\\u003e\",\"legendgroup\":\" VIKAS AGGARWAL\",\"marker\":{\"color\":\"#FFA15A\",\"symbol\":\"circle\"},\"mode\":\"markers\",\"name\":\" VIKAS AGGARWAL\",\"orientation\":\"v\",\"showlegend\":true,\"x\":[\"2023-07-12T00:00:00\"],\"xaxis\":\"x\",\"y\":[1.0],\"yaxis\":\"y\",\"type\":\"scatter\"},{\"hovertemplate\":\"Donor= VINAY AGARWAL\\u003cbr\\u003eDate=%{x}\\u003cbr\\u003eDonation=%{y}\\u003cextra\\u003e\\u003c\\u002fextra\\u003e\",\"legendgroup\":\" VINAY AGARWAL\",\"marker\":{\"color\":\"#19d3f3\",\"symbol\":\"circle\"},\"mode\":\"markers\",\"name\":\" VINAY AGARWAL\",\"orientation\":\"v\",\"showlegend\":true,\"x\":[\"2023-07-12T00:00:00\"],\"xaxis\":\"x\",\"y\":[0.08],\"yaxis\":\"y\",\"type\":\"scatter\"},{\"hovertemplate\":\"Donor= WESTWELL GASES PRIVATE LIMITED\\u003cbr\\u003eDate=%{x}\\u003cbr\\u003eDonation=%{y}\\u003cextra\\u003e\\u003c\\u002fextra\\u003e\",\"legendgroup\":\" WESTWELL GASES PRIVATE LIMITED\",\"marker\":{\"color\":\"#FF6692\",\"symbol\":\"circle\"},\"mode\":\"markers\",\"name\":\" WESTWELL GASES PRIVATE LIMITED\",\"orientation\":\"v\",\"showlegend\":true,\"x\":[\"2023-07-12T00:00:00\"],\"xaxis\":\"x\",\"y\":[3.0],\"yaxis\":\"y\",\"type\":\"scatter\"}],                        {\"template\":{\"data\":{\"histogram2dcontour\":[{\"type\":\"histogram2dcontour\",\"colorbar\":{\"outlinewidth\":0,\"ticks\":\"\"},\"colorscale\":[[0.0,\"#0d0887\"],[0.1111111111111111,\"#46039f\"],[0.2222222222222222,\"#7201a8\"],[0.3333333333333333,\"#9c179e\"],[0.4444444444444444,\"#bd3786\"],[0.5555555555555556,\"#d8576b\"],[0.6666666666666666,\"#ed7953\"],[0.7777777777777778,\"#fb9f3a\"],[0.8888888888888888,\"#fdca26\"],[1.0,\"#f0f921\"]]}],\"choropleth\":[{\"type\":\"choropleth\",\"colorbar\":{\"outlinewidth\":0,\"ticks\":\"\"}}],\"histogram2d\":[{\"type\":\"histogram2d\",\"colorbar\":{\"outlinewidth\":0,\"ticks\":\"\"},\"colorscale\":[[0.0,\"#0d0887\"],[0.1111111111111111,\"#46039f\"],[0.2222222222222222,\"#7201a8\"],[0.3333333333333333,\"#9c179e\"],[0.4444444444444444,\"#bd3786\"],[0.5555555555555556,\"#d8576b\"],[0.6666666666666666,\"#ed7953\"],[0.7777777777777778,\"#fb9f3a\"],[0.8888888888888888,\"#fdca26\"],[1.0,\"#f0f921\"]]}],\"heatmap\":[{\"type\":\"heatmap\",\"colorbar\":{\"outlinewidth\":0,\"ticks\":\"\"},\"colorscale\":[[0.0,\"#0d0887\"],[0.1111111111111111,\"#46039f\"],[0.2222222222222222,\"#7201a8\"],[0.3333333333333333,\"#9c179e\"],[0.4444444444444444,\"#bd3786\"],[0.5555555555555556,\"#d8576b\"],[0.6666666666666666,\"#ed7953\"],[0.7777777777777778,\"#fb9f3a\"],[0.8888888888888888,\"#fdca26\"],[1.0,\"#f0f921\"]]}],\"heatmapgl\":[{\"type\":\"heatmapgl\",\"colorbar\":{\"outlinewidth\":0,\"ticks\":\"\"},\"colorscale\":[[0.0,\"#0d0887\"],[0.1111111111111111,\"#46039f\"],[0.2222222222222222,\"#7201a8\"],[0.3333333333333333,\"#9c179e\"],[0.4444444444444444,\"#bd3786\"],[0.5555555555555556,\"#d8576b\"],[0.6666666666666666,\"#ed7953\"],[0.7777777777777778,\"#fb9f3a\"],[0.8888888888888888,\"#fdca26\"],[1.0,\"#f0f921\"]]}],\"contourcarpet\":[{\"type\":\"contourcarpet\",\"colorbar\":{\"outlinewidth\":0,\"ticks\":\"\"}}],\"contour\":[{\"type\":\"contour\",\"colorbar\":{\"outlinewidth\":0,\"ticks\":\"\"},\"colorscale\":[[0.0,\"#0d0887\"],[0.1111111111111111,\"#46039f\"],[0.2222222222222222,\"#7201a8\"],[0.3333333333333333,\"#9c179e\"],[0.4444444444444444,\"#bd3786\"],[0.5555555555555556,\"#d8576b\"],[0.6666666666666666,\"#ed7953\"],[0.7777777777777778,\"#fb9f3a\"],[0.8888888888888888,\"#fdca26\"],[1.0,\"#f0f921\"]]}],\"surface\":[{\"type\":\"surface\",\"colorbar\":{\"outlinewidth\":0,\"ticks\":\"\"},\"colorscale\":[[0.0,\"#0d0887\"],[0.1111111111111111,\"#46039f\"],[0.2222222222222222,\"#7201a8\"],[0.3333333333333333,\"#9c179e\"],[0.4444444444444444,\"#bd3786\"],[0.5555555555555556,\"#d8576b\"],[0.6666666666666666,\"#ed7953\"],[0.7777777777777778,\"#fb9f3a\"],[0.8888888888888888,\"#fdca26\"],[1.0,\"#f0f921\"]]}],\"mesh3d\":[{\"type\":\"mesh3d\",\"colorbar\":{\"outlinewidth\":0,\"ticks\":\"\"}}],\"scatter\":[{\"fillpattern\":{\"fillmode\":\"overlay\",\"size\":10,\"solidity\":0.2},\"type\":\"scatter\"}],\"parcoords\":[{\"type\":\"parcoords\",\"line\":{\"colorbar\":{\"outlinewidth\":0,\"ticks\":\"\"}}}],\"scatterpolargl\":[{\"type\":\"scatterpolargl\",\"marker\":{\"colorbar\":{\"outlinewidth\":0,\"ticks\":\"\"}}}],\"bar\":[{\"error_x\":{\"color\":\"#2a3f5f\"},\"error_y\":{\"color\":\"#2a3f5f\"},\"marker\":{\"line\":{\"color\":\"#E5ECF6\",\"width\":0.5},\"pattern\":{\"fillmode\":\"overlay\",\"size\":10,\"solidity\":0.2}},\"type\":\"bar\"}],\"scattergeo\":[{\"type\":\"scattergeo\",\"marker\":{\"colorbar\":{\"outlinewidth\":0,\"ticks\":\"\"}}}],\"scatterpolar\":[{\"type\":\"scatterpolar\",\"marker\":{\"colorbar\":{\"outlinewidth\":0,\"ticks\":\"\"}}}],\"histogram\":[{\"marker\":{\"pattern\":{\"fillmode\":\"overlay\",\"size\":10,\"solidity\":0.2}},\"type\":\"histogram\"}],\"scattergl\":[{\"type\":\"scattergl\",\"marker\":{\"colorbar\":{\"outlinewidth\":0,\"ticks\":\"\"}}}],\"scatter3d\":[{\"type\":\"scatter3d\",\"line\":{\"colorbar\":{\"outlinewidth\":0,\"ticks\":\"\"}},\"marker\":{\"colorbar\":{\"outlinewidth\":0,\"ticks\":\"\"}}}],\"scattermapbox\":[{\"type\":\"scattermapbox\",\"marker\":{\"colorbar\":{\"outlinewidth\":0,\"ticks\":\"\"}}}],\"scatterternary\":[{\"type\":\"scatterternary\",\"marker\":{\"colorbar\":{\"outlinewidth\":0,\"ticks\":\"\"}}}],\"scattercarpet\":[{\"type\":\"scattercarpet\",\"marker\":{\"colorbar\":{\"outlinewidth\":0,\"ticks\":\"\"}}}],\"carpet\":[{\"aaxis\":{\"endlinecolor\":\"#2a3f5f\",\"gridcolor\":\"white\",\"linecolor\":\"white\",\"minorgridcolor\":\"white\",\"startlinecolor\":\"#2a3f5f\"},\"baxis\":{\"endlinecolor\":\"#2a3f5f\",\"gridcolor\":\"white\",\"linecolor\":\"white\",\"minorgridcolor\":\"white\",\"startlinecolor\":\"#2a3f5f\"},\"type\":\"carpet\"}],\"table\":[{\"cells\":{\"fill\":{\"color\":\"#EBF0F8\"},\"line\":{\"color\":\"white\"}},\"header\":{\"fill\":{\"color\":\"#C8D4E3\"},\"line\":{\"color\":\"white\"}},\"type\":\"table\"}],\"barpolar\":[{\"marker\":{\"line\":{\"color\":\"#E5ECF6\",\"width\":0.5},\"pattern\":{\"fillmode\":\"overlay\",\"size\":10,\"solidity\":0.2}},\"type\":\"barpolar\"}],\"pie\":[{\"automargin\":true,\"type\":\"pie\"}]},\"layout\":{\"autotypenumbers\":\"strict\",\"colorway\":[\"#636efa\",\"#EF553B\",\"#00cc96\",\"#ab63fa\",\"#FFA15A\",\"#19d3f3\",\"#FF6692\",\"#B6E880\",\"#FF97FF\",\"#FECB52\"],\"font\":{\"color\":\"#2a3f5f\"},\"hovermode\":\"closest\",\"hoverlabel\":{\"align\":\"left\"},\"paper_bgcolor\":\"white\",\"plot_bgcolor\":\"#E5ECF6\",\"polar\":{\"bgcolor\":\"#E5ECF6\",\"angularaxis\":{\"gridcolor\":\"white\",\"linecolor\":\"white\",\"ticks\":\"\"},\"radialaxis\":{\"gridcolor\":\"white\",\"linecolor\":\"white\",\"ticks\":\"\"}},\"ternary\":{\"bgcolor\":\"#E5ECF6\",\"aaxis\":{\"gridcolor\":\"white\",\"linecolor\":\"white\",\"ticks\":\"\"},\"baxis\":{\"gridcolor\":\"white\",\"linecolor\":\"white\",\"ticks\":\"\"},\"caxis\":{\"gridcolor\":\"white\",\"linecolor\":\"white\",\"ticks\":\"\"}},\"coloraxis\":{\"colorbar\":{\"outlinewidth\":0,\"ticks\":\"\"}},\"colorscale\":{\"sequential\":[[0.0,\"#0d0887\"],[0.1111111111111111,\"#46039f\"],[0.2222222222222222,\"#7201a8\"],[0.3333333333333333,\"#9c179e\"],[0.4444444444444444,\"#bd3786\"],[0.5555555555555556,\"#d8576b\"],[0.6666666666666666,\"#ed7953\"],[0.7777777777777778,\"#fb9f3a\"],[0.8888888888888888,\"#fdca26\"],[1.0,\"#f0f921\"]],\"sequentialminus\":[[0.0,\"#0d0887\"],[0.1111111111111111,\"#46039f\"],[0.2222222222222222,\"#7201a8\"],[0.3333333333333333,\"#9c179e\"],[0.4444444444444444,\"#bd3786\"],[0.5555555555555556,\"#d8576b\"],[0.6666666666666666,\"#ed7953\"],[0.7777777777777778,\"#fb9f3a\"],[0.8888888888888888,\"#fdca26\"],[1.0,\"#f0f921\"]],\"diverging\":[[0,\"#8e0152\"],[0.1,\"#c51b7d\"],[0.2,\"#de77ae\"],[0.3,\"#f1b6da\"],[0.4,\"#fde0ef\"],[0.5,\"#f7f7f7\"],[0.6,\"#e6f5d0\"],[0.7,\"#b8e186\"],[0.8,\"#7fbc41\"],[0.9,\"#4d9221\"],[1,\"#276419\"]]},\"xaxis\":{\"gridcolor\":\"white\",\"linecolor\":\"white\",\"ticks\":\"\",\"title\":{\"standoff\":15},\"zerolinecolor\":\"white\",\"automargin\":true,\"zerolinewidth\":2},\"yaxis\":{\"gridcolor\":\"white\",\"linecolor\":\"white\",\"ticks\":\"\",\"title\":{\"standoff\":15},\"zerolinecolor\":\"white\",\"automargin\":true,\"zerolinewidth\":2},\"scene\":{\"xaxis\":{\"backgroundcolor\":\"#E5ECF6\",\"gridcolor\":\"white\",\"linecolor\":\"white\",\"showbackground\":true,\"ticks\":\"\",\"zerolinecolor\":\"white\",\"gridwidth\":2},\"yaxis\":{\"backgroundcolor\":\"#E5ECF6\",\"gridcolor\":\"white\",\"linecolor\":\"white\",\"showbackground\":true,\"ticks\":\"\",\"zerolinecolor\":\"white\",\"gridwidth\":2},\"zaxis\":{\"backgroundcolor\":\"#E5ECF6\",\"gridcolor\":\"white\",\"linecolor\":\"white\",\"showbackground\":true,\"ticks\":\"\",\"zerolinecolor\":\"white\",\"gridwidth\":2}},\"shapedefaults\":{\"line\":{\"color\":\"#2a3f5f\"}},\"annotationdefaults\":{\"arrowcolor\":\"#2a3f5f\",\"arrowhead\":0,\"arrowwidth\":1},\"geo\":{\"bgcolor\":\"white\",\"landcolor\":\"#E5ECF6\",\"subunitcolor\":\"white\",\"showland\":true,\"showlakes\":true,\"lakecolor\":\"white\"},\"title\":{\"x\":0.05},\"mapbox\":{\"style\":\"light\"}}}},                        {\"responsive\": true}                    ).then(function(){\n",
       "                            \n",
       "var gd = document.getElementById('78853f62-103f-4019-abaa-df85f3b6382c');\n",
       "var x = new MutationObserver(function (mutations, observer) {{\n",
       "        var display = window.getComputedStyle(gd).display;\n",
       "        if (!display || display === 'none') {{\n",
       "            console.log([gd, 'removed!']);\n",
       "            Plotly.purge(gd);\n",
       "            observer.disconnect();\n",
       "        }}\n",
       "}});\n",
       "\n",
       "// Listen for the removal of the full notebook cells\n",
       "var notebookContainer = gd.closest('#notebook-container');\n",
       "if (notebookContainer) {{\n",
       "    x.observe(notebookContainer, {childList: true});\n",
       "}}\n",
       "\n",
       "// Listen for the clearing of the current output cell\n",
       "var outputEl = gd.closest('.output');\n",
       "if (outputEl) {{\n",
       "    x.observe(outputEl, {childList: true});\n",
       "}}\n",
       "\n",
       "                        })                };                });            </script>        </div>"
      ]
     },
     "metadata": {},
     "output_type": "display_data"
    }
   ],
   "source": [
    "import plotly.express as px\n",
    "import plotly as plt\n",
    "\n",
    "# Assuming df_party and df_donor are your DataFrames\n",
    "# Replace 'date', 'funds', 'party', 'donor', and 'donation' with the actual column names in your DataFrames\n",
    "\n",
    "# Create bar plot for df_party\n",
    "\n",
    "bar_fig = px.bar(plt_data_party, x='date', y='funds', color='party',\n",
    "                 labels={'date': 'Date', 'funds': 'Funds', 'party': 'Party'},\n",
    "                 title='Funds Raised by Party Over Time')\n",
    "\n",
    "# bar_fig.update_xaxes(tick0 = df_party['date'][0],dtick = 60)\n",
    "# bar_fig.update(dtick = 0)\n",
    "# Create scatter plot for df_donor\n",
    "scatter_fig = px.scatter(plt_data_donor, x='date', y='donation',color='donor',\n",
    "                         labels={'date': 'Date', 'donation': 'Donation', 'donor': 'Donor'},\n",
    "                         title='Donations Over Time by Donor')\n",
    "\n",
    "# Create a combined figure\n",
    "combined_fig = plt.graph_objects.Figure()\n",
    "\n",
    "# Add traces from the bar plot\n",
    "for trace in bar_fig.data:\n",
    "    combined_fig.add_trace(trace)\n",
    "\n",
    "    \n",
    "# Add traces from the scatter plot\n",
    "for trace in scatter_fig.data:\n",
    "    combined_fig.add_trace(trace)\n",
    "\n",
    "    \n",
    "# Show the combined plot\n",
    "\n",
    "combined_fig.show()\n"
   ]
  },
  {
   "cell_type": "code",
   "execution_count": null,
   "id": "727cb00d",
   "metadata": {},
   "outputs": [],
   "source": []
  }
 ],
 "metadata": {
  "kernelspec": {
   "display_name": "Python 3 (ipykernel)",
   "language": "python",
   "name": "python3"
  },
  "language_info": {
   "codemirror_mode": {
    "name": "ipython",
    "version": 3
   },
   "file_extension": ".py",
   "mimetype": "text/x-python",
   "name": "python",
   "nbconvert_exporter": "python",
   "pygments_lexer": "ipython3",
   "version": "3.10.12"
  }
 },
 "nbformat": 4,
 "nbformat_minor": 5
}
